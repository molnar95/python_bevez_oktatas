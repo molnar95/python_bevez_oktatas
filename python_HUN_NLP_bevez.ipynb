{
 "cells": [
  {
   "cell_type": "markdown",
   "metadata": {},
   "source": [
    "# Magyar NLP bemutatása"
   ]
  },
  {
   "cell_type": "code",
   "execution_count": null,
   "metadata": {},
   "outputs": [],
   "source": [
    "! pip install https://github.com/oroszgy/spacy-hungarian-models/releases/download/hu_core_ud_lg-0.3.1/hu_core_ud_lg-0.3.1-py3-none-any.whl"
   ]
  },
  {
   "cell_type": "code",
   "execution_count": 1,
   "metadata": {},
   "outputs": [
    {
     "name": "stderr",
     "output_type": "stream",
     "text": [
      "C:\\Users\\molna\\anaconda3\\lib\\site-packages\\spacy\\util.py:275: UserWarning: [W031] Model 'hu_core_ud_lg' (0.3.1) requires spaCy v2.1 and is incompatible with the current spaCy version (2.3.2). This may lead to unexpected results or runtime errors. To resolve this, download a newer compatible model or retrain your custom model with the current spaCy version. For more details and available updates, run: python -m spacy validate\n",
      "  warnings.warn(warn_msg)\n"
     ]
    }
   ],
   "source": [
    "import hu_core_ud_lg as hu\n",
    "nlp = hu.load()"
   ]
  },
  {
   "cell_type": "code",
   "execution_count": 2,
   "metadata": {},
   "outputs": [
    {
     "data": {
      "text/plain": [
       "<spacy.lang.hu.Hungarian at 0x19e4a484288>"
      ]
     },
     "execution_count": 2,
     "metadata": {},
     "output_type": "execute_result"
    }
   ],
   "source": [
    "nlp"
   ]
  },
  {
   "cell_type": "code",
   "execution_count": 3,
   "metadata": {},
   "outputs": [
    {
     "data": {
      "text/plain": [
       "[('hun_sentencizer', <hu_core_ud_lg.HunSentencizer at 0x19e4d7cfd08>),\n",
       " ('tagger', <spacy.pipeline.pipes.Tagger at 0x19e4d7cfc88>),\n",
       " ('hun_lemmatizer', <hu_core_ud_lg.HunLemmatizer at 0x19e4a4f6d88>),\n",
       " ('parser', <spacy.pipeline.pipes.DependencyParser at 0x19e4e23cee8>),\n",
       " ('ner', <spacy.pipeline.pipes.EntityRecognizer at 0x19e4e23cfa8>)]"
      ]
     },
     "execution_count": 3,
     "metadata": {},
     "output_type": "execute_result"
    }
   ],
   "source": [
    "nlp.pipeline"
   ]
  },
  {
   "cell_type": "code",
   "execution_count": 4,
   "metadata": {},
   "outputs": [
    {
     "data": {
      "text/plain": [
       "A 19. percben 1–11-re állt a címvédő Vardar a kézilabda BL-ben"
      ]
     },
     "execution_count": 4,
     "metadata": {},
     "output_type": "execute_result"
    }
   ],
   "source": [
    "doc = nlp(\"A 19. percben 1–11-re állt a címvédő Vardar a kézilabda BL-ben\")\n",
    "doc"
   ]
  },
  {
   "cell_type": "code",
   "execution_count": 10,
   "metadata": {},
   "outputs": [
    {
     "name": "stdout",
     "output_type": "stream",
     "text": [
      "Text            \t| Lemma         \t| PoS\t| Dep\t| Shape     \t| Stop\n",
      "--------------------------------------------------------------------------------------------------------------\n",
      "A               \t| a             \t| DET\t| det\t| X         \t| True\n",
      "19.             \t| 19.           \t| ADJ\t| amod\t| dd.       \t| False\n",
      "percben         \t| perc          \t| NOUN\t| nmod\t| xxxx      \t| False\n",
      "1–11-re         \t| 1–11.         \t| NOUN\t| obj\t| d–dd-xx   \t| False\n",
      "állt            \t| áll           \t| VERB\t| ROOT\t| xxxx      \t| False\n",
      "a               \t| a             \t| DET\t| det\t| x         \t| True\n",
      "címvédő         \t| címvédő       \t| NOUN\t| nmod\t| xxxx      \t| False\n",
      "Vardar          \t| Vardar        \t| PROPN\t| nsubj\t| Xxxxx     \t| False\n",
      "a               \t| a             \t| DET\t| det\t| x         \t| True\n",
      "kézilabda       \t| kézilabda     \t| NOUN\t| nmod\t| xxxx      \t| False\n",
      "BL-ben          \t| BL            \t| NOUN\t| nmod\t| XX-xxx    \t| False\n"
     ]
    }
   ],
   "source": [
    "print(\"{0: <16}\".format(\"Text\"), \"{0: <14}\".format(\"Lemma\"), \"PoS\", \"Dep\", \"{0: <10}\".format(\"Shape\"), \"Stop\", sep=\"\\t| \")\n",
    "print(\"-\"*110)\n",
    "for token in doc:\n",
    "    print(\n",
    "        \"{0: <16}\".format(token.text), \"{0: <14}\".format(token.lemma_), token.pos_, \n",
    "        token.dep_,\n",
    "        \"{0: <10}\".format(token.shape_), token.is_stop, \n",
    "        sep=\"\\t| \"\n",
    "    )"
   ]
  },
  {
   "cell_type": "code",
   "execution_count": 11,
   "metadata": {},
   "outputs": [
    {
     "data": {
      "text/html": [
       "<span class=\"tex2jax_ignore\"><svg xmlns=\"http://www.w3.org/2000/svg\" xmlns:xlink=\"http://www.w3.org/1999/xlink\" xml:lang=\"hu\" id=\"afbc3b78fd1c470b83907245abb0a830-0\" class=\"displacy\" width=\"1975\" height=\"574.5\" direction=\"ltr\" style=\"max-width: none; height: 574.5px; color: #000000; background: #ffffff; font-family: Arial; direction: ltr\">\n",
       "<text class=\"displacy-token\" fill=\"currentColor\" text-anchor=\"middle\" y=\"484.5\">\n",
       "    <tspan class=\"displacy-word\" fill=\"currentColor\" x=\"50\">A</tspan>\n",
       "    <tspan class=\"displacy-tag\" dy=\"2em\" fill=\"currentColor\" x=\"50\">DET</tspan>\n",
       "</text>\n",
       "\n",
       "<text class=\"displacy-token\" fill=\"currentColor\" text-anchor=\"middle\" y=\"484.5\">\n",
       "    <tspan class=\"displacy-word\" fill=\"currentColor\" x=\"225\">19.</tspan>\n",
       "    <tspan class=\"displacy-tag\" dy=\"2em\" fill=\"currentColor\" x=\"225\">ADJ</tspan>\n",
       "</text>\n",
       "\n",
       "<text class=\"displacy-token\" fill=\"currentColor\" text-anchor=\"middle\" y=\"484.5\">\n",
       "    <tspan class=\"displacy-word\" fill=\"currentColor\" x=\"400\">percben</tspan>\n",
       "    <tspan class=\"displacy-tag\" dy=\"2em\" fill=\"currentColor\" x=\"400\">NOUN</tspan>\n",
       "</text>\n",
       "\n",
       "<text class=\"displacy-token\" fill=\"currentColor\" text-anchor=\"middle\" y=\"484.5\">\n",
       "    <tspan class=\"displacy-word\" fill=\"currentColor\" x=\"575\">1–11-re</tspan>\n",
       "    <tspan class=\"displacy-tag\" dy=\"2em\" fill=\"currentColor\" x=\"575\">NOUN</tspan>\n",
       "</text>\n",
       "\n",
       "<text class=\"displacy-token\" fill=\"currentColor\" text-anchor=\"middle\" y=\"484.5\">\n",
       "    <tspan class=\"displacy-word\" fill=\"currentColor\" x=\"750\">állt</tspan>\n",
       "    <tspan class=\"displacy-tag\" dy=\"2em\" fill=\"currentColor\" x=\"750\">VERB</tspan>\n",
       "</text>\n",
       "\n",
       "<text class=\"displacy-token\" fill=\"currentColor\" text-anchor=\"middle\" y=\"484.5\">\n",
       "    <tspan class=\"displacy-word\" fill=\"currentColor\" x=\"925\">a</tspan>\n",
       "    <tspan class=\"displacy-tag\" dy=\"2em\" fill=\"currentColor\" x=\"925\">DET</tspan>\n",
       "</text>\n",
       "\n",
       "<text class=\"displacy-token\" fill=\"currentColor\" text-anchor=\"middle\" y=\"484.5\">\n",
       "    <tspan class=\"displacy-word\" fill=\"currentColor\" x=\"1100\">címvédő</tspan>\n",
       "    <tspan class=\"displacy-tag\" dy=\"2em\" fill=\"currentColor\" x=\"1100\">NOUN</tspan>\n",
       "</text>\n",
       "\n",
       "<text class=\"displacy-token\" fill=\"currentColor\" text-anchor=\"middle\" y=\"484.5\">\n",
       "    <tspan class=\"displacy-word\" fill=\"currentColor\" x=\"1275\">Vardar</tspan>\n",
       "    <tspan class=\"displacy-tag\" dy=\"2em\" fill=\"currentColor\" x=\"1275\">PROPN</tspan>\n",
       "</text>\n",
       "\n",
       "<text class=\"displacy-token\" fill=\"currentColor\" text-anchor=\"middle\" y=\"484.5\">\n",
       "    <tspan class=\"displacy-word\" fill=\"currentColor\" x=\"1450\">a</tspan>\n",
       "    <tspan class=\"displacy-tag\" dy=\"2em\" fill=\"currentColor\" x=\"1450\">DET</tspan>\n",
       "</text>\n",
       "\n",
       "<text class=\"displacy-token\" fill=\"currentColor\" text-anchor=\"middle\" y=\"484.5\">\n",
       "    <tspan class=\"displacy-word\" fill=\"currentColor\" x=\"1625\">kézilabda</tspan>\n",
       "    <tspan class=\"displacy-tag\" dy=\"2em\" fill=\"currentColor\" x=\"1625\">NOUN</tspan>\n",
       "</text>\n",
       "\n",
       "<text class=\"displacy-token\" fill=\"currentColor\" text-anchor=\"middle\" y=\"484.5\">\n",
       "    <tspan class=\"displacy-word\" fill=\"currentColor\" x=\"1800\">BL-ben</tspan>\n",
       "    <tspan class=\"displacy-tag\" dy=\"2em\" fill=\"currentColor\" x=\"1800\">NOUN</tspan>\n",
       "</text>\n",
       "\n",
       "<g class=\"displacy-arrow\">\n",
       "    <path class=\"displacy-arc\" id=\"arrow-afbc3b78fd1c470b83907245abb0a830-0-0\" stroke-width=\"2px\" d=\"M70,439.5 C70,264.5 385.0,264.5 385.0,439.5\" fill=\"none\" stroke=\"currentColor\"/>\n",
       "    <text dy=\"1.25em\" style=\"font-size: 0.8em; letter-spacing: 1px\">\n",
       "        <textPath xlink:href=\"#arrow-afbc3b78fd1c470b83907245abb0a830-0-0\" class=\"displacy-label\" startOffset=\"50%\" side=\"left\" fill=\"currentColor\" text-anchor=\"middle\">det</textPath>\n",
       "    </text>\n",
       "    <path class=\"displacy-arrowhead\" d=\"M70,441.5 L62,429.5 78,429.5\" fill=\"currentColor\"/>\n",
       "</g>\n",
       "\n",
       "<g class=\"displacy-arrow\">\n",
       "    <path class=\"displacy-arc\" id=\"arrow-afbc3b78fd1c470b83907245abb0a830-0-1\" stroke-width=\"2px\" d=\"M245,439.5 C245,352.0 380.0,352.0 380.0,439.5\" fill=\"none\" stroke=\"currentColor\"/>\n",
       "    <text dy=\"1.25em\" style=\"font-size: 0.8em; letter-spacing: 1px\">\n",
       "        <textPath xlink:href=\"#arrow-afbc3b78fd1c470b83907245abb0a830-0-1\" class=\"displacy-label\" startOffset=\"50%\" side=\"left\" fill=\"currentColor\" text-anchor=\"middle\">amod</textPath>\n",
       "    </text>\n",
       "    <path class=\"displacy-arrowhead\" d=\"M245,441.5 L237,429.5 253,429.5\" fill=\"currentColor\"/>\n",
       "</g>\n",
       "\n",
       "<g class=\"displacy-arrow\">\n",
       "    <path class=\"displacy-arc\" id=\"arrow-afbc3b78fd1c470b83907245abb0a830-0-2\" stroke-width=\"2px\" d=\"M420,439.5 C420,264.5 735.0,264.5 735.0,439.5\" fill=\"none\" stroke=\"currentColor\"/>\n",
       "    <text dy=\"1.25em\" style=\"font-size: 0.8em; letter-spacing: 1px\">\n",
       "        <textPath xlink:href=\"#arrow-afbc3b78fd1c470b83907245abb0a830-0-2\" class=\"displacy-label\" startOffset=\"50%\" side=\"left\" fill=\"currentColor\" text-anchor=\"middle\">nmod</textPath>\n",
       "    </text>\n",
       "    <path class=\"displacy-arrowhead\" d=\"M420,441.5 L412,429.5 428,429.5\" fill=\"currentColor\"/>\n",
       "</g>\n",
       "\n",
       "<g class=\"displacy-arrow\">\n",
       "    <path class=\"displacy-arc\" id=\"arrow-afbc3b78fd1c470b83907245abb0a830-0-3\" stroke-width=\"2px\" d=\"M595,439.5 C595,352.0 730.0,352.0 730.0,439.5\" fill=\"none\" stroke=\"currentColor\"/>\n",
       "    <text dy=\"1.25em\" style=\"font-size: 0.8em; letter-spacing: 1px\">\n",
       "        <textPath xlink:href=\"#arrow-afbc3b78fd1c470b83907245abb0a830-0-3\" class=\"displacy-label\" startOffset=\"50%\" side=\"left\" fill=\"currentColor\" text-anchor=\"middle\">obj</textPath>\n",
       "    </text>\n",
       "    <path class=\"displacy-arrowhead\" d=\"M595,441.5 L587,429.5 603,429.5\" fill=\"currentColor\"/>\n",
       "</g>\n",
       "\n",
       "<g class=\"displacy-arrow\">\n",
       "    <path class=\"displacy-arc\" id=\"arrow-afbc3b78fd1c470b83907245abb0a830-0-4\" stroke-width=\"2px\" d=\"M945,439.5 C945,352.0 1080.0,352.0 1080.0,439.5\" fill=\"none\" stroke=\"currentColor\"/>\n",
       "    <text dy=\"1.25em\" style=\"font-size: 0.8em; letter-spacing: 1px\">\n",
       "        <textPath xlink:href=\"#arrow-afbc3b78fd1c470b83907245abb0a830-0-4\" class=\"displacy-label\" startOffset=\"50%\" side=\"left\" fill=\"currentColor\" text-anchor=\"middle\">det</textPath>\n",
       "    </text>\n",
       "    <path class=\"displacy-arrowhead\" d=\"M945,441.5 L937,429.5 953,429.5\" fill=\"currentColor\"/>\n",
       "</g>\n",
       "\n",
       "<g class=\"displacy-arrow\">\n",
       "    <path class=\"displacy-arc\" id=\"arrow-afbc3b78fd1c470b83907245abb0a830-0-5\" stroke-width=\"2px\" d=\"M770,439.5 C770,264.5 1085.0,264.5 1085.0,439.5\" fill=\"none\" stroke=\"currentColor\"/>\n",
       "    <text dy=\"1.25em\" style=\"font-size: 0.8em; letter-spacing: 1px\">\n",
       "        <textPath xlink:href=\"#arrow-afbc3b78fd1c470b83907245abb0a830-0-5\" class=\"displacy-label\" startOffset=\"50%\" side=\"left\" fill=\"currentColor\" text-anchor=\"middle\">nmod</textPath>\n",
       "    </text>\n",
       "    <path class=\"displacy-arrowhead\" d=\"M1085.0,441.5 L1093.0,429.5 1077.0,429.5\" fill=\"currentColor\"/>\n",
       "</g>\n",
       "\n",
       "<g class=\"displacy-arrow\">\n",
       "    <path class=\"displacy-arc\" id=\"arrow-afbc3b78fd1c470b83907245abb0a830-0-6\" stroke-width=\"2px\" d=\"M770,439.5 C770,177.0 1265.0,177.0 1265.0,439.5\" fill=\"none\" stroke=\"currentColor\"/>\n",
       "    <text dy=\"1.25em\" style=\"font-size: 0.8em; letter-spacing: 1px\">\n",
       "        <textPath xlink:href=\"#arrow-afbc3b78fd1c470b83907245abb0a830-0-6\" class=\"displacy-label\" startOffset=\"50%\" side=\"left\" fill=\"currentColor\" text-anchor=\"middle\">nsubj</textPath>\n",
       "    </text>\n",
       "    <path class=\"displacy-arrowhead\" d=\"M1265.0,441.5 L1273.0,429.5 1257.0,429.5\" fill=\"currentColor\"/>\n",
       "</g>\n",
       "\n",
       "<g class=\"displacy-arrow\">\n",
       "    <path class=\"displacy-arc\" id=\"arrow-afbc3b78fd1c470b83907245abb0a830-0-7\" stroke-width=\"2px\" d=\"M1470,439.5 C1470,352.0 1605.0,352.0 1605.0,439.5\" fill=\"none\" stroke=\"currentColor\"/>\n",
       "    <text dy=\"1.25em\" style=\"font-size: 0.8em; letter-spacing: 1px\">\n",
       "        <textPath xlink:href=\"#arrow-afbc3b78fd1c470b83907245abb0a830-0-7\" class=\"displacy-label\" startOffset=\"50%\" side=\"left\" fill=\"currentColor\" text-anchor=\"middle\">det</textPath>\n",
       "    </text>\n",
       "    <path class=\"displacy-arrowhead\" d=\"M1470,441.5 L1462,429.5 1478,429.5\" fill=\"currentColor\"/>\n",
       "</g>\n",
       "\n",
       "<g class=\"displacy-arrow\">\n",
       "    <path class=\"displacy-arc\" id=\"arrow-afbc3b78fd1c470b83907245abb0a830-0-8\" stroke-width=\"2px\" d=\"M770,439.5 C770,89.5 1620.0,89.5 1620.0,439.5\" fill=\"none\" stroke=\"currentColor\"/>\n",
       "    <text dy=\"1.25em\" style=\"font-size: 0.8em; letter-spacing: 1px\">\n",
       "        <textPath xlink:href=\"#arrow-afbc3b78fd1c470b83907245abb0a830-0-8\" class=\"displacy-label\" startOffset=\"50%\" side=\"left\" fill=\"currentColor\" text-anchor=\"middle\">nmod</textPath>\n",
       "    </text>\n",
       "    <path class=\"displacy-arrowhead\" d=\"M1620.0,441.5 L1628.0,429.5 1612.0,429.5\" fill=\"currentColor\"/>\n",
       "</g>\n",
       "\n",
       "<g class=\"displacy-arrow\">\n",
       "    <path class=\"displacy-arc\" id=\"arrow-afbc3b78fd1c470b83907245abb0a830-0-9\" stroke-width=\"2px\" d=\"M770,439.5 C770,2.0 1800.0,2.0 1800.0,439.5\" fill=\"none\" stroke=\"currentColor\"/>\n",
       "    <text dy=\"1.25em\" style=\"font-size: 0.8em; letter-spacing: 1px\">\n",
       "        <textPath xlink:href=\"#arrow-afbc3b78fd1c470b83907245abb0a830-0-9\" class=\"displacy-label\" startOffset=\"50%\" side=\"left\" fill=\"currentColor\" text-anchor=\"middle\">nmod</textPath>\n",
       "    </text>\n",
       "    <path class=\"displacy-arrowhead\" d=\"M1800.0,441.5 L1808.0,429.5 1792.0,429.5\" fill=\"currentColor\"/>\n",
       "</g>\n",
       "</svg></span>"
      ],
      "text/plain": [
       "<IPython.core.display.HTML object>"
      ]
     },
     "metadata": {},
     "output_type": "display_data"
    }
   ],
   "source": [
    "from spacy import displacy\n",
    "\n",
    "displacy.render(doc, style='dep', jupyter=True)"
   ]
  },
  {
   "cell_type": "code",
   "execution_count": 14,
   "metadata": {},
   "outputs": [
    {
     "name": "stdout",
     "output_type": "stream",
     "text": [
      "Collecting newspaper3k\n",
      "  Downloading newspaper3k-0.2.8-py3-none-any.whl (211 kB)\n",
      "Collecting feedfinder2>=0.0.4\n",
      "  Downloading feedfinder2-0.0.4.tar.gz (3.3 kB)\n",
      "Requirement already satisfied: python-dateutil>=2.5.3 in c:\\users\\molna\\anaconda3\\lib\\site-packages (from newspaper3k) (2.8.1)\n",
      "Collecting cssselect>=0.9.2\n",
      "  Downloading cssselect-1.1.0-py2.py3-none-any.whl (16 kB)\n",
      "Requirement already satisfied: lxml>=3.6.0 in c:\\users\\molna\\anaconda3\\lib\\site-packages (from newspaper3k) (4.5.0)\n",
      "Collecting tldextract>=2.0.1\n",
      "  Downloading tldextract-3.1.0-py2.py3-none-any.whl (87 kB)\n",
      "Requirement already satisfied: PyYAML>=3.11 in c:\\users\\molna\\anaconda3\\lib\\site-packages (from newspaper3k) (5.3)\n",
      "Requirement already satisfied: Pillow>=3.3.0 in c:\\users\\molna\\anaconda3\\lib\\site-packages (from newspaper3k) (7.0.0)\n",
      "Requirement already satisfied: requests>=2.10.0 in c:\\users\\molna\\anaconda3\\lib\\site-packages (from newspaper3k) (2.22.0)\n",
      "Requirement already satisfied: nltk>=3.2.1 in c:\\users\\molna\\anaconda3\\lib\\site-packages (from newspaper3k) (3.4.5)\n",
      "Requirement already satisfied: beautifulsoup4>=4.4.1 in c:\\users\\molna\\anaconda3\\lib\\site-packages (from newspaper3k) (4.8.2)\n",
      "Collecting jieba3k>=0.35.1\n",
      "  Downloading jieba3k-0.35.1.zip (7.4 MB)\n",
      "Collecting tinysegmenter==0.3\n",
      "  Downloading tinysegmenter-0.3.tar.gz (16 kB)\n",
      "Collecting feedparser>=5.2.1\n",
      "  Downloading feedparser-6.0.2-py3-none-any.whl (80 kB)\n",
      "Requirement already satisfied: six in c:\\users\\molna\\anaconda3\\lib\\site-packages (from feedfinder2>=0.0.4->newspaper3k) (1.14.0)\n",
      "Requirement already satisfied: idna in c:\\users\\molna\\anaconda3\\lib\\site-packages (from tldextract>=2.0.1->newspaper3k) (2.8)\n",
      "Requirement already satisfied: filelock>=3.0.8 in c:\\users\\molna\\anaconda3\\lib\\site-packages (from tldextract>=2.0.1->newspaper3k) (3.0.12)\n",
      "Collecting requests-file>=1.4\n",
      "  Downloading requests_file-1.5.1-py2.py3-none-any.whl (3.7 kB)\n",
      "Requirement already satisfied: certifi>=2017.4.17 in c:\\users\\molna\\anaconda3\\lib\\site-packages (from requests>=2.10.0->newspaper3k) (2019.11.28)\n",
      "Requirement already satisfied: urllib3!=1.25.0,!=1.25.1,<1.26,>=1.21.1 in c:\\users\\molna\\anaconda3\\lib\\site-packages (from requests>=2.10.0->newspaper3k) (1.25.8)\n",
      "Requirement already satisfied: chardet<3.1.0,>=3.0.2 in c:\\users\\molna\\anaconda3\\lib\\site-packages (from requests>=2.10.0->newspaper3k) (3.0.4)\n",
      "Requirement already satisfied: soupsieve>=1.2 in c:\\users\\molna\\anaconda3\\lib\\site-packages (from beautifulsoup4>=4.4.1->newspaper3k) (1.9.5)\n",
      "Collecting sgmllib3k\n",
      "  Downloading sgmllib3k-1.0.0.tar.gz (5.8 kB)\n",
      "Building wheels for collected packages: feedfinder2, jieba3k, tinysegmenter, sgmllib3k\n",
      "  Building wheel for feedfinder2 (setup.py): started\n",
      "  Building wheel for feedfinder2 (setup.py): finished with status 'done'\n",
      "  Created wheel for feedfinder2: filename=feedfinder2-0.0.4-py3-none-any.whl size=3359 sha256=43b47f440be6fc691dbeff582baa03ada94bbd87d6f15f0051c7ed441b41fca4\n",
      "  Stored in directory: c:\\users\\molna\\appdata\\local\\pip\\cache\\wheels\\7f\\d4\\8f\\6e2ca54744c9d7292d88ddb8d42876bcdab5e6d84a21c10346\n",
      "  Building wheel for jieba3k (setup.py): started\n",
      "  Building wheel for jieba3k (setup.py): finished with status 'done'\n",
      "  Created wheel for jieba3k: filename=jieba3k-0.35.1-py3-none-any.whl size=7398410 sha256=000c03b5e99e8bb40dcf92abf3f71adf3faa14473dec9105c0fd50d0e72291dc\n",
      "  Stored in directory: c:\\users\\molna\\appdata\\local\\pip\\cache\\wheels\\4c\\91\\46\\3c208287b726df325a5979574324878b679116e4baae1af3c3\n",
      "  Building wheel for tinysegmenter (setup.py): started\n",
      "  Building wheel for tinysegmenter (setup.py): finished with status 'done'\n",
      "  Created wheel for tinysegmenter: filename=tinysegmenter-0.3-py3-none-any.whl size=13542 sha256=f128cde569eb9b259484052017296038411f7de471c6992a832ef94c99f162e7\n",
      "  Stored in directory: c:\\users\\molna\\appdata\\local\\pip\\cache\\wheels\\df\\67\\41\\faca10fa501ca010be41b49d40360c2959e1c4f09bcbfa37fa\n",
      "  Building wheel for sgmllib3k (setup.py): started\n",
      "  Building wheel for sgmllib3k (setup.py): finished with status 'done'\n",
      "  Created wheel for sgmllib3k: filename=sgmllib3k-1.0.0-py3-none-any.whl size=6071 sha256=f7144ecc69564ebbc6ded8f6c2547225f06b65e97f9670b48fce6b7dec0c11be\n",
      "  Stored in directory: c:\\users\\molna\\appdata\\local\\pip\\cache\\wheels\\73\\ad\\a4\\0dff4a6ef231fc0dfa12ffbac2a36cebfdddfe059f50e019aa\n",
      "Successfully built feedfinder2 jieba3k tinysegmenter sgmllib3k\n",
      "Installing collected packages: feedfinder2, cssselect, requests-file, tldextract, jieba3k, tinysegmenter, sgmllib3k, feedparser, newspaper3k\n",
      "Successfully installed cssselect-1.1.0 feedfinder2-0.0.4 feedparser-6.0.2 jieba3k-0.35.1 newspaper3k-0.2.8 requests-file-1.5.1 sgmllib3k-1.0.0 tinysegmenter-0.3 tldextract-3.1.0\n"
     ]
    }
   ],
   "source": [
    "! pip install newspaper3k"
   ]
  },
  {
   "cell_type": "code",
   "execution_count": 20,
   "metadata": {},
   "outputs": [],
   "source": [
    "from newspaper import Article\n",
    "\n",
    "def extract_content(url):\n",
    "    article = Article(url, language=\"hu\")\n",
    "    article.download()\n",
    "    article.parse()\n",
    "    return \"{}\\n\\n{}\".format(article.title, article.text)"
   ]
  },
  {
   "cell_type": "code",
   "execution_count": 21,
   "metadata": {},
   "outputs": [
    {
     "data": {
      "text/plain": [
       "A friss Nobel-békedíjas etióp kormányfő a Nílussal hazárdírozik\n",
       "\n",
       "Etiópia feszített tempóban dolgozik, hogy minél gyorsabban befejezze a Nílus egyik ágára tervezett Nagy Reneszánsz-gátat, ami elektromossággal látná el az infrastruktúrájában meglehetősen elmaradott országot. A tervtől azonban a Nílus alsóbb folyása mentén lévő országok kiakadtak, hiszen ez az ivóvízkészletük megtizedelésével járna. Egyiptomi katonai vezetők már a háborút tervezgették egy időben.\n",
       "\n",
       "Az oslói Nobel-bizottság pénteken jelentette be, hogy az idei Nobel-békedíjat Abij Ahmed Ali etióp miniszterelnök kapja. A díj indoklása szerint a miniszterelnök sokat tett a békéért, a nemzetközi együttműködésért, és különösen azért, hogy megoldja a határkonfliktust a szomszédos Eritreával. Számos olyan reformot is megindított, amivel sok etiópnak adott reményt egy jobb életre. Miniszterelnökként a megbékélést, a szolidaritást és a társadalmi igazságosságot tartotta szem előtt.\n",
       "\n",
       "Kérdés, hogy erről a szudániak és főképp az egyiptomiak is így vélekednek-e.\n",
       "\n",
       "A Kék-Nílusra épített Nagy Etióp Reneszánsz-gát ügyében ugyanis Etiópia hozzáállása – a tőle északra elhelyezkedő országok szerint – ugyanis nem éppen a megbékélésről, a szolidaritásról és a társadalmi igazságosságról szól, ez egy komoly feszültségforrás a régióban. Azt nem vitatják, hogy a gát – és az általa felduzzasztott víz hajtotta vízi erőmű – valóban jobb életet hozhat az etiópok számára. Csakhogy eközben az ő életük lehet sokkal rosszabb, a félt vízhiány miatt.\n",
       "\n",
       "Elapadó remények\n",
       "\n",
       "Néhány napja a szudáni fővárosban, Kartúmban gyűltek össze Egyiptom, Etiópia és Szudán ökológusai és hidrológusai, hogy a Reneszánsz-gát környezeti hatásait vitassák meg. A konferencián nem jutottak egymással dűlőre, mindannyian másképp ítélik meg azt, hogy a gát megépítése, és az erőmű működtetéséhez szükséges víz elterelése milyen hatást fog gyakorolni a Nílus élővilágára, és legfőképpen az évezredek óta a folyóból öntöző közösségek életére.\n",
       "\n",
       "A kutatói konferencia után Kairóban találkoztak egymással az érintett országok vízügyi miniszterei, de ott sem született semmiféle eredmény. Egyiptom az Egyesült Államokat kérte, hogy szálljon be az egyezkedésbe, ami semerre sem halad. Egyiptom félelme az, hogy a Nílus elrekesztése konkrétan ki fogja szárítani az országot, emberek milliói maradnak víz nélkül, a mezőgazdaság összeomlik, és táplálékhiány alakul ki.\n",
       "\n",
       "És ezek az aggodalmak megalapozottak. Egyiptom édesvízkészletének kilencven százaléka a Nílusból származik, a folyó vízhozama nagyobbik részét pedig az Etiópiából érkező Kék-Nílus ág szállítja. Etiópia ezzel szemben arra hivatkozik, hogy a gát és az erőmű létfontosságú számára, és más országoknak különben sincs beleszólásuk abba, hogy mit épít a saját területén. A Világbank adatai szerint az etiópiaiak kétharmada nem jut elektromossághoz, a Reneszánsz-gát (amely nagyjából 60 százalékban van kész) azonban ezen gyökeresen változtatna: 6,45 gigawatt áramot termel majd a tervek szerint.\n",
       "\n",
       "Sőt, Etiópia szerint a gát egyenesen áldás lenne a tőle északra elhelyezkedő országok számára. Jelenleg a Nílus hektikus vízszintje rendszeres aszályokat és áradásokat okoz a folyó mentén. Etiópia szerint a gát miatt kiegyenlítettebb lesz a vízszint, aminek inkább örülni kéne.\n",
       "\n",
       "A vita középpontjában az áll, hogy milyen gyorsan töltsék föl a víztározót, amely azután a vízi erőmű turbináit meghajtó vizet fogja biztosítani.\n",
       "\n",
       "Etiópia öt év alatt akarja feltölteni a tározót a Kék-Nílusból, ezalatt 35 milliárd köbméter vizet engedne át az alsóbb folyás mentén fekvő államoknak évente.\n",
       "\n",
       "Egyiptom szerint ez elfogadhatatlan mértékben csökkentené a vízkészleteit, ők azt kérik, hogy lassabban, hét év alatt töltsék fel a tározót, és több, 40 milliárd köbméter vizet engedjenek át.\n",
       "\n",
       "A nemzetközi jog széttárja a kezét\n",
       "\n",
       "A megegyezést nehezíti, hogy Egyiptom és Etiópia között nincs formális vízmegosztási egyezmény. Egyiptom és Szudán között viszont van: az 1959-es megállapodás (amelyet azelőtt kötöttek, hogy Egyiptomban megnyitották volna az ő hasonló megaprojektjüket, az Asszuáni-gátat) értelmében Szudán 18,5 milliárd köbméter, míg Egyiptom 55,5 milliárd köbméter vizet vehet ki évente a Nílusból.\n",
       "\n",
       "Etiópia nem kötött hasonló egyezményt, és nem is egyeznek bele semmilyen megállapodásba, amely korlátozná a lehetőségeiket, hogy úgy működtessék a hamarosan befejezendő Nílus-gátat, ahogy csak szeretnék.\n",
       "\n",
       "A független szakértők elismerik ugyan, hogy ha átlagos mennyiségű csapadék esik, akkor Egyiptomban nem lenne szabad komolyabb vízhiánynak előállnia, ha az etiópiaiak valóban átengedik a 35 milliárd köbméter vizet, amit ígérnek.\n",
       "\n",
       "Csakhogy ha aszály üt be (amelyre a klímaváltozás miatt egyre nagyobb az esély), a helyzet már gyökeresen változhat.\n",
       "\n",
       "A nemzetközi elemzők elméletben inkább Egyiptomnak adnak igazat, ugyanakkor hangsúlyozzák, hogy a diplomáciai térben nem sok mindent tehet. Elviheti az ügyet a hágai Nemzetközi Bíróságra, de ehhez Etiópia hozzájárulása is kell, amelyben vállalják, hogy alávetik magukat a döntésnek. De még ebben az esetben sem valószínű, hogy elmarasztalnák Etiópiát. Minthogy ugyanis nemzetközi egyezmények nem kötik a kezét, a saját területén gyakorlatilag azt csinál, amit akar.\n",
       "\n",
       "A nemzetközi jog nincs felkészülve azokra az esetekre, amikor az egyik ország a felségterületén olyat tesz, amely teljesen ellentétes a szomszédok érdekeivel. Számtalanszor előfordult már ilyesmi, de a folyók elrekesztése, megmérgezése, a határon átszálló légszennyezések lényegében megfoghatatlanok jogilag. Egyiptom jelenleg a tárgyalásos megoldás szükségességét, illetve az érintett országok közös érdekét hangsúlyozza. Az azonban kérdéses, hogy meddig lennének hajlandók elmenni, ha az etiópiaiak önhatalmúlag valóban eltérítenék a Kék-Nílus vízhozamának jelentős részét.\n",
       "\n",
       "B-terv\n",
       "\n",
       "Egyiptom ugyanis vélhetően B-tervvel is készül. Kevéssé valószínű, hogy azok az indulatok, amelyek egy hat évvel ezelőtti kiszivárgott értekezletet jellemeztek, bármennyit is csitultak volna – hiszen az ügy alakulása semmiben sem közelített az ő elvárásaikhoz.\n",
       "\n",
       "2013-ban a Muhammad Morszi akkori egyiptomi elnök által összehívott egyeztetésen megjelent politikusok, nem sejtvén, hogy már működnek a kamerák, meglehetős nyíltsággal beszéltek a probléma megoldásának sokkal célravezetőbb módjairól. Az értekezleten számos megoldási javaslat felmerült:\n",
       "\n",
       "Egyiptom támogathatná az etióp lázadókat, és velük tarthatná sakkban az etióp kormányt.\n",
       "\n",
       "A titkosszolgálat felrobbanthatná a gátat.\n",
       "\n",
       "Egyiptomi vadászgépek is porig bombázhatnák a létesítményt.\n",
       "\n",
       "A megszégyenült egyiptomi vezetés akkor sietett biztosítani a háborús fenyegetést kiáltó etiópokat, hogy mindenképpen a diplomáciát pártolják a vadászgépekkel és a konspirációval szemben, de arra figyeltek, hogy a megnyugtatásban azért ne zárják ki teljesen a katonai csapás lehetőségét.\n",
       "\n",
       "Mindennek esélyét azonban jelenleg csökkenti, hogy a nemzetközi közvélemény szemében Kairó most az áldozat, és az etiópok hajthatatlansága az elítélendő lépés. Ezt a pozitív megítélést Egyiptom vélhetően nem szívesen kockáztatná, ha lát bármilyen más esélyt az éltető víz megszerzésére."
      ]
     },
     "execution_count": 21,
     "metadata": {},
     "output_type": "execute_result"
    }
   ],
   "source": [
    "doc = nlp(extract_content(\"https://index.hu/kulfold/2019/10/11/abij_ahmed_ali_nobel_bekedij_nagy_etiop_reneszansz_gat_etiopia_nilus_szudan_egyiptom/\"))\n",
    "doc"
   ]
  },
  {
   "cell_type": "code",
   "execution_count": 2,
   "metadata": {},
   "outputs": [
    {
     "name": "stdout",
     "output_type": "stream",
     "text": [
      "Collecting git+https://github.com/chartbeat-labs/textacy/tree/0.8.0\n",
      "  Cloning https://github.com/chartbeat-labs/textacy/tree/0.8.0 to c:\\users\\molna\\appdata\\local\\temp\\pip-req-build-hnxo2_4s\n"
     ]
    },
    {
     "name": "stderr",
     "output_type": "stream",
     "text": [
      "  Running command git clone -q https://github.com/chartbeat-labs/textacy/tree/0.8.0 'C:\\Users\\molna\\AppData\\Local\\Temp\\pip-req-build-hnxo2_4s'\n",
      "  fatal: repository 'https://github.com/chartbeat-labs/textacy/tree/0.8.0/' not found\n",
      "ERROR: Command errored out with exit status 128: git clone -q https://github.com/chartbeat-labs/textacy/tree/0.8.0 'C:\\Users\\molna\\AppData\\Local\\Temp\\pip-req-build-hnxo2_4s' Check the logs for full command output.\n"
     ]
    }
   ],
   "source": [
    "! pip install git+https://github.com/chartbeat-labs/textacy/tree/0.8.0"
   ]
  },
  {
   "cell_type": "code",
   "execution_count": 22,
   "metadata": {},
   "outputs": [
    {
     "ename": "ModuleNotFoundError",
     "evalue": "No module named 'textacy'",
     "output_type": "error",
     "traceback": [
      "\u001b[1;31m---------------------------------------------------------------------------\u001b[0m",
      "\u001b[1;31mModuleNotFoundError\u001b[0m                       Traceback (most recent call last)",
      "\u001b[1;32m<ipython-input-22-febd8ae7d592>\u001b[0m in \u001b[0;36m<module>\u001b[1;34m\u001b[0m\n\u001b[1;32m----> 1\u001b[1;33m \u001b[1;32mimport\u001b[0m \u001b[0mtextacy\u001b[0m\u001b[1;33m.\u001b[0m\u001b[0mke\u001b[0m\u001b[1;33m\u001b[0m\u001b[1;33m\u001b[0m\u001b[0m\n\u001b[0m\u001b[0;32m      2\u001b[0m \u001b[1;33m\u001b[0m\u001b[0m\n\u001b[0;32m      3\u001b[0m \u001b[0mtextacy\u001b[0m\u001b[1;33m.\u001b[0m\u001b[0mke\u001b[0m\u001b[1;33m.\u001b[0m\u001b[0mtextrank\u001b[0m\u001b[1;33m(\u001b[0m\u001b[0mdoc\u001b[0m\u001b[1;33m,\u001b[0m \u001b[0mtopn\u001b[0m\u001b[1;33m=\u001b[0m\u001b[1;36m5\u001b[0m\u001b[1;33m,\u001b[0m \u001b[0mwindow_size\u001b[0m\u001b[1;33m=\u001b[0m\u001b[1;36m10\u001b[0m\u001b[1;33m,\u001b[0m \u001b[0medge_weighting\u001b[0m\u001b[1;33m=\u001b[0m\u001b[1;34m\"count\"\u001b[0m\u001b[1;33m,\u001b[0m \u001b[0mposition_bias\u001b[0m\u001b[1;33m=\u001b[0m\u001b[1;32mTrue\u001b[0m\u001b[1;33m)\u001b[0m\u001b[1;33m\u001b[0m\u001b[1;33m\u001b[0m\u001b[0m\n",
      "\u001b[1;31mModuleNotFoundError\u001b[0m: No module named 'textacy'"
     ]
    }
   ],
   "source": [
    "import textacy.ke\n",
    "\n",
    "textacy.ke.textrank(doc, topn=5, window_size=10, edge_weighting=\"count\", position_bias=True)"
   ]
  },
  {
   "cell_type": "markdown",
   "metadata": {},
   "source": [
    "https://stackoverflow.com/questions/56385478/textacy-keyterms-returning-empty-list"
   ]
  }
 ],
 "metadata": {
  "kernelspec": {
   "display_name": "Python 3",
   "language": "python",
   "name": "python3"
  },
  "language_info": {
   "codemirror_mode": {
    "name": "ipython",
    "version": 3
   },
   "file_extension": ".py",
   "mimetype": "text/x-python",
   "name": "python",
   "nbconvert_exporter": "python",
   "pygments_lexer": "ipython3",
   "version": "3.7.6"
  }
 },
 "nbformat": 4,
 "nbformat_minor": 4
}

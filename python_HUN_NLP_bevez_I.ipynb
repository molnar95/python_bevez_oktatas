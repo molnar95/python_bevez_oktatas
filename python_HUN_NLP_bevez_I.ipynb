{
 "cells": [
  {
   "cell_type": "markdown",
   "metadata": {},
   "source": [
    "# Magyar NLP bemutatása\n",
    "Véleményünk szerint a magyar szövegbányászat és szövegelemzés eszköztára nagyon szegényes volt, de az elmúlt pár évben viszonylag nagy fejlődésen esett át és sok eszköz megjelent hozzá Pythonban is.\n",
    "<br>\n",
    "Ebben a fejezetben a Spacy csomagot mutatom be, amely a magyar nyelvű dokumentumok elemzéséhez az egyik legalkalmasabb eszköz jelenleg python környezetben. Ezen felül megmutatok még pár hasznos csomagot is ebben a notebookban."
   ]
  },
  {
   "cell_type": "markdown",
   "metadata": {},
   "source": [
    "### ----------------------------------------------------------------------------------------------------------------------------------------------------------"
   ]
  },
  {
   "cell_type": "markdown",
   "metadata": {},
   "source": [
    "### Csomagok telepítése és importálása"
   ]
  },
  {
   "cell_type": "code",
   "execution_count": null,
   "metadata": {},
   "outputs": [],
   "source": [
    "! pip install https://github.com/oroszgy/spacy-hungarian-models/releases/download/hu_core_ud_lg-0.3.1/hu_core_ud_lg-0.3.1-py3-none-any.whl\n",
    "! pip install newspaper3k"
   ]
  },
  {
   "cell_type": "code",
   "execution_count": 1,
   "metadata": {},
   "outputs": [
    {
     "name": "stderr",
     "output_type": "stream",
     "text": [
      "C:\\Users\\molna\\anaconda3\\lib\\site-packages\\spacy\\util.py:275: UserWarning: [W031] Model 'hu_core_ud_lg' (0.3.1) requires spaCy v2.1 and is incompatible with the current spaCy version (2.3.5). This may lead to unexpected results or runtime errors. To resolve this, download a newer compatible model or retrain your custom model with the current spaCy version. For more details and available updates, run: python -m spacy validate\n",
      "  warnings.warn(warn_msg)\n"
     ]
    }
   ],
   "source": [
    "import hu_core_ud_lg as hu\n",
    "nlp = hu.load()"
   ]
  },
  {
   "cell_type": "markdown",
   "metadata": {},
   "source": [
    "### ----------------------------------------------------------------------------------------------------------------------------------------------------------"
   ]
  },
  {
   "cell_type": "markdown",
   "metadata": {},
   "source": [
    "### Spacy speaks Hungarian\n",
    "<br>\n",
    "A Spacy egy ingyenes, open-source python csomag természetes nyelvfeldolgozáshoz (NLP = Natural Language Processing).\n",
    "A csomag már tartalmazza a magyar nyelvet is, mivel magyar fejlesztők, többek között Orosz György belefejlesztettek (CNN neurális háló). \n",
    "<br>\n",
    "Spacy Hungarian Models: (https://github.com/oroszgy/spacy-hungarian-models) \n",
    "<br>\n",
    "<br>\n",
    "A Spacy csomag egyrészt olyan eszközöket nyújt, amelyek segítségével a szövegek és tartalmuk jobban megérthetők. Továbbá olyan adat előfeldolgozási eszközöket is tartalmaz, amelyek nélkülönözhetetlenek a komplexebb NLP alapú modellezésekhez (CBOW, LDA, szentiment analitika, stb).\n",
    "<br>\n",
    "<br>\n",
    "A Spacy - HUN performanciája magyar korpuszon tesztelve (Szeged Business és Criminal korpuszon)\n"
   ]
  },
  {
   "attachments": {
    "spacy_perf.png": {
     "image/png": "[encoded data removed]"
    }
   },
   "cell_type": "markdown",
   "metadata": {},
   "source": [
    "![spacy_perf.png](attachment:spacy_perf.png)"
   ]
  },
  {
   "cell_type": "markdown",
   "metadata": {},
   "source": [
    "### Spacy - HUN pipeline elemei"
   ]
  },
  {
   "cell_type": "code",
   "execution_count": 3,
   "metadata": {},
   "outputs": [
    {
     "data": {
      "text/plain": [
       "[('hun_sentencizer', <hu_core_ud_lg.HunSentencizer at 0x22e7d4c8d08>),\n",
       " ('tagger', <spacy.pipeline.pipes.Tagger at 0x22e7d4c8e48>),\n",
       " ('hun_lemmatizer', <hu_core_ud_lg.HunLemmatizer at 0x22e7d4c8d88>),\n",
       " ('parser', <spacy.pipeline.pipes.DependencyParser at 0x22e7a1593a8>),\n",
       " ('ner', <spacy.pipeline.pipes.EntityRecognizer at 0x22e7df1a528>)]"
      ]
     },
     "execution_count": 3,
     "metadata": {},
     "output_type": "execute_result"
    }
   ],
   "source": [
    "nlp.pipeline"
   ]
  },
  {
   "cell_type": "markdown",
   "metadata": {},
   "source": [
    "* Sentencizer: A dokumentumokat mondatokra bontja.\n",
    "* Tagger: Felcímkézi a tokeneket (lemma, pos, stop, dep, stb.).\n",
    "* Lemmatizer: Visszakeresi a szavak szótári alakját.\n",
    "* NER: Névelem felismerés"
   ]
  },
  {
   "cell_type": "markdown",
   "metadata": {},
   "source": [
    "### NLP dokumentum létrehozása"
   ]
  },
  {
   "cell_type": "code",
   "execution_count": 42,
   "metadata": {},
   "outputs": [
    {
     "data": {
      "text/plain": [
       "A 19. percben 1–11-re állt a címvédő Vardar a kézilabda BL-ben"
      ]
     },
     "execution_count": 42,
     "metadata": {},
     "output_type": "execute_result"
    }
   ],
   "source": [
    "doc = nlp(\"A 19. percben 1–11-re állt a címvédő Vardar a kézilabda BL-ben\")\n",
    "doc"
   ]
  },
  {
   "cell_type": "markdown",
   "metadata": {},
   "source": [
    "### Spacy - HUN pipeline demo "
   ]
  },
  {
   "cell_type": "code",
   "execution_count": 32,
   "metadata": {
    "scrolled": true
   },
   "outputs": [
    {
     "name": "stdout",
     "output_type": "stream",
     "text": [
      "Text            \t| Lemma         \t| PoS\t| Dep\t| Shape     \t| Stop\n",
      "--------------------------------------------------------------------------------------------------------------\n",
      "A               \t| a             \t| DET\t| det\t| X         \t| True\n",
      "19.             \t| 19.           \t| ADJ\t| amod\t| dd.       \t| False\n",
      "percben         \t| perc          \t| NOUN\t| nmod\t| xxxx      \t| False\n",
      "1–11-re         \t| 1–11.         \t| NOUN\t| obj\t| d–dd-xx   \t| False\n",
      "állt            \t| áll           \t| VERB\t| ROOT\t| xxxx      \t| False\n",
      "a               \t| a             \t| DET\t| det\t| x         \t| True\n",
      "címvédő         \t| címvédő       \t| NOUN\t| nmod\t| xxxx      \t| False\n",
      "Vardar          \t| Vardar        \t| PROPN\t| nsubj\t| Xxxxx     \t| False\n",
      "a               \t| a             \t| DET\t| det\t| x         \t| True\n",
      "kézilabda       \t| kézilabda     \t| NOUN\t| nmod\t| xxxx      \t| False\n",
      "BL-ben          \t| BL            \t| NOUN\t| nmod\t| XX-xxx    \t| False\n"
     ]
    }
   ],
   "source": [
    "print(\"{0: <16}\".format(\"Text\"), \"{0: <14}\".format(\"Lemma\"), \"PoS\", \"Dep\", \"{0: <10}\".format(\"Shape\"), \"Stop\", sep=\"\\t| \")\n",
    "print(\"-\"*110)\n",
    "for token in doc:\n",
    "    print(\n",
    "        \"{0: <16}\".format(token.text), \"{0: <14}\".format(token.lemma_), token.pos_, \n",
    "        token.dep_,\n",
    "        \"{0: <10}\".format(token.shape_), token.is_stop, \n",
    "        sep=\"\\t| \"\n",
    "    )"
   ]
  },
  {
   "cell_type": "markdown",
   "metadata": {},
   "source": [
    "### Kitérő: Névelem felismerés (PoS = Part of Speech tag) elemei\n",
    "\n",
    "* ADJ: adjective                      - melléknév\n",
    "* ADV: adverb                         - határozószó\n",
    "* AUX: auxiliary verb                 - segédige\n",
    "* CONJ: coordinating conjunction      - koordináló kötőszó\n",
    "* DET: determiner                     - határozószó\n",
    "* NOUN: noun                          - főnév\n",
    "* PRON: pronoun                       - névmás\n",
    "* PROPN: proper noun                  - tulajdonnév\n",
    "* VERB: verb                          - ige"
   ]
  },
  {
   "cell_type": "markdown",
   "metadata": {},
   "source": [
    "### Displacy példa vizualizáció\n",
    "(A dokumentum dependencia grafikonját rajzolja ki)"
   ]
  },
  {
   "cell_type": "code",
   "execution_count": 6,
   "metadata": {},
   "outputs": [
    {
     "data": {
      "text/html": [
       "<span class=\"tex2jax_ignore\"><svg xmlns=\"http://www.w3.org/2000/svg\" xmlns:xlink=\"http://www.w3.org/1999/xlink\" xml:lang=\"hu\" id=\"b06ad6aebdb04d96ac410c95f6bab103-0\" class=\"displacy\" width=\"1975\" height=\"574.5\" direction=\"ltr\" style=\"max-width: none; height: 574.5px; color: #000000; background: #ffffff; font-family: Arial; direction: ltr\">\n",
       "<text class=\"displacy-token\" fill=\"currentColor\" text-anchor=\"middle\" y=\"484.5\">\n",
       "    <tspan class=\"displacy-word\" fill=\"currentColor\" x=\"50\">A</tspan>\n",
       "    <tspan class=\"displacy-tag\" dy=\"2em\" fill=\"currentColor\" x=\"50\">DET</tspan>\n",
       "</text>\n",
       "\n",
       "<text class=\"displacy-token\" fill=\"currentColor\" text-anchor=\"middle\" y=\"484.5\">\n",
       "    <tspan class=\"displacy-word\" fill=\"currentColor\" x=\"225\">19.</tspan>\n",
       "    <tspan class=\"displacy-tag\" dy=\"2em\" fill=\"currentColor\" x=\"225\">ADJ</tspan>\n",
       "</text>\n",
       "\n",
       "<text class=\"displacy-token\" fill=\"currentColor\" text-anchor=\"middle\" y=\"484.5\">\n",
       "    <tspan class=\"displacy-word\" fill=\"currentColor\" x=\"400\">percben</tspan>\n",
       "    <tspan class=\"displacy-tag\" dy=\"2em\" fill=\"currentColor\" x=\"400\">NOUN</tspan>\n",
       "</text>\n",
       "\n",
       "<text class=\"displacy-token\" fill=\"currentColor\" text-anchor=\"middle\" y=\"484.5\">\n",
       "    <tspan class=\"displacy-word\" fill=\"currentColor\" x=\"575\">1–11-re</tspan>\n",
       "    <tspan class=\"displacy-tag\" dy=\"2em\" fill=\"currentColor\" x=\"575\">NOUN</tspan>\n",
       "</text>\n",
       "\n",
       "<text class=\"displacy-token\" fill=\"currentColor\" text-anchor=\"middle\" y=\"484.5\">\n",
       "    <tspan class=\"displacy-word\" fill=\"currentColor\" x=\"750\">állt</tspan>\n",
       "    <tspan class=\"displacy-tag\" dy=\"2em\" fill=\"currentColor\" x=\"750\">VERB</tspan>\n",
       "</text>\n",
       "\n",
       "<text class=\"displacy-token\" fill=\"currentColor\" text-anchor=\"middle\" y=\"484.5\">\n",
       "    <tspan class=\"displacy-word\" fill=\"currentColor\" x=\"925\">a</tspan>\n",
       "    <tspan class=\"displacy-tag\" dy=\"2em\" fill=\"currentColor\" x=\"925\">DET</tspan>\n",
       "</text>\n",
       "\n",
       "<text class=\"displacy-token\" fill=\"currentColor\" text-anchor=\"middle\" y=\"484.5\">\n",
       "    <tspan class=\"displacy-word\" fill=\"currentColor\" x=\"1100\">címvédő</tspan>\n",
       "    <tspan class=\"displacy-tag\" dy=\"2em\" fill=\"currentColor\" x=\"1100\">NOUN</tspan>\n",
       "</text>\n",
       "\n",
       "<text class=\"displacy-token\" fill=\"currentColor\" text-anchor=\"middle\" y=\"484.5\">\n",
       "    <tspan class=\"displacy-word\" fill=\"currentColor\" x=\"1275\">Vardar</tspan>\n",
       "    <tspan class=\"displacy-tag\" dy=\"2em\" fill=\"currentColor\" x=\"1275\">PROPN</tspan>\n",
       "</text>\n",
       "\n",
       "<text class=\"displacy-token\" fill=\"currentColor\" text-anchor=\"middle\" y=\"484.5\">\n",
       "    <tspan class=\"displacy-word\" fill=\"currentColor\" x=\"1450\">a</tspan>\n",
       "    <tspan class=\"displacy-tag\" dy=\"2em\" fill=\"currentColor\" x=\"1450\">DET</tspan>\n",
       "</text>\n",
       "\n",
       "<text class=\"displacy-token\" fill=\"currentColor\" text-anchor=\"middle\" y=\"484.5\">\n",
       "    <tspan class=\"displacy-word\" fill=\"currentColor\" x=\"1625\">kézilabda</tspan>\n",
       "    <tspan class=\"displacy-tag\" dy=\"2em\" fill=\"currentColor\" x=\"1625\">NOUN</tspan>\n",
       "</text>\n",
       "\n",
       "<text class=\"displacy-token\" fill=\"currentColor\" text-anchor=\"middle\" y=\"484.5\">\n",
       "    <tspan class=\"displacy-word\" fill=\"currentColor\" x=\"1800\">BL-ben</tspan>\n",
       "    <tspan class=\"displacy-tag\" dy=\"2em\" fill=\"currentColor\" x=\"1800\">NOUN</tspan>\n",
       "</text>\n",
       "\n",
       "<g class=\"displacy-arrow\">\n",
       "    <path class=\"displacy-arc\" id=\"arrow-b06ad6aebdb04d96ac410c95f6bab103-0-0\" stroke-width=\"2px\" d=\"M70,439.5 C70,264.5 385.0,264.5 385.0,439.5\" fill=\"none\" stroke=\"currentColor\"/>\n",
       "    <text dy=\"1.25em\" style=\"font-size: 0.8em; letter-spacing: 1px\">\n",
       "        <textPath xlink:href=\"#arrow-b06ad6aebdb04d96ac410c95f6bab103-0-0\" class=\"displacy-label\" startOffset=\"50%\" side=\"left\" fill=\"currentColor\" text-anchor=\"middle\">det</textPath>\n",
       "    </text>\n",
       "    <path class=\"displacy-arrowhead\" d=\"M70,441.5 L62,429.5 78,429.5\" fill=\"currentColor\"/>\n",
       "</g>\n",
       "\n",
       "<g class=\"displacy-arrow\">\n",
       "    <path class=\"displacy-arc\" id=\"arrow-b06ad6aebdb04d96ac410c95f6bab103-0-1\" stroke-width=\"2px\" d=\"M245,439.5 C245,352.0 380.0,352.0 380.0,439.5\" fill=\"none\" stroke=\"currentColor\"/>\n",
       "    <text dy=\"1.25em\" style=\"font-size: 0.8em; letter-spacing: 1px\">\n",
       "        <textPath xlink:href=\"#arrow-b06ad6aebdb04d96ac410c95f6bab103-0-1\" class=\"displacy-label\" startOffset=\"50%\" side=\"left\" fill=\"currentColor\" text-anchor=\"middle\">amod</textPath>\n",
       "    </text>\n",
       "    <path class=\"displacy-arrowhead\" d=\"M245,441.5 L237,429.5 253,429.5\" fill=\"currentColor\"/>\n",
       "</g>\n",
       "\n",
       "<g class=\"displacy-arrow\">\n",
       "    <path class=\"displacy-arc\" id=\"arrow-b06ad6aebdb04d96ac410c95f6bab103-0-2\" stroke-width=\"2px\" d=\"M420,439.5 C420,264.5 735.0,264.5 735.0,439.5\" fill=\"none\" stroke=\"currentColor\"/>\n",
       "    <text dy=\"1.25em\" style=\"font-size: 0.8em; letter-spacing: 1px\">\n",
       "        <textPath xlink:href=\"#arrow-b06ad6aebdb04d96ac410c95f6bab103-0-2\" class=\"displacy-label\" startOffset=\"50%\" side=\"left\" fill=\"currentColor\" text-anchor=\"middle\">nmod</textPath>\n",
       "    </text>\n",
       "    <path class=\"displacy-arrowhead\" d=\"M420,441.5 L412,429.5 428,429.5\" fill=\"currentColor\"/>\n",
       "</g>\n",
       "\n",
       "<g class=\"displacy-arrow\">\n",
       "    <path class=\"displacy-arc\" id=\"arrow-b06ad6aebdb04d96ac410c95f6bab103-0-3\" stroke-width=\"2px\" d=\"M595,439.5 C595,352.0 730.0,352.0 730.0,439.5\" fill=\"none\" stroke=\"currentColor\"/>\n",
       "    <text dy=\"1.25em\" style=\"font-size: 0.8em; letter-spacing: 1px\">\n",
       "        <textPath xlink:href=\"#arrow-b06ad6aebdb04d96ac410c95f6bab103-0-3\" class=\"displacy-label\" startOffset=\"50%\" side=\"left\" fill=\"currentColor\" text-anchor=\"middle\">obj</textPath>\n",
       "    </text>\n",
       "    <path class=\"displacy-arrowhead\" d=\"M595,441.5 L587,429.5 603,429.5\" fill=\"currentColor\"/>\n",
       "</g>\n",
       "\n",
       "<g class=\"displacy-arrow\">\n",
       "    <path class=\"displacy-arc\" id=\"arrow-b06ad6aebdb04d96ac410c95f6bab103-0-4\" stroke-width=\"2px\" d=\"M945,439.5 C945,352.0 1080.0,352.0 1080.0,439.5\" fill=\"none\" stroke=\"currentColor\"/>\n",
       "    <text dy=\"1.25em\" style=\"font-size: 0.8em; letter-spacing: 1px\">\n",
       "        <textPath xlink:href=\"#arrow-b06ad6aebdb04d96ac410c95f6bab103-0-4\" class=\"displacy-label\" startOffset=\"50%\" side=\"left\" fill=\"currentColor\" text-anchor=\"middle\">det</textPath>\n",
       "    </text>\n",
       "    <path class=\"displacy-arrowhead\" d=\"M945,441.5 L937,429.5 953,429.5\" fill=\"currentColor\"/>\n",
       "</g>\n",
       "\n",
       "<g class=\"displacy-arrow\">\n",
       "    <path class=\"displacy-arc\" id=\"arrow-b06ad6aebdb04d96ac410c95f6bab103-0-5\" stroke-width=\"2px\" d=\"M770,439.5 C770,264.5 1085.0,264.5 1085.0,439.5\" fill=\"none\" stroke=\"currentColor\"/>\n",
       "    <text dy=\"1.25em\" style=\"font-size: 0.8em; letter-spacing: 1px\">\n",
       "        <textPath xlink:href=\"#arrow-b06ad6aebdb04d96ac410c95f6bab103-0-5\" class=\"displacy-label\" startOffset=\"50%\" side=\"left\" fill=\"currentColor\" text-anchor=\"middle\">nmod</textPath>\n",
       "    </text>\n",
       "    <path class=\"displacy-arrowhead\" d=\"M1085.0,441.5 L1093.0,429.5 1077.0,429.5\" fill=\"currentColor\"/>\n",
       "</g>\n",
       "\n",
       "<g class=\"displacy-arrow\">\n",
       "    <path class=\"displacy-arc\" id=\"arrow-b06ad6aebdb04d96ac410c95f6bab103-0-6\" stroke-width=\"2px\" d=\"M770,439.5 C770,177.0 1265.0,177.0 1265.0,439.5\" fill=\"none\" stroke=\"currentColor\"/>\n",
       "    <text dy=\"1.25em\" style=\"font-size: 0.8em; letter-spacing: 1px\">\n",
       "        <textPath xlink:href=\"#arrow-b06ad6aebdb04d96ac410c95f6bab103-0-6\" class=\"displacy-label\" startOffset=\"50%\" side=\"left\" fill=\"currentColor\" text-anchor=\"middle\">nsubj</textPath>\n",
       "    </text>\n",
       "    <path class=\"displacy-arrowhead\" d=\"M1265.0,441.5 L1273.0,429.5 1257.0,429.5\" fill=\"currentColor\"/>\n",
       "</g>\n",
       "\n",
       "<g class=\"displacy-arrow\">\n",
       "    <path class=\"displacy-arc\" id=\"arrow-b06ad6aebdb04d96ac410c95f6bab103-0-7\" stroke-width=\"2px\" d=\"M1470,439.5 C1470,352.0 1605.0,352.0 1605.0,439.5\" fill=\"none\" stroke=\"currentColor\"/>\n",
       "    <text dy=\"1.25em\" style=\"font-size: 0.8em; letter-spacing: 1px\">\n",
       "        <textPath xlink:href=\"#arrow-b06ad6aebdb04d96ac410c95f6bab103-0-7\" class=\"displacy-label\" startOffset=\"50%\" side=\"left\" fill=\"currentColor\" text-anchor=\"middle\">det</textPath>\n",
       "    </text>\n",
       "    <path class=\"displacy-arrowhead\" d=\"M1470,441.5 L1462,429.5 1478,429.5\" fill=\"currentColor\"/>\n",
       "</g>\n",
       "\n",
       "<g class=\"displacy-arrow\">\n",
       "    <path class=\"displacy-arc\" id=\"arrow-b06ad6aebdb04d96ac410c95f6bab103-0-8\" stroke-width=\"2px\" d=\"M770,439.5 C770,89.5 1620.0,89.5 1620.0,439.5\" fill=\"none\" stroke=\"currentColor\"/>\n",
       "    <text dy=\"1.25em\" style=\"font-size: 0.8em; letter-spacing: 1px\">\n",
       "        <textPath xlink:href=\"#arrow-b06ad6aebdb04d96ac410c95f6bab103-0-8\" class=\"displacy-label\" startOffset=\"50%\" side=\"left\" fill=\"currentColor\" text-anchor=\"middle\">nmod</textPath>\n",
       "    </text>\n",
       "    <path class=\"displacy-arrowhead\" d=\"M1620.0,441.5 L1628.0,429.5 1612.0,429.5\" fill=\"currentColor\"/>\n",
       "</g>\n",
       "\n",
       "<g class=\"displacy-arrow\">\n",
       "    <path class=\"displacy-arc\" id=\"arrow-b06ad6aebdb04d96ac410c95f6bab103-0-9\" stroke-width=\"2px\" d=\"M770,439.5 C770,2.0 1800.0,2.0 1800.0,439.5\" fill=\"none\" stroke=\"currentColor\"/>\n",
       "    <text dy=\"1.25em\" style=\"font-size: 0.8em; letter-spacing: 1px\">\n",
       "        <textPath xlink:href=\"#arrow-b06ad6aebdb04d96ac410c95f6bab103-0-9\" class=\"displacy-label\" startOffset=\"50%\" side=\"left\" fill=\"currentColor\" text-anchor=\"middle\">nmod</textPath>\n",
       "    </text>\n",
       "    <path class=\"displacy-arrowhead\" d=\"M1800.0,441.5 L1808.0,429.5 1792.0,429.5\" fill=\"currentColor\"/>\n",
       "</g>\n",
       "</svg></span>"
      ],
      "text/plain": [
       "<IPython.core.display.HTML object>"
      ]
     },
     "metadata": {},
     "output_type": "display_data"
    }
   ],
   "source": [
    "from spacy import displacy\n",
    "\n",
    "displacy.render(doc, style='dep', jupyter=True)"
   ]
  },
  {
   "cell_type": "markdown",
   "metadata": {},
   "source": [
    "### ----------------------------------------------------------------------------------------------------------------------------------------------------------"
   ]
  },
  {
   "cell_type": "markdown",
   "metadata": {},
   "source": [
    "### Egyszerű webscrape példa (newspaper python csomag)\n",
    "A newspaper csomag segítségével egyszerűen gyűjthetünk le az internetről, többek közt cikkeket. \n",
    "Egy url megadása után képes leszedni a cikk címét, szövegtörzsét, megjelenés dátumát, kép/videó hivatkozásokat és a szerzőket, tag-eket.\n",
    "<br>\n",
    "Newspaper dokumentáció: (https://newspaper.readthedocs.io/en/latest/)"
   ]
  },
  {
   "cell_type": "code",
   "execution_count": 82,
   "metadata": {},
   "outputs": [],
   "source": [
    "from newspaper import Article\n",
    "\n",
    "def extract_content(url):\n",
    "    article = Article(url, language=\"hu\")\n",
    "    article.download()\n",
    "    article.parse()\n",
    "    return \"{}\\n\\n{}\\n{}\".format(article.title, article.text, article.authors)"
   ]
  },
  {
   "cell_type": "code",
   "execution_count": 84,
   "metadata": {},
   "outputs": [
    {
     "data": {
      "text/plain": [
       "A friss Nobel-békedíjas etióp kormányfő a Nílussal hazárdírozik\n",
       "\n",
       "Etiópia feszített tempóban dolgozik, hogy minél gyorsabban befejezze a Nílus egyik ágára tervezett Nagy Reneszánsz-gátat, ami elektromossággal látná el az infrastruktúrájában meglehetősen elmaradott országot. A tervtől azonban a Nílus alsóbb folyása mentén lévő országok kiakadtak, hiszen ez az ivóvízkészletük megtizedelésével járna. Egyiptomi katonai vezetők már a háborút tervezgették egy időben.\n",
       "\n",
       "Az oslói Nobel-bizottság pénteken jelentette be, hogy az idei Nobel-békedíjat Abij Ahmed Ali etióp miniszterelnök kapja. A díj indoklása szerint a miniszterelnök sokat tett a békéért, a nemzetközi együttműködésért, és különösen azért, hogy megoldja a határkonfliktust a szomszédos Eritreával. Számos olyan reformot is megindított, amivel sok etiópnak adott reményt egy jobb életre. Miniszterelnökként a megbékélést, a szolidaritást és a társadalmi igazságosságot tartotta szem előtt.\n",
       "\n",
       "Kérdés, hogy erről a szudániak és főképp az egyiptomiak is így vélekednek-e.\n",
       "\n",
       "A Kék-Nílusra épített Nagy Etióp Reneszánsz-gát ügyében ugyanis Etiópia hozzáállása – a tőle északra elhelyezkedő országok szerint – ugyanis nem éppen a megbékélésről, a szolidaritásról és a társadalmi igazságosságról szól, ez egy komoly feszültségforrás a régióban. Azt nem vitatják, hogy a gát – és az általa felduzzasztott víz hajtotta vízi erőmű – valóban jobb életet hozhat az etiópok számára. Csakhogy eközben az ő életük lehet sokkal rosszabb, a félt vízhiány miatt.\n",
       "\n",
       "Elapadó remények\n",
       "\n",
       "Néhány napja a szudáni fővárosban, Kartúmban gyűltek össze Egyiptom, Etiópia és Szudán ökológusai és hidrológusai, hogy a Reneszánsz-gát környezeti hatásait vitassák meg. A konferencián nem jutottak egymással dűlőre, mindannyian másképp ítélik meg azt, hogy a gát megépítése, és az erőmű működtetéséhez szükséges víz elterelése milyen hatást fog gyakorolni a Nílus élővilágára, és legfőképpen az évezredek óta a folyóból öntöző közösségek életére.\n",
       "\n",
       "A kutatói konferencia után Kairóban találkoztak egymással az érintett országok vízügyi miniszterei, de ott sem született semmiféle eredmény. Egyiptom az Egyesült Államokat kérte, hogy szálljon be az egyezkedésbe, ami semerre sem halad. Egyiptom félelme az, hogy a Nílus elrekesztése konkrétan ki fogja szárítani az országot, emberek milliói maradnak víz nélkül, a mezőgazdaság összeomlik, és táplálékhiány alakul ki.\n",
       "\n",
       "És ezek az aggodalmak megalapozottak. Egyiptom édesvízkészletének kilencven százaléka a Nílusból származik, a folyó vízhozama nagyobbik részét pedig az Etiópiából érkező Kék-Nílus ág szállítja. Etiópia ezzel szemben arra hivatkozik, hogy a gát és az erőmű létfontosságú számára, és más országoknak különben sincs beleszólásuk abba, hogy mit épít a saját területén. A Világbank adatai szerint az etiópiaiak kétharmada nem jut elektromossághoz, a Reneszánsz-gát (amely nagyjából 60 százalékban van kész) azonban ezen gyökeresen változtatna: 6,45 gigawatt áramot termel majd a tervek szerint.\n",
       "\n",
       "Sőt, Etiópia szerint a gát egyenesen áldás lenne a tőle északra elhelyezkedő országok számára. Jelenleg a Nílus hektikus vízszintje rendszeres aszályokat és áradásokat okoz a folyó mentén. Etiópia szerint a gát miatt kiegyenlítettebb lesz a vízszint, aminek inkább örülni kéne.\n",
       "\n",
       "A vita középpontjában az áll, hogy milyen gyorsan töltsék föl a víztározót, amely azután a vízi erőmű turbináit meghajtó vizet fogja biztosítani.\n",
       "\n",
       "Etiópia öt év alatt akarja feltölteni a tározót a Kék-Nílusból, ezalatt 35 milliárd köbméter vizet engedne át az alsóbb folyás mentén fekvő államoknak évente.\n",
       "\n",
       "Egyiptom szerint ez elfogadhatatlan mértékben csökkentené a vízkészleteit, ők azt kérik, hogy lassabban, hét év alatt töltsék fel a tározót, és több, 40 milliárd köbméter vizet engedjenek át.\n",
       "\n",
       "A nemzetközi jog széttárja a kezét\n",
       "\n",
       "A megegyezést nehezíti, hogy Egyiptom és Etiópia között nincs formális vízmegosztási egyezmény. Egyiptom és Szudán között viszont van: az 1959-es megállapodás (amelyet azelőtt kötöttek, hogy Egyiptomban megnyitották volna az ő hasonló megaprojektjüket, az Asszuáni-gátat) értelmében Szudán 18,5 milliárd köbméter, míg Egyiptom 55,5 milliárd köbméter vizet vehet ki évente a Nílusból.\n",
       "\n",
       "Etiópia nem kötött hasonló egyezményt, és nem is egyeznek bele semmilyen megállapodásba, amely korlátozná a lehetőségeiket, hogy úgy működtessék a hamarosan befejezendő Nílus-gátat, ahogy csak szeretnék.\n",
       "\n",
       "A független szakértők elismerik ugyan, hogy ha átlagos mennyiségű csapadék esik, akkor Egyiptomban nem lenne szabad komolyabb vízhiánynak előállnia, ha az etiópiaiak valóban átengedik a 35 milliárd köbméter vizet, amit ígérnek.\n",
       "\n",
       "Csakhogy ha aszály üt be (amelyre a klímaváltozás miatt egyre nagyobb az esély), a helyzet már gyökeresen változhat.\n",
       "\n",
       "A nemzetközi elemzők elméletben inkább Egyiptomnak adnak igazat, ugyanakkor hangsúlyozzák, hogy a diplomáciai térben nem sok mindent tehet. Elviheti az ügyet a hágai Nemzetközi Bíróságra, de ehhez Etiópia hozzájárulása is kell, amelyben vállalják, hogy alávetik magukat a döntésnek. De még ebben az esetben sem valószínű, hogy elmarasztalnák Etiópiát. Minthogy ugyanis nemzetközi egyezmények nem kötik a kezét, a saját területén gyakorlatilag azt csinál, amit akar.\n",
       "\n",
       "A nemzetközi jog nincs felkészülve azokra az esetekre, amikor az egyik ország a felségterületén olyat tesz, amely teljesen ellentétes a szomszédok érdekeivel. Számtalanszor előfordult már ilyesmi, de a folyók elrekesztése, megmérgezése, a határon átszálló légszennyezések lényegében megfoghatatlanok jogilag. Egyiptom jelenleg a tárgyalásos megoldás szükségességét, illetve az érintett országok közös érdekét hangsúlyozza. Az azonban kérdéses, hogy meddig lennének hajlandók elmenni, ha az etiópiaiak önhatalmúlag valóban eltérítenék a Kék-Nílus vízhozamának jelentős részét.\n",
       "\n",
       "B-terv\n",
       "\n",
       "Egyiptom ugyanis vélhetően B-tervvel is készül. Kevéssé valószínű, hogy azok az indulatok, amelyek egy hat évvel ezelőtti kiszivárgott értekezletet jellemeztek, bármennyit is csitultak volna – hiszen az ügy alakulása semmiben sem közelített az ő elvárásaikhoz.\n",
       "\n",
       "2013-ban a Muhammad Morszi akkori egyiptomi elnök által összehívott egyeztetésen megjelent politikusok, nem sejtvén, hogy már működnek a kamerák, meglehetős nyíltsággal beszéltek a probléma megoldásának sokkal célravezetőbb módjairól. Az értekezleten számos megoldási javaslat felmerült:\n",
       "\n",
       "Egyiptom támogathatná az etióp lázadókat, és velük tarthatná sakkban az etióp kormányt.\n",
       "\n",
       "A titkosszolgálat felrobbanthatná a gátat.\n",
       "\n",
       "Egyiptomi vadászgépek is porig bombázhatnák a létesítményt.\n",
       "\n",
       "A megszégyenült egyiptomi vezetés akkor sietett biztosítani a háborús fenyegetést kiáltó etiópokat, hogy mindenképpen a diplomáciát pártolják a vadászgépekkel és a konspirációval szemben, de arra figyeltek, hogy a megnyugtatásban azért ne zárják ki teljesen a katonai csapás lehetőségét.\n",
       "\n",
       "Mindennek esélyét azonban jelenleg csökkenti, hogy a nemzetközi közvélemény szemében Kairó most az áldozat, és az etiópok hajthatatlansága az elítélendő lépés. Ezt a pozitív megítélést Egyiptom vélhetően nem szívesen kockáztatná, ha lát bármilyen más esélyt az éltető víz megszerzésére.\n",
       "['Molnár Csaba']"
      ]
     },
     "execution_count": 84,
     "metadata": {},
     "output_type": "execute_result"
    }
   ],
   "source": [
    "doc = nlp(extract_content(\"https://index.hu/kulfold/2019/10/11/abij_ahmed_ali_nobel_bekedij_nagy_etiop_reneszansz_gat_etiopia_nilus_szudan_egyiptom/\"))\n",
    "doc"
   ]
  },
  {
   "cell_type": "markdown",
   "metadata": {},
   "source": [
    "### ----------------------------------------------------------------------------------------------------------------------------------------------------------"
   ]
  },
  {
   "cell_type": "markdown",
   "metadata": {},
   "source": [
    "### Névelem felismerés (NER = Named Entity Recognition)\n",
    "A NER elemzések során a dokumentumokból olyan információkat lehet kinyerni, mint például, hogy milyen tulajdonnevek, földrajzi nevek, szervezetek szerepeltek a szövegben.\n",
    "<br>\n",
    "A Spacy nem adja vissza a dokumentum összes tokenjét, csak azokat, amelyeket a NER során kategóriába tud sorolni.\n",
    "<br>\n",
    "Az alap modellek, olyan tag-eket használnak, mint például a \"PER\", \"ORG\" vagy a \"LOC\""
   ]
  },
  {
   "cell_type": "markdown",
   "metadata": {},
   "source": [
    "#### NER által ismert névelemek\n",
    "| Típus | Leírás | \n",
    "| :-  | :-  | \n",
    "| **PER** | Személy neve, családi/utónév |\n",
    "| **LOC** | Földrajzi helyek (városok, országok, hegyek, stb. |\n",
    "| **ORG** | Szervezetek, cégek, kormányok nevei |\n",
    "| **MISC** | Különböző entitások, pl. események, nemzetiségek, termékes, stb. |"
   ]
  },
  {
   "cell_type": "markdown",
   "metadata": {},
   "source": [
    "**Entitások kigyűjtése és a ner kategóriák meghatározása**"
   ]
  },
  {
   "cell_type": "code",
   "execution_count": 87,
   "metadata": {},
   "outputs": [
    {
     "name": "stdout",
     "output_type": "stream",
     "text": [
      "{'Nílussal': 'ORG', 'Etiópia': 'LOC', 'Nílus': 'LOC', 'Nagy Reneszánsz-gátat': 'LOC', 'Egyiptomi': 'LOC', 'Nobel-bizottság': 'ORG', 'Abij Ahmed Ali': 'PER', 'A díj': 'MISC', 'Eritreával': 'MISC', 'Miniszterelnökként': 'ORG', 'Kék-Nílusra épített Nagy Etióp Reneszánsz-gát': 'MISC', 'Elapadó': 'LOC', 'Kartúmban': 'LOC', 'Egyiptom': 'LOC', 'Szudán': 'LOC', 'Reneszánsz-gát környezeti': 'ORG', 'Kairóban': 'LOC', 'Egyesült Államokat': 'LOC', 'Nílusból': 'LOC', 'Etiópiából': 'LOC', 'Kék-Nílus ág': 'LOC', 'Világbank': 'ORG', 'Reneszánsz-gát': 'ORG', 'Kék-Nílusból': 'LOC', 'Egyiptomban': 'LOC', 'Asszuáni-gátat': 'ORG', 'Nílus-gátat': 'LOC', 'Egyiptomnak': 'LOC', 'Elviheti': 'MISC', 'Nemzetközi Bíróságra': 'ORG', 'Etiópiát': 'LOC', 'Kék-Nílus': 'ORG', 'B-terv': 'MISC', 'B-tervvel': 'ORG', 'Kevéssé': 'MISC', 'Muhammad Morszi': 'PER', 'Az értekezleten számos megoldási javaslat felmerült:\\n\\n': 'MISC', 'Kairó': 'LOC', 'Molnár Csaba': 'PER'}\n"
     ]
    }
   ],
   "source": [
    "# két üres lista létrehozása\n",
    "token = []\n",
    "entit = []\n",
    "for ent in doc.ents:\n",
    "    # listához fűzés, feltöltés\n",
    "    token.append(ent.text)\n",
    "    entit.append(ent.label_)\n",
    "\n",
    "# listák szótárrá alakítása\n",
    "ner = dict(zip(token, entit))\n",
    "print(ner)"
   ]
  },
  {
   "cell_type": "markdown",
   "metadata": {},
   "source": [
    "**Entitások szűrése NER kategória alapján**"
   ]
  },
  {
   "cell_type": "code",
   "execution_count": 86,
   "metadata": {},
   "outputs": [
    {
     "data": {
      "text/plain": [
       "['Abij Ahmed Ali', 'Muhammad Morszi', 'Molnár Csaba']"
      ]
     },
     "execution_count": 86,
     "metadata": {},
     "output_type": "execute_result"
    }
   ],
   "source": [
    "PER_ent = {key:value for (key, value) in ner.items() if value == 'PER'}\n",
    "list(PER_ent.keys())"
   ]
  },
  {
   "cell_type": "markdown",
   "metadata": {},
   "source": [
    "### ----------------------------------------------------------------------------------------------------------------------------------------------------------"
   ]
  },
  {
   "cell_type": "markdown",
   "metadata": {},
   "source": [
    "## Keyword extraction\n",
    "A Textacy textrank() függvénye a PageRank algoritmuson alapszik, amelyet a dokumentumban lévő kulcskifejezések feltárásához használhatunk.\n",
    "<br>\n",
    "A PageRank algoritmus-ról bővebben itt olvasható: \n",
    "<br>\n",
    "* (https://towardsdatascience.com/textrank-for-keyword-extraction-by-python-c0bae21bcec0)\n"
   ]
  },
  {
   "cell_type": "code",
   "execution_count": null,
   "metadata": {},
   "outputs": [],
   "source": [
    "from collections import OrderedDict\n",
    "import numpy as np\n",
    "import spacy"
   ]
  },
  {
   "cell_type": "code",
   "execution_count": null,
   "metadata": {},
   "outputs": [],
   "source": [
    "# hungarian stop_words.txt beolvasása:\n",
    "with open(\"nlp_utils/stop_words.txt\", \"r\", encoding='utf-8') as f:\n",
    "    STOP_WORDS = [i for line in f for i in line.split('\\n')]\n",
    "    STOP_WORDS = list(filter(None, STOP_WORDS))"
   ]
  },
  {
   "cell_type": "code",
   "execution_count": 35,
   "metadata": {},
   "outputs": [],
   "source": [
    "# osztály létrehozása:\n",
    "class TextRank4Keyword():\n",
    "    \"\"\"Extract keywords from text\"\"\"\n",
    "    \n",
    "    def __init__(self):\n",
    "        self.d = 0.85 # damping coefficient, usually is .85\n",
    "        self.min_diff = 1e-5 # convergence threshold\n",
    "        self.steps = 10 # iteration steps\n",
    "        self.node_weight = None # save keywords and its weight\n",
    "\n",
    "    # stopszavak felcímkézése a szótárban\n",
    "    def set_stopwords(self, stopwords):  \n",
    "        \"\"\"Set stop words\"\"\"\n",
    "        for word in STOP_WORDS:\n",
    "            lexeme = nlp.vocab[word]\n",
    "            lexeme.is_stop = True\n",
    "    \n",
    "    # szöveg mondatokra bontása, szófajok szűrése\n",
    "    def sentence_segment(self, doc, candidate_pos, lower):\n",
    "        \"\"\"Store those words only in cadidate_pos\"\"\"\n",
    "        sentences = []\n",
    "        for sent in doc.sents:\n",
    "            selected_words = []\n",
    "            for token in sent:\n",
    "                # Store words only with cadidate POS tag\n",
    "                if token.pos_ in candidate_pos and token.is_stop is False:\n",
    "                    if lower is True:\n",
    "                        selected_words.append(token.text.lower())\n",
    "                    else:\n",
    "                        selected_words.append(token.text)\n",
    "            sentences.append(selected_words)\n",
    "        return sentences\n",
    "        \n",
    "    # \"szófajszűrt\" mondatokból szótár előállítása\n",
    "    def get_vocab(self, sentences):\n",
    "        \"\"\"Get all tokens\"\"\"\n",
    "        vocab = OrderedDict()\n",
    "        i = 0\n",
    "        for sentence in sentences:\n",
    "            for word in sentence:\n",
    "                if word not in vocab:\n",
    "                    vocab[word] = i\n",
    "                    i += 1\n",
    "        return vocab\n",
    "    \n",
    "    # N-grammok előállítása tokenpárokból, N = window size\n",
    "    def get_token_pairs(self, window_size, sentences):\n",
    "        \"\"\"Build token_pairs from windows in sentences\"\"\"\n",
    "        token_pairs = list()\n",
    "        for sentence in sentences:\n",
    "            for i, word in enumerate(sentence):\n",
    "                for j in range(i+1, i+window_size):\n",
    "                    if j >= len(sentence):\n",
    "                        break\n",
    "                    pair = (word, sentence[j])\n",
    "                    if pair not in token_pairs:\n",
    "                        token_pairs.append(pair)\n",
    "        return token_pairs\n",
    "        \n",
    "    def symmetrize(self, a):\n",
    "        return a + a.T - np.diag(a.diagonal())\n",
    "    \n",
    "    def get_matrix(self, vocab, token_pairs):\n",
    "        \"\"\"Get normalized matrix\"\"\"\n",
    "        # Build matrix\n",
    "        vocab_size = len(vocab)\n",
    "        g = np.zeros((vocab_size, vocab_size), dtype='float')\n",
    "        for word1, word2 in token_pairs:\n",
    "            i, j = vocab[word1], vocab[word2]\n",
    "            g[i][j] = 1\n",
    "            \n",
    "        # Get Symmeric matrix\n",
    "        g = self.symmetrize(g)\n",
    "        \n",
    "        # Normalize matrix by column\n",
    "        norm = np.sum(g, axis=0)\n",
    "        g_norm = np.divide(g, norm, where=norm!=0) # this is ignore the 0 element in norm\n",
    "        \n",
    "        return g_norm\n",
    "\n",
    "    \n",
    "    def get_keywords(self, number=10):\n",
    "        \"\"\"Print top number keywords\"\"\"\n",
    "        node_weight = OrderedDict(sorted(self.node_weight.items(), key=lambda t: t[1], reverse=True))\n",
    "        for i, (key, value) in enumerate(node_weight.items()):\n",
    "            print(key + ' - ' + str(value))\n",
    "            if i > number:\n",
    "                break\n",
    "        \n",
    "        \n",
    "    def analyze(self, text, \n",
    "                candidate_pos=['NOUN', 'PROPN'], \n",
    "                window_size=4, lower=False, stopwords=list()):\n",
    "        \"\"\"Main function to analyze text\"\"\"\n",
    "        \n",
    "        # Set stop words\n",
    "        self.set_stopwords(stopwords)\n",
    "        \n",
    "        # Pare text by spaCy\n",
    "        doc = nlp(text)\n",
    "        \n",
    "        # Filter sentences\n",
    "        sentences = self.sentence_segment(doc, candidate_pos, lower) # list of list of words\n",
    "        \n",
    "        # Build vocabulary\n",
    "        vocab = self.get_vocab(sentences)\n",
    "        \n",
    "        # Get token_pairs from windows\n",
    "        token_pairs = self.get_token_pairs(window_size, sentences)\n",
    "        \n",
    "        # Get normalized matrix\n",
    "        g = self.get_matrix(vocab, token_pairs)\n",
    "        \n",
    "        # Initionlization for weight(pagerank value)\n",
    "        pr = np.array([1] * len(vocab))\n",
    "        \n",
    "        # Iteration\n",
    "        previous_pr = 0\n",
    "        for epoch in range(self.steps):\n",
    "            pr = (1-self.d) + self.d * np.dot(g, pr)\n",
    "            if abs(previous_pr - sum(pr))  < self.min_diff:\n",
    "                break\n",
    "            else:\n",
    "                previous_pr = sum(pr)\n",
    "\n",
    "        # Get weight for each node\n",
    "        node_weight = dict()\n",
    "        for word, index in vocab.items():\n",
    "            node_weight[word] = pr[index]\n",
    "        \n",
    "        self.node_weight = node_weight"
   ]
  },
  {
   "cell_type": "code",
   "execution_count": 89,
   "metadata": {},
   "outputs": [
    {
     "name": "stdout",
     "output_type": "stream",
     "text": [
      "Egyiptom - 6.372947298370771\n",
      "Etiópia - 5.126571681828835\n",
      "országok - 3.788239722174755\n",
      "Nílus - 3.441852109467096\n",
      "erőmű - 2.8956095454208364\n",
      "víz - 2.8221176117239186\n",
      "köbméter - 2.5610484772389985\n",
      "gát - 2.5068865898826993\n",
      "vizet - 2.3816003156618066\n",
      "etiópiaiak - 2.15157025806977\n",
      "elrekesztése - 1.9078519781488743\n",
      "Szudán - 1.8731225666656992\n"
     ]
    }
   ],
   "source": [
    "doc = extract_content(\"https://index.hu/kulfold/2019/10/11/abij_ahmed_ali_nobel_bekedij_nagy_etiop_reneszansz_gat_etiopia_nilus_szudan_egyiptom/\")\n",
    "\n",
    "tr4w = TextRank4Keyword()\n",
    "tr4w.analyze(doc, candidate_pos = ['NOUN', 'PROPN', 'VERB'], window_size=4, lower=False)\n",
    "tr4w.get_keywords(10)"
   ]
  }
 ],
 "metadata": {
  "kernelspec": {
   "display_name": "Python 3",
   "language": "python",
   "name": "python3"
  },
  "language_info": {
   "codemirror_mode": {
    "name": "ipython",
    "version": 3
   },
   "file_extension": ".py",
   "mimetype": "text/x-python",
   "name": "python",
   "nbconvert_exporter": "python",
   "pygments_lexer": "ipython3",
   "version": "3.7.6"
  }
 },
 "nbformat": 4,
 "nbformat_minor": 4
}

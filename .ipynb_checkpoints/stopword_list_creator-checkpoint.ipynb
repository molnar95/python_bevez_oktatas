{
 "cells": [
  {
   "cell_type": "code",
   "execution_count": null,
   "metadata": {},
   "outputs": [],
   "source": [
    "from nltk.corpus import stopwords\n",
    "\n",
    "stop_nltk = stopwords.words('hungarian')\n",
    "\n",
    "with open(\"stopwords.txt\", \"r\", encoding='utf-8') as f:\n",
    "    stop = [i for line in f for i in line.split('\\n')]\n",
    "    stop = list(filter(None, stop))\n",
    "    \n",
    "all_stop = stop_nltk + stop\n",
    "\n",
    "def unique(lst):\n",
    "    unique_list = []\n",
    "    for x in lst:\n",
    "        if x not in unique_list:\n",
    "            unique_list.append(x)\n",
    "    return unique_list\n",
    "\n",
    "stop = unique(all_stop)\n",
    "\n",
    "with open('stop_words.txt', 'w', encoding='utf-8') as output:\n",
    "    for item in stop:\n",
    "        output.write(\"%s\\n\" % item)"
   ]
  }
 ],
 "metadata": {
  "kernelspec": {
   "display_name": "Python 3",
   "language": "python",
   "name": "python3"
  },
  "language_info": {
   "codemirror_mode": {
    "name": "ipython",
    "version": 3
   },
   "file_extension": ".py",
   "mimetype": "text/x-python",
   "name": "python",
   "nbconvert_exporter": "python",
   "pygments_lexer": "ipython3",
   "version": "3.7.6"
  }
 },
 "nbformat": 4,
 "nbformat_minor": 4
}

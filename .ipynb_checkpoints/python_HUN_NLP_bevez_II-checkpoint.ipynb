{
 "cells": [
  {
   "cell_type": "markdown",
   "metadata": {},
   "source": [
    "# Magyar NLP - előfeldolgozás"
   ]
  },
  {
   "cell_type": "markdown",
   "metadata": {},
   "source": [
    "A szöveges adatokban nyers formájukban még rengeteg elemzéshez irreleváns elem, zaj lehet, melyektől meg kell tisztítani a dokumentumokat.\n",
    "<br>\n",
    "Vannak olyan lépések, amelyeket el kell végeznünk mielőtt nekiállnánk elemezni a dokumentumgyűjteményünket.\n",
    "<br>\n",
    "Ebben a notebook-ban sorrol sorra átvesszük, hogy milyen előfeldolgozáson kell alávetni a dokomentumgyűjteményt, hogy elemezhető legyen.\n",
    "<br>\n",
    "**Tartalom:**\n",
    "* Csomagok importálása,\n",
    "* Fájlok beolvasása,\n",
    "* Adatfeltárás,\n",
    "* Korpusz tisztítása,\n",
    "* Szövegbányászati elemzésekre való előkészítés\n",
    "* Tisztított adatok tárolása"
   ]
  },
  {
   "cell_type": "markdown",
   "metadata": {},
   "source": [
    "### ---------------------------------------------------------------------------------------\n"
   ]
  },
  {
   "cell_type": "markdown",
   "metadata": {},
   "source": [
    "### Csomagok betöltése"
   ]
  },
  {
   "cell_type": "code",
   "execution_count": 256,
   "metadata": {},
   "outputs": [
    {
     "name": "stderr",
     "output_type": "stream",
     "text": [
      "C:\\Users\\molna\\anaconda3\\lib\\site-packages\\spacy\\util.py:275: UserWarning: [W031] Model 'hu_core_ud_lg' (0.3.1) requires spaCy v2.1 and is incompatible with the current spaCy version (2.3.5). This may lead to unexpected results or runtime errors. To resolve this, download a newer compatible model or retrain your custom model with the current spaCy version. For more details and available updates, run: python -m spacy validate\n",
      "  warnings.warn(warn_msg)\n"
     ]
    }
   ],
   "source": [
    "# adatkezelés\n",
    "import pandas as pd\n",
    "import numpy as np\n",
    "\n",
    "# adatelőkészítés:\n",
    "import unicodedata\n",
    "import re \n",
    "from datetime import datetime\n",
    "\n",
    "# NLP csomagok:\n",
    "import spacy\n",
    "import hu_core_ud_lg as hu\n",
    "nlp = hu.load()\n",
    "\n",
    "from nltk.tokenize import TweetTokenizer \n",
    "tknzr = TweetTokenizer() # gyorsabb, mint a Spacy tokenizáció\n",
    "\n",
    "\n",
    "import warnings\n",
    "warnings.filterwarnings('ignore')"
   ]
  },
  {
   "cell_type": "markdown",
   "metadata": {},
   "source": [
    "### ---------------------------------------------------------------------------------------\n"
   ]
  },
  {
   "cell_type": "markdown",
   "metadata": {},
   "source": [
    "## Fájlok beolvasása"
   ]
  },
  {
   "cell_type": "markdown",
   "metadata": {},
   "source": [
    "**Stopszólista beolvasása**\n",
    "<br>\n",
    "A magyar stopszólistát kettő dokumentumból állítottam elő:\n",
    "<br>\n",
    "1. NLTK csomag: https://github.com/xiamx/node-nltk-stopwords/blob/master/data/stopwords/hungarian\n",
    "2. Github: https://github.com/stopwords-iso/stopwords-hu/blob/master/stopwords-hu.txt\n",
    "<br>\n",
    "Ezeket összefűztem, majd \"unique\"-oltam (lsd. stopword_list_creator.ipybn)"
   ]
  },
  {
   "cell_type": "code",
   "execution_count": 203,
   "metadata": {},
   "outputs": [],
   "source": [
    "with open(\"nlp_utils/stop_words.txt\", \"r\", encoding='utf-8') as f:\n",
    "    stop = [i for line in f for i in line.split('\\n')]\n",
    "    stop = list(filter(None, stop))"
   ]
  },
  {
   "cell_type": "code",
   "execution_count": 204,
   "metadata": {},
   "outputs": [
    {
     "data": {
      "text/plain": [
       "['ahogy',\n",
       " 'ahol',\n",
       " 'aki',\n",
       " 'akik',\n",
       " 'akkor',\n",
       " 'alatt',\n",
       " 'által',\n",
       " 'általában',\n",
       " 'amely']"
      ]
     },
     "execution_count": 204,
     "metadata": {},
     "output_type": "execute_result"
    }
   ],
   "source": [
    "stop[1:10]"
   ]
  },
  {
   "cell_type": "markdown",
   "metadata": {},
   "source": [
    "**Dokumentumgyűjtemény beolvasása**"
   ]
  },
  {
   "cell_type": "code",
   "execution_count": 205,
   "metadata": {},
   "outputs": [
    {
     "name": "stderr",
     "output_type": "stream",
     "text": [
      "C:\\Users\\molna\\anaconda3\\lib\\site-packages\\ipykernel_launcher.py:1: ParserWarning: Falling back to the 'python' engine because the 'c' engine does not support regex separators (separators > 1 char and different from '\\s+' are interpreted as regex); you can avoid this warning by specifying engine='python'.\n",
      "  \"\"\"Entry point for launching an IPython kernel.\n"
     ]
    },
    {
     "name": "stdout",
     "output_type": "stream",
     "text": [
      "2020 index corpus loaded\n",
      "Length of the corpus: 8803 articles\n"
     ]
    }
   ],
   "source": [
    "df_index = pd.read_csv(\"data/2020.csv\", sep=\"%%\", encoding=\"utf-8\", header=0)\n",
    "\n",
    "print(\"2020 index corpus loaded\")\n",
    "print(\"Length of the corpus: {} articles\".format(len(df_index)))"
   ]
  },
  {
   "cell_type": "markdown",
   "metadata": {},
   "source": [
    "**Random mintavétel a korpuszból (gyorsaság miatt)**"
   ]
  },
  {
   "cell_type": "code",
   "execution_count": 288,
   "metadata": {},
   "outputs": [
    {
     "name": "stdout",
     "output_type": "stream",
     "text": [
      "Length of the sampled corpus: 3000 articles\n"
     ]
    }
   ],
   "source": [
    "df_index = df_index.sample(n=3000, replace=False, random_state=1)\n",
    "print(\"Length of the sampled corpus: {} articles\".format(len(df_index)))"
   ]
  },
  {
   "cell_type": "markdown",
   "metadata": {},
   "source": [
    "### ---------------------------------------------------------------------------------------\n"
   ]
  },
  {
   "cell_type": "markdown",
   "metadata": {},
   "source": [
    "## Dokumentumgyűjtemény feltárása"
   ]
  },
  {
   "cell_type": "markdown",
   "metadata": {},
   "source": [
    "A dokumentumgyűjteményt érdemes pandas DataFrame objektumként tárolni, mivel az egyes cellákba beleférnek nagyon hosszú sztringek is. Valamint amikor tokenizálunk akkor a dokumentum \"szózsákját\" csináljuk meg, ami nem más, mint a szövegben található szavak vektora, amit egy python listában tárolhatunk. A dataframe celláiba pedig listák és szótárak is beilleszthetőek."
   ]
  },
  {
   "cell_type": "markdown",
   "metadata": {},
   "source": [
    "**Korpusz első N db sorának kiírása**"
   ]
  },
  {
   "cell_type": "code",
   "execution_count": 206,
   "metadata": {},
   "outputs": [
    {
     "data": {
      "text/html": [
       "<div>\n",
       "<style scoped>\n",
       "    .dataframe tbody tr th:only-of-type {\n",
       "        vertical-align: middle;\n",
       "    }\n",
       "\n",
       "    .dataframe tbody tr th {\n",
       "        vertical-align: top;\n",
       "    }\n",
       "\n",
       "    .dataframe thead th {\n",
       "        text-align: right;\n",
       "    }\n",
       "</style>\n",
       "<table border=\"1\" class=\"dataframe\">\n",
       "  <thead>\n",
       "    <tr style=\"text-align: right;\">\n",
       "      <th></th>\n",
       "      <th>\"cim\"</th>\n",
       "      <th>\"datum\"</th>\n",
       "      <th>\"szerzo\"</th>\n",
       "      <th>\"tag\"</th>\n",
       "      <th>\"head\"</th>\n",
       "      <th>\"szoveg\"</th>\n",
       "    </tr>\n",
       "  </thead>\n",
       "  <tbody>\n",
       "    <tr>\n",
       "      <th>\"1\"</th>\n",
       "      <td>\"Halálra gázoltak egy gyalogost Kiskunmajsán, ...</td>\n",
       "      <td>\"2020.01.01. 07:03\"</td>\n",
       "      <td>\"NA\"</td>\n",
       "      <td>\"Belföld:,Gyász,baleset,gázolás,kiskunmajsa\"</td>\n",
       "      <td>\"NA\"</td>\n",
       "      <td>\"Kiskunmajsán, a Fő utcában 2020. január 1-én ...</td>\n",
       "    </tr>\n",
       "    <tr>\n",
       "      <th>\"2\"</th>\n",
       "      <td>\"Völner szerint félreértették, amikor Orbán az...</td>\n",
       "      <td>\"2020.01.11. 19:35 \"</td>\n",
       "      <td>\"NA\"</td>\n",
       "      <td>\"Belföld,orbán,orbán,viktor,völner,pál,kormány...</td>\n",
       "      <td>\"NA\"</td>\n",
       "      <td>\" Az Európai Unió Bíróságának döntése alapján ...</td>\n",
       "    </tr>\n",
       "    <tr>\n",
       "      <th>\"3\"</th>\n",
       "      <td>\"Minden, amit tudni akart az elefánt péniszérő...</td>\n",
       "      <td>\"2020.01.13. 04:55\"</td>\n",
       "      <td>\"NA\"</td>\n",
       "      <td>\"Tudomány,Ma,Is,Tanultam,Valamit,elefánt,pénis...</td>\n",
       "      <td>\"NA\"</td>\n",
       "      <td>\" Ha abban reménykedett volna, hogy a hiénákka...</td>\n",
       "    </tr>\n",
       "  </tbody>\n",
       "</table>\n",
       "</div>"
      ],
      "text/plain": [
       "                                                 \"cim\"               \"datum\"  \\\n",
       "\"1\"  \"Halálra gázoltak egy gyalogost Kiskunmajsán, ...   \"2020.01.01. 07:03\"   \n",
       "\"2\"  \"Völner szerint félreértették, amikor Orbán az...  \"2020.01.11. 19:35 \"   \n",
       "\"3\"  \"Minden, amit tudni akart az elefánt péniszérő...   \"2020.01.13. 04:55\"   \n",
       "\n",
       "    \"szerzo\"                                              \"tag\" \"head\"  \\\n",
       "\"1\"     \"NA\"       \"Belföld:,Gyász,baleset,gázolás,kiskunmajsa\"   \"NA\"   \n",
       "\"2\"     \"NA\"  \"Belföld,orbán,orbán,viktor,völner,pál,kormány...   \"NA\"   \n",
       "\"3\"     \"NA\"  \"Tudomány,Ma,Is,Tanultam,Valamit,elefánt,pénis...   \"NA\"   \n",
       "\n",
       "                                              \"szoveg\"  \n",
       "\"1\"  \"Kiskunmajsán, a Fő utcában 2020. január 1-én ...  \n",
       "\"2\"  \" Az Európai Unió Bíróságának döntése alapján ...  \n",
       "\"3\"  \" Ha abban reménykedett volna, hogy a hiénákka...  "
      ]
     },
     "execution_count": 206,
     "metadata": {},
     "output_type": "execute_result"
    }
   ],
   "source": [
    "df_index.head(3)"
   ]
  },
  {
   "cell_type": "markdown",
   "metadata": {},
   "source": [
    "**Korpusz oszlopneveinek lekérése**"
   ]
  },
  {
   "cell_type": "code",
   "execution_count": 207,
   "metadata": {},
   "outputs": [
    {
     "data": {
      "text/plain": [
       "Index(['\"cim\"', '\"datum\"', '\"szerzo\"', '\"tag\"', '\"head\"', '\"szoveg\"'], dtype='object')"
      ]
     },
     "execution_count": 207,
     "metadata": {},
     "output_type": "execute_result"
    }
   ],
   "source": [
    "df_index.columns"
   ]
  },
  {
   "cell_type": "code",
   "execution_count": 208,
   "metadata": {},
   "outputs": [],
   "source": [
    "df_index.columns = df_index.columns.str.replace('\"', '')"
   ]
  },
  {
   "cell_type": "code",
   "execution_count": 209,
   "metadata": {},
   "outputs": [
    {
     "data": {
      "text/plain": [
       "Index(['cim', 'datum', 'szerzo', 'tag', 'head', 'szoveg'], dtype='object')"
      ]
     },
     "execution_count": 209,
     "metadata": {},
     "output_type": "execute_result"
    }
   ],
   "source": [
    "df_index.columns"
   ]
  },
  {
   "cell_type": "markdown",
   "metadata": {},
   "source": [
    "**DataFrame info() lekérés**\n",
    "<br> \n",
    "Megnézhetjük, hogy az egyes oszlopok milyen típusúak.\n",
    "<br>\n",
    "Object = szöveges (sztring)"
   ]
  },
  {
   "cell_type": "code",
   "execution_count": 210,
   "metadata": {
    "scrolled": true
   },
   "outputs": [
    {
     "name": "stdout",
     "output_type": "stream",
     "text": [
      "<class 'pandas.core.frame.DataFrame'>\n",
      "Index: 8803 entries, \"1\" to \"8803\"\n",
      "Data columns (total 6 columns):\n",
      " #   Column  Non-Null Count  Dtype \n",
      "---  ------  --------------  ----- \n",
      " 0   cim     8803 non-null   object\n",
      " 1   datum   8803 non-null   object\n",
      " 2   szerzo  8803 non-null   object\n",
      " 3   tag     8803 non-null   object\n",
      " 4   head    8803 non-null   object\n",
      " 5   szoveg  8803 non-null   object\n",
      "dtypes: object(6)\n",
      "memory usage: 481.4+ KB\n"
     ]
    }
   ],
   "source": [
    "df_index.info()"
   ]
  },
  {
   "cell_type": "markdown",
   "metadata": {},
   "source": [
    "**További infók lekérése df.describe() függvénnyel**\n",
    "<br>\n",
    "Mivel még csak objekt típusú mezőink vannak a mean, medián és a percentilis információk nem elérhetőek, de érdemes megnézni a *count* és az *unique* sorokat. \n",
    "<br>\n",
    "Látszik, hogy duplikációink vannak a dokumentumgyűjteményben. (Ezek kezelésére még kitérek)"
   ]
  },
  {
   "cell_type": "code",
   "execution_count": 211,
   "metadata": {
    "scrolled": true
   },
   "outputs": [
    {
     "data": {
      "text/html": [
       "<div>\n",
       "<style scoped>\n",
       "    .dataframe tbody tr th:only-of-type {\n",
       "        vertical-align: middle;\n",
       "    }\n",
       "\n",
       "    .dataframe tbody tr th {\n",
       "        vertical-align: top;\n",
       "    }\n",
       "\n",
       "    .dataframe thead th {\n",
       "        text-align: right;\n",
       "    }\n",
       "</style>\n",
       "<table border=\"1\" class=\"dataframe\">\n",
       "  <thead>\n",
       "    <tr style=\"text-align: right;\">\n",
       "      <th></th>\n",
       "      <th>cim</th>\n",
       "      <th>datum</th>\n",
       "      <th>szerzo</th>\n",
       "      <th>tag</th>\n",
       "      <th>head</th>\n",
       "      <th>szoveg</th>\n",
       "    </tr>\n",
       "  </thead>\n",
       "  <tbody>\n",
       "    <tr>\n",
       "      <th>count</th>\n",
       "      <td>8803</td>\n",
       "      <td>8803</td>\n",
       "      <td>8803</td>\n",
       "      <td>8803</td>\n",
       "      <td>8803</td>\n",
       "      <td>8803</td>\n",
       "    </tr>\n",
       "    <tr>\n",
       "      <th>unique</th>\n",
       "      <td>8518</td>\n",
       "      <td>8164</td>\n",
       "      <td>79</td>\n",
       "      <td>8367</td>\n",
       "      <td>666</td>\n",
       "      <td>8519</td>\n",
       "    </tr>\n",
       "    <tr>\n",
       "      <th>top</th>\n",
       "      <td>\"NA\"</td>\n",
       "      <td>\"NA\"</td>\n",
       "      <td>\"NA\"</td>\n",
       "      <td>\"NA\"</td>\n",
       "      <td>\"NA\"</td>\n",
       "      <td>\"NA\"</td>\n",
       "    </tr>\n",
       "    <tr>\n",
       "      <th>freq</th>\n",
       "      <td>262</td>\n",
       "      <td>215</td>\n",
       "      <td>8097</td>\n",
       "      <td>364</td>\n",
       "      <td>8132</td>\n",
       "      <td>252</td>\n",
       "    </tr>\n",
       "  </tbody>\n",
       "</table>\n",
       "</div>"
      ],
      "text/plain": [
       "         cim datum szerzo   tag  head szoveg\n",
       "count   8803  8803   8803  8803  8803   8803\n",
       "unique  8518  8164     79  8367   666   8519\n",
       "top     \"NA\"  \"NA\"   \"NA\"  \"NA\"  \"NA\"   \"NA\"\n",
       "freq     262   215   8097   364  8132    252"
      ]
     },
     "execution_count": 211,
     "metadata": {},
     "output_type": "execute_result"
    }
   ],
   "source": [
    "df_index.describe()"
   ]
  },
  {
   "cell_type": "markdown",
   "metadata": {},
   "source": [
    "### ---------------------------------------------------------------------------------------"
   ]
  },
  {
   "cell_type": "markdown",
   "metadata": {},
   "source": [
    "## -1. Adattisztítási lépés"
   ]
  },
  {
   "cell_type": "markdown",
   "metadata": {},
   "source": [
    "**Adatbeolvasásnál bent maradt egy nyitó és záró \" - jel**"
   ]
  },
  {
   "cell_type": "code",
   "execution_count": 212,
   "metadata": {},
   "outputs": [],
   "source": [
    "df_index['cim'] = df_index['cim'].apply(lambda x: x[1:-1])"
   ]
  },
  {
   "cell_type": "code",
   "execution_count": 213,
   "metadata": {},
   "outputs": [],
   "source": [
    "df_index['szoveg'] = df_index['szoveg'].apply(lambda x: x[1:-1])"
   ]
  },
  {
   "cell_type": "code",
   "execution_count": 214,
   "metadata": {},
   "outputs": [],
   "source": [
    "df_index['head'] = df_index['head'].str.replace('\"', '')"
   ]
  },
  {
   "cell_type": "code",
   "execution_count": 235,
   "metadata": {},
   "outputs": [
    {
     "data": {
      "text/html": [
       "<div>\n",
       "<style scoped>\n",
       "    .dataframe tbody tr th:only-of-type {\n",
       "        vertical-align: middle;\n",
       "    }\n",
       "\n",
       "    .dataframe tbody tr th {\n",
       "        vertical-align: top;\n",
       "    }\n",
       "\n",
       "    .dataframe thead th {\n",
       "        text-align: right;\n",
       "    }\n",
       "</style>\n",
       "<table border=\"1\" class=\"dataframe\">\n",
       "  <thead>\n",
       "    <tr style=\"text-align: right;\">\n",
       "      <th></th>\n",
       "      <th>cim</th>\n",
       "      <th>datum</th>\n",
       "      <th>szerzo</th>\n",
       "      <th>tag</th>\n",
       "      <th>head</th>\n",
       "      <th>szoveg</th>\n",
       "    </tr>\n",
       "  </thead>\n",
       "  <tbody>\n",
       "    <tr>\n",
       "      <th>\"1\"</th>\n",
       "      <td>Halálra gázoltak egy gyalogost Kiskunmajsán, e...</td>\n",
       "      <td>\"2020.01.01. 07:03\"</td>\n",
       "      <td>NaN</td>\n",
       "      <td>\"Belföld:,Gyász,baleset,gázolás,kiskunmajsa\"</td>\n",
       "      <td>NaN</td>\n",
       "      <td>Kiskunmajsán, a Fő utcában 2020. január 1-én 3...</td>\n",
       "    </tr>\n",
       "    <tr>\n",
       "      <th>\"2\"</th>\n",
       "      <td>Völner szerint félreértették, amikor Orbán azt...</td>\n",
       "      <td>\"2020.01.11. 19:35 \"</td>\n",
       "      <td>NaN</td>\n",
       "      <td>\"Belföld,orbán,orbán,viktor,völner,pál,kormány...</td>\n",
       "      <td>NaN</td>\n",
       "      <td>Az Európai Unió Bíróságának döntése alapján m...</td>\n",
       "    </tr>\n",
       "  </tbody>\n",
       "</table>\n",
       "</div>"
      ],
      "text/plain": [
       "                                                   cim                 datum  \\\n",
       "\"1\"  Halálra gázoltak egy gyalogost Kiskunmajsán, e...   \"2020.01.01. 07:03\"   \n",
       "\"2\"  Völner szerint félreértették, amikor Orbán azt...  \"2020.01.11. 19:35 \"   \n",
       "\n",
       "    szerzo                                                tag head  \\\n",
       "\"1\"    NaN       \"Belföld:,Gyász,baleset,gázolás,kiskunmajsa\"  NaN   \n",
       "\"2\"    NaN  \"Belföld,orbán,orbán,viktor,völner,pál,kormány...  NaN   \n",
       "\n",
       "                                                szoveg  \n",
       "\"1\"  Kiskunmajsán, a Fő utcában 2020. január 1-én 3...  \n",
       "\"2\"   Az Európai Unió Bíróságának döntése alapján m...  "
      ]
     },
     "execution_count": 235,
     "metadata": {},
     "output_type": "execute_result"
    }
   ],
   "source": [
    "df_index.head(2)"
   ]
  },
  {
   "cell_type": "markdown",
   "metadata": {},
   "source": [
    "### ---------------------------------------------------------------------------------------\n"
   ]
  },
  {
   "cell_type": "markdown",
   "metadata": {},
   "source": [
    "## Hiányzó értékek szűrése\n",
    "Fontos lépés, mert ha hiányzó értékeink vannak, akkor sok függvény nem működik (.pl: split()), amelyek szükségesek a további képésekben. \n",
    "Az \"NA\" értékeket pedig azért is cseréltük le np.nan-ra, mert így már tudjuk őket törölni/cserélni."
   ]
  },
  {
   "cell_type": "markdown",
   "metadata": {},
   "source": [
    "**A pontosabb információkért cseréljük ki az \"NA\" értékeket np.nan-ra**"
   ]
  },
  {
   "cell_type": "code",
   "execution_count": 233,
   "metadata": {},
   "outputs": [],
   "source": [
    "cols = ['cim', 'datum', 'szerzo', 'tag', 'head', 'szoveg']\n",
    "df_index = df_index[cols].replace('NA', np.nan)"
   ]
  },
  {
   "cell_type": "code",
   "execution_count": 234,
   "metadata": {},
   "outputs": [
    {
     "data": {
      "text/plain": [
       "cim        262\n",
       "datum      215\n",
       "szerzo    8097\n",
       "tag        364\n",
       "head      8132\n",
       "szoveg     252\n",
       "dtype: int64"
      ]
     },
     "execution_count": 234,
     "metadata": {},
     "output_type": "execute_result"
    }
   ],
   "source": [
    "df_index.isna().sum()"
   ]
  },
  {
   "cell_type": "markdown",
   "metadata": {},
   "source": [
    "**Cím és szöveg mezők közül Nan-t tartalmazó sorok eldobása**"
   ]
  },
  {
   "cell_type": "code",
   "execution_count": 236,
   "metadata": {},
   "outputs": [
    {
     "data": {
      "text/plain": [
       "cim          0\n",
       "datum        0\n",
       "szerzo    7798\n",
       "tag        102\n",
       "head      7837\n",
       "szoveg       0\n",
       "dtype: int64"
      ]
     },
     "execution_count": 236,
     "metadata": {},
     "output_type": "execute_result"
    }
   ],
   "source": [
    "df_index = df_index.dropna(subset=['cim', 'szoveg'])\n",
    "df_index.isna().sum()"
   ]
  },
  {
   "cell_type": "markdown",
   "metadata": {},
   "source": [
    "### ---------------------------------------------------------------------------------------"
   ]
  },
  {
   "cell_type": "markdown",
   "metadata": {},
   "source": [
    "## Oszlopok összefűzése\n",
    "Ez a lépés akkor hasznos, ha külön oszlopban tároljuk a címeket a szövegtörzstől, de együtt akarjuk kezelni őket. A példa adathalmazban külön tároljuk a headert (np.nan ha nincs) és a szövegtörzset, de logikailag ezek összetartoznak."
   ]
  },
  {
   "cell_type": "code",
   "execution_count": 239,
   "metadata": {},
   "outputs": [],
   "source": [
    "df_index['merged'] = df_index[['head', 'szoveg']].apply(lambda x: ','.join(x.dropna()), axis=1)"
   ]
  },
  {
   "cell_type": "code",
   "execution_count": 252,
   "metadata": {},
   "outputs": [
    {
     "data": {
      "text/html": [
       "<div>\n",
       "<style scoped>\n",
       "    .dataframe tbody tr th:only-of-type {\n",
       "        vertical-align: middle;\n",
       "    }\n",
       "\n",
       "    .dataframe tbody tr th {\n",
       "        vertical-align: top;\n",
       "    }\n",
       "\n",
       "    .dataframe thead th {\n",
       "        text-align: right;\n",
       "    }\n",
       "</style>\n",
       "<table border=\"1\" class=\"dataframe\">\n",
       "  <thead>\n",
       "    <tr style=\"text-align: right;\">\n",
       "      <th></th>\n",
       "      <th>head</th>\n",
       "      <th>szoveg</th>\n",
       "      <th>merged</th>\n",
       "    </tr>\n",
       "  </thead>\n",
       "  <tbody>\n",
       "    <tr>\n",
       "      <th>\"1\"</th>\n",
       "      <td>NaN</td>\n",
       "      <td>Kiskunmajsán, a Fő utcában 2020. január 1-én 3...</td>\n",
       "      <td>Kiskunmajsán, a Fő utcában 2020. január 1-én 3...</td>\n",
       "    </tr>\n",
       "    <tr>\n",
       "      <th>\"2\"</th>\n",
       "      <td>NaN</td>\n",
       "      <td>Az Európai Unió Bíróságának döntése alapján m...</td>\n",
       "      <td>Az Európai Unió Bíróságának döntése alapján m...</td>\n",
       "    </tr>\n",
       "  </tbody>\n",
       "</table>\n",
       "</div>"
      ],
      "text/plain": [
       "    head                                             szoveg  \\\n",
       "\"1\"  NaN  Kiskunmajsán, a Fő utcában 2020. január 1-én 3...   \n",
       "\"2\"  NaN   Az Európai Unió Bíróságának döntése alapján m...   \n",
       "\n",
       "                                                merged  \n",
       "\"1\"  Kiskunmajsán, a Fő utcában 2020. január 1-én 3...  \n",
       "\"2\"   Az Európai Unió Bíróságának döntése alapján m...  "
      ]
     },
     "execution_count": 252,
     "metadata": {},
     "output_type": "execute_result"
    }
   ],
   "source": [
    "df_index[df_index['head'].isna()][['head', 'szoveg', 'merged']].head(2)"
   ]
  },
  {
   "cell_type": "code",
   "execution_count": 250,
   "metadata": {},
   "outputs": [
    {
     "data": {
      "text/html": [
       "<div>\n",
       "<style scoped>\n",
       "    .dataframe tbody tr th:only-of-type {\n",
       "        vertical-align: middle;\n",
       "    }\n",
       "\n",
       "    .dataframe tbody tr th {\n",
       "        vertical-align: top;\n",
       "    }\n",
       "\n",
       "    .dataframe thead th {\n",
       "        text-align: right;\n",
       "    }\n",
       "</style>\n",
       "<table border=\"1\" class=\"dataframe\">\n",
       "  <thead>\n",
       "    <tr style=\"text-align: right;\">\n",
       "      <th></th>\n",
       "      <th>head</th>\n",
       "      <th>szoveg</th>\n",
       "      <th>merged</th>\n",
       "    </tr>\n",
       "  </thead>\n",
       "  <tbody>\n",
       "    <tr>\n",
       "      <th>\"10\"</th>\n",
       "      <td>Valahogy véletlenül mindig választási évekre e...</td>\n",
       "      <td>Szabad György Irodaház A Szabad György Irodah...</td>\n",
       "      <td>Valahogy véletlenül mindig választási évekre e...</td>\n",
       "    </tr>\n",
       "    <tr>\n",
       "      <th>\"64\"</th>\n",
       "      <td>A Petőfi Irodalmi Múzeum állami pályázatának n...</td>\n",
       "      <td>Negyvenöt alkotó kapja meg két évre a középge...</td>\n",
       "      <td>A Petőfi Irodalmi Múzeum állami pályázatának n...</td>\n",
       "    </tr>\n",
       "  </tbody>\n",
       "</table>\n",
       "</div>"
      ],
      "text/plain": [
       "                                                   head  \\\n",
       "\"10\"  Valahogy véletlenül mindig választási évekre e...   \n",
       "\"64\"  A Petőfi Irodalmi Múzeum állami pályázatának n...   \n",
       "\n",
       "                                                 szoveg  \\\n",
       "\"10\"   Szabad György Irodaház A Szabad György Irodah...   \n",
       "\"64\"   Negyvenöt alkotó kapja meg két évre a középge...   \n",
       "\n",
       "                                                 merged  \n",
       "\"10\"  Valahogy véletlenül mindig választási évekre e...  \n",
       "\"64\"  A Petőfi Irodalmi Múzeum állami pályázatának n...  "
      ]
     },
     "execution_count": 250,
     "metadata": {},
     "output_type": "execute_result"
    }
   ],
   "source": [
    "df_index[~df_index['head'].isna()][['head', 'szoveg', 'merged']].head(2)"
   ]
  },
  {
   "cell_type": "markdown",
   "metadata": {},
   "source": [
    "### ---------------------------------------------------------------------------------------\n"
   ]
  },
  {
   "cell_type": "markdown",
   "metadata": {},
   "source": [
    "## Duplikációk törlése\n",
    "Bármilyen oknál fogva kerülhetnek be duplikációk a dokumentumgyűjteménybe, de ezeket el kell távolítani, mivel a későbbi elemzéseket torzíthatja."
   ]
  },
  {
   "cell_type": "code",
   "execution_count": 255,
   "metadata": {},
   "outputs": [
    {
     "name": "stdout",
     "output_type": "stream",
     "text": [
      "Length of the corpus without duplications: 8490\n"
     ]
    }
   ],
   "source": [
    "df_index = df_index[~df_index.duplicated(['merged'], keep = 'last')]\n",
    "\n",
    "print(\"Length of the corpus without duplications: {}\".format(len(df_index)))"
   ]
  },
  {
   "cell_type": "markdown",
   "metadata": {},
   "source": [
    "### ---------------------------------------------------------------------------------------\n"
   ]
  },
  {
   "cell_type": "markdown",
   "metadata": {},
   "source": [
    "## Leíró statisztikák készítése\n",
    "(~miből mennyi van a szövegben)\n",
    "<br>\n",
    "Mielőtt nekifognánk a dokumentumokból kiszűrni az irreleváns elemeket (stopszavak, írásjelek, stb.) érdemes összeszámolni ezeket és új oszlopot létrehozni belőlük.\n",
    "<br>\n",
    "Ezek is fontos információk lehetnek, ha például kattintásvadász vagy álhíreket akarunk detektálni."
   ]
  },
  {
   "cell_type": "markdown",
   "metadata": {},
   "source": [
    "**Szavak száma a szövegben/címben stopszavakkal**"
   ]
  },
  {
   "cell_type": "code",
   "execution_count": 49,
   "metadata": {},
   "outputs": [
    {
     "data": {
      "text/html": [
       "<div>\n",
       "<style scoped>\n",
       "    .dataframe tbody tr th:only-of-type {\n",
       "        vertical-align: middle;\n",
       "    }\n",
       "\n",
       "    .dataframe tbody tr th {\n",
       "        vertical-align: top;\n",
       "    }\n",
       "\n",
       "    .dataframe thead th {\n",
       "        text-align: right;\n",
       "    }\n",
       "</style>\n",
       "<table border=\"1\" class=\"dataframe\">\n",
       "  <thead>\n",
       "    <tr style=\"text-align: right;\">\n",
       "      <th></th>\n",
       "      <th>cim</th>\n",
       "      <th>cim_word_cnt</th>\n",
       "    </tr>\n",
       "  </thead>\n",
       "  <tbody>\n",
       "    <tr>\n",
       "      <th>\"1\"</th>\n",
       "      <td>\"Halálra gázoltak egy gyalogost Kiskunmajsán, ...</td>\n",
       "      <td>8</td>\n",
       "    </tr>\n",
       "    <tr>\n",
       "      <th>\"2\"</th>\n",
       "      <td>\"Völner szerint félreértették, amikor Orbán az...</td>\n",
       "      <td>12</td>\n",
       "    </tr>\n",
       "  </tbody>\n",
       "</table>\n",
       "</div>"
      ],
      "text/plain": [
       "                                                   cim  cim_word_cnt\n",
       "\"1\"  \"Halálra gázoltak egy gyalogost Kiskunmajsán, ...             8\n",
       "\"2\"  \"Völner szerint félreértették, amikor Orbán az...            12"
      ]
     },
     "execution_count": 49,
     "metadata": {},
     "output_type": "execute_result"
    }
   ],
   "source": [
    "df_index['cim_word_cnt'] = df_index.cim.apply(lambda x: len(str(x).split(\" \"))) \n",
    "df_index[['cim', 'cim_word_cnt']][0:2]"
   ]
  },
  {
   "cell_type": "markdown",
   "metadata": {},
   "source": [
    "**Átlagos szóhoszz a címben**"
   ]
  },
  {
   "cell_type": "code",
   "execution_count": 257,
   "metadata": {},
   "outputs": [
    {
     "data": {
      "text/html": [
       "<div>\n",
       "<style scoped>\n",
       "    .dataframe tbody tr th:only-of-type {\n",
       "        vertical-align: middle;\n",
       "    }\n",
       "\n",
       "    .dataframe tbody tr th {\n",
       "        vertical-align: top;\n",
       "    }\n",
       "\n",
       "    .dataframe thead th {\n",
       "        text-align: right;\n",
       "    }\n",
       "</style>\n",
       "<table border=\"1\" class=\"dataframe\">\n",
       "  <thead>\n",
       "    <tr style=\"text-align: right;\">\n",
       "      <th></th>\n",
       "      <th>cim</th>\n",
       "      <th>cim_avg_word</th>\n",
       "    </tr>\n",
       "  </thead>\n",
       "  <tbody>\n",
       "    <tr>\n",
       "      <th>\"1\"</th>\n",
       "      <td>Halálra gázoltak egy gyalogost Kiskunmajsán, e...</td>\n",
       "      <td>6.875000</td>\n",
       "    </tr>\n",
       "    <tr>\n",
       "      <th>\"2\"</th>\n",
       "      <td>Völner szerint félreértették, amikor Orbán azt...</td>\n",
       "      <td>6.666667</td>\n",
       "    </tr>\n",
       "  </tbody>\n",
       "</table>\n",
       "</div>"
      ],
      "text/plain": [
       "                                                   cim  cim_avg_word\n",
       "\"1\"  Halálra gázoltak egy gyalogost Kiskunmajsán, e...      6.875000\n",
       "\"2\"  Völner szerint félreértették, amikor Orbán azt...      6.666667"
      ]
     },
     "execution_count": 257,
     "metadata": {},
     "output_type": "execute_result"
    }
   ],
   "source": [
    "def avg_word(sentence):\n",
    "  words = sentence.split()\n",
    "  return (sum(len(word) for word in words)/len(words))\n",
    "\n",
    "df_index['cim_avg_word'] = df_index['cim'].apply(lambda x: avg_word(x))\n",
    "df_index[['cim', 'cim_avg_word']][0:2]"
   ]
  },
  {
   "cell_type": "markdown",
   "metadata": {},
   "source": [
    "**Felkiáltójelek megszámolása a szövegben**"
   ]
  },
  {
   "cell_type": "code",
   "execution_count": 258,
   "metadata": {},
   "outputs": [],
   "source": [
    "df_index['szoveg_num_exclam'] = df_index['szoveg'].str.count('\\\\!')"
   ]
  },
  {
   "cell_type": "markdown",
   "metadata": {},
   "source": [
    "**Kérdőjelek megszámolása a szövegben**"
   ]
  },
  {
   "cell_type": "code",
   "execution_count": 259,
   "metadata": {},
   "outputs": [],
   "source": [
    "df_index['szoveg_num_ques'] = df_index['szoveg'].str.count('\\\\?')"
   ]
  },
  {
   "cell_type": "markdown",
   "metadata": {},
   "source": [
    "**Stopszavak száma a szövegben/címben**"
   ]
  },
  {
   "cell_type": "code",
   "execution_count": 261,
   "metadata": {},
   "outputs": [
    {
     "data": {
      "text/html": [
       "<div>\n",
       "<style scoped>\n",
       "    .dataframe tbody tr th:only-of-type {\n",
       "        vertical-align: middle;\n",
       "    }\n",
       "\n",
       "    .dataframe tbody tr th {\n",
       "        vertical-align: top;\n",
       "    }\n",
       "\n",
       "    .dataframe thead th {\n",
       "        text-align: right;\n",
       "    }\n",
       "</style>\n",
       "<table border=\"1\" class=\"dataframe\">\n",
       "  <thead>\n",
       "    <tr style=\"text-align: right;\">\n",
       "      <th></th>\n",
       "      <th>cim</th>\n",
       "      <th>cim_stop_cnt</th>\n",
       "    </tr>\n",
       "  </thead>\n",
       "  <tbody>\n",
       "    <tr>\n",
       "      <th>\"1\"</th>\n",
       "      <td>Halálra gázoltak egy gyalogost Kiskunmajsán, e...</td>\n",
       "      <td>2</td>\n",
       "    </tr>\n",
       "    <tr>\n",
       "      <th>\"2\"</th>\n",
       "      <td>Völner szerint félreértették, amikor Orbán azt...</td>\n",
       "      <td>5</td>\n",
       "    </tr>\n",
       "    <tr>\n",
       "      <th>\"3\"</th>\n",
       "      <td>Minden, amit tudni akart az elefánt péniszéről...</td>\n",
       "      <td>3</td>\n",
       "    </tr>\n",
       "  </tbody>\n",
       "</table>\n",
       "</div>"
      ],
      "text/plain": [
       "                                                   cim  cim_stop_cnt\n",
       "\"1\"  Halálra gázoltak egy gyalogost Kiskunmajsán, e...             2\n",
       "\"2\"  Völner szerint félreértették, amikor Orbán azt...             5\n",
       "\"3\"  Minden, amit tudni akart az elefánt péniszéről...             3"
      ]
     },
     "execution_count": 261,
     "metadata": {},
     "output_type": "execute_result"
    }
   ],
   "source": [
    "df_index['cim_stop_cnt'] = df_index['cim'].apply(lambda x: len([x for x in x.split() if x in stop]))\n",
    "df_index[['cim', 'cim_stop_cnt']].head(3)"
   ]
  },
  {
   "cell_type": "markdown",
   "metadata": {},
   "source": [
    "**Nagybetűs szavak megszámolása a szövegben**"
   ]
  },
  {
   "cell_type": "code",
   "execution_count": 262,
   "metadata": {},
   "outputs": [
    {
     "data": {
      "text/html": [
       "<div>\n",
       "<style scoped>\n",
       "    .dataframe tbody tr th:only-of-type {\n",
       "        vertical-align: middle;\n",
       "    }\n",
       "\n",
       "    .dataframe tbody tr th {\n",
       "        vertical-align: top;\n",
       "    }\n",
       "\n",
       "    .dataframe thead th {\n",
       "        text-align: right;\n",
       "    }\n",
       "</style>\n",
       "<table border=\"1\" class=\"dataframe\">\n",
       "  <thead>\n",
       "    <tr style=\"text-align: right;\">\n",
       "      <th></th>\n",
       "      <th>cim</th>\n",
       "      <th>cim_cnt_upper</th>\n",
       "    </tr>\n",
       "  </thead>\n",
       "  <tbody>\n",
       "    <tr>\n",
       "      <th>\"1\"</th>\n",
       "      <td>Halálra gázoltak egy gyalogost Kiskunmajsán, e...</td>\n",
       "      <td>0</td>\n",
       "    </tr>\n",
       "    <tr>\n",
       "      <th>\"2\"</th>\n",
       "      <td>Völner szerint félreértették, amikor Orbán azt...</td>\n",
       "      <td>0</td>\n",
       "    </tr>\n",
       "  </tbody>\n",
       "</table>\n",
       "</div>"
      ],
      "text/plain": [
       "                                                   cim  cim_cnt_upper\n",
       "\"1\"  Halálra gázoltak egy gyalogost Kiskunmajsán, e...              0\n",
       "\"2\"  Völner szerint félreértették, amikor Orbán azt...              0"
      ]
     },
     "execution_count": 262,
     "metadata": {},
     "output_type": "execute_result"
    }
   ],
   "source": [
    "df_index['cim_cnt_upper'] = df_index.cim.apply(lambda x: len([x for x in x.split() if x.isupper()]))\n",
    "df_index[['cim','cim_cnt_upper']][0:2]"
   ]
  },
  {
   "cell_type": "markdown",
   "metadata": {},
   "source": [
    "### ---------------------------------------------------------------------------------------\n"
   ]
  },
  {
   "cell_type": "markdown",
   "metadata": {},
   "source": [
    "### Szöveg (már \"merged\") mező tisztítása"
   ]
  },
  {
   "cell_type": "markdown",
   "metadata": {},
   "source": [
    "**1. Esetenként bent maradhatnak a szövegben olyan elemek, amelyek a webscrape során bentragadtak. Megosztás, ajánló, további cikkek stb.**"
   ]
  },
  {
   "cell_type": "markdown",
   "metadata": {},
   "source": [
    "Az str.contains() függvénnyel tudunk szavakra, részletekre keresni a szövegben.  "
   ]
  },
  {
   "cell_type": "code",
   "execution_count": 267,
   "metadata": {},
   "outputs": [
    {
     "name": "stdout",
     "output_type": "stream",
     "text": [
      "6834\n",
      "271\n"
     ]
    }
   ],
   "source": [
    "print(len(df_index[df_index['merged'].str.contains('\\xa0')])) # 6834\n",
    "print(len(df_index[df_index['merged'].str.contains('Ne maradjon le semmiről! Facebook')])) #217"
   ]
  },
  {
   "cell_type": "markdown",
   "metadata": {},
   "source": [
    "Az str.replace() függvénnyel tudunk szavakat, részleteket kiszedni, és más karakterrel helyettesíteni."
   ]
  },
  {
   "cell_type": "code",
   "execution_count": 277,
   "metadata": {},
   "outputs": [],
   "source": [
    "df_index['merged'] = df_index['merged'].str.replace('\\xa0', ' ')\n",
    "df_index['merged'] = df_index['merged'].str.replace('Ne maradjon le semmiről! Facebook', '')"
   ]
  },
  {
   "cell_type": "code",
   "execution_count": 278,
   "metadata": {},
   "outputs": [
    {
     "name": "stdout",
     "output_type": "stream",
     "text": [
      "0\n",
      "0\n"
     ]
    }
   ],
   "source": [
    "print(len(df_index[df_index['merged'].str.contains('\\xa0')])) # 6834\n",
    "print(len(df_index[df_index['merged'].str.contains('Ne maradjon le semmiről! Facebook')])) #217"
   ]
  },
  {
   "cell_type": "markdown",
   "metadata": {},
   "source": [
    "**2. Szövegbányászati elemzésekhez való előkészítés**\n",
    "<br>\n",
    "* kisbetűsítés,\n",
    "* írásjelek eltávolítása,\n",
    "* stopszavak eltávolítása,\n",
    "* numerikus elemek eltávolítása\n",
    "<br>\n",
    "Mindezt egy egyszerű függvénnyel.\n",
    "<br>\n",
    "Itt már bevethetjük a regex eszköztárat: https://docs.python.org/3/library/re.html"
   ]
  },
  {
   "cell_type": "code",
   "execution_count": 279,
   "metadata": {},
   "outputs": [],
   "source": [
    "def merged_cleaning(df):\n",
    "    \"\"\"\n",
    "    Transforming szoveg (merged) column for the NLP:\n",
    "    - Remove punctuations,\n",
    "    - Lowercasing,\n",
    "    - Remove stopwords.\n",
    "    \"\"\"\n",
    "    \n",
    "    df['merged_cleaned'] = df['merged'].str.replace('-', ' ')\n",
    "    df['merged_cleaned'] = df['merged_cleaned'].str.replace('[^\\w\\s]', ' ')\n",
    "    df['szoveg_cleaned'] = df['merged_cleaned'].str.replace('\\d+', ' ') \n",
    "    \n",
    "    df['merged_cleaned'] = df['merged_cleaned'].str.lower()\n",
    "\n",
    "    df['merged_cleaned'] = df['merged_cleaned'].apply(lambda x: \" \".join(x for x in x.split() if x not in stop))\n",
    "\n",
    "    return df"
   ]
  },
  {
   "cell_type": "code",
   "execution_count": 280,
   "metadata": {},
   "outputs": [],
   "source": [
    "df_index = merged_cleaning(df_index)"
   ]
  },
  {
   "cell_type": "markdown",
   "metadata": {},
   "source": [
    "### ---------------------------------------------------------------------------------------"
   ]
  },
  {
   "cell_type": "markdown",
   "metadata": {},
   "source": [
    "## Előfeldolgozott adatok tárolása"
   ]
  },
  {
   "cell_type": "code",
   "execution_count": 290,
   "metadata": {},
   "outputs": [],
   "source": [
    "df_index.to_pickle('2020_corpus_preprocessed.pkl')"
   ]
  }
 ],
 "metadata": {
  "kernelspec": {
   "display_name": "Python 3",
   "language": "python",
   "name": "python3"
  },
  "language_info": {
   "codemirror_mode": {
    "name": "ipython",
    "version": 3
   },
   "file_extension": ".py",
   "mimetype": "text/x-python",
   "name": "python",
   "nbconvert_exporter": "python",
   "pygments_lexer": "ipython3",
   "version": "3.7.6"
  }
 },
 "nbformat": 4,
 "nbformat_minor": 4
}

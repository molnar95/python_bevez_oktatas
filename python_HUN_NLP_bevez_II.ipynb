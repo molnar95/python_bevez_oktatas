{
 "cells": [
  {
   "cell_type": "markdown",
   "metadata": {},
   "source": [
    "# Magyar NLP - előfeldolgozás I."
   ]
  },
  {
   "cell_type": "markdown",
   "metadata": {},
   "source": [
    "A szöveges adatokban nyers formájukban még rengeteg elemzéshez irreleváns elem, zaj lehet, melyektől meg kell tisztítani a dokumentumokat.\n",
    "<br>\n",
    "Vannak olyan lépések, amelyeket el kell végeznünk mielőtt nekiállnánk elemezni a dokumentumgyűjteményünket.\n",
    "<br>\n",
    "Ebben a notebook-ban sorrol sorra átvesszük, hogy milyen előfeldolgozáson kell alávetni a dokomentumgyűjteményt, hogy elemezhető legyen.\n",
    "<br>\n",
    "**Tartalom:**\n",
    "* Csomagok importálása,\n",
    "* Fájlok beolvasása,\n",
    "* Adatfeltárás,\n",
    "* Korpusz tisztítása,\n",
    "* Szövegbányászati elemzésekre való előkészítés\n",
    "* Tisztított adatok tárolása"
   ]
  },
  {
   "cell_type": "markdown",
   "metadata": {},
   "source": [
    "### ---------------------------------------------------------------------------------------\n"
   ]
  },
  {
   "cell_type": "markdown",
   "metadata": {},
   "source": [
    "### Csomagok betöltése"
   ]
  },
  {
   "cell_type": "code",
   "execution_count": 2,
   "metadata": {},
   "outputs": [],
   "source": [
    "# adatkezelés\n",
    "import pandas as pd\n",
    "import numpy as np\n",
    "\n",
    "# adatelőkészítés:\n",
    "import unicodedata\n",
    "import re \n",
    "from datetime import datetime\n",
    "\n"
   ]
  },
  {
   "cell_type": "markdown",
   "metadata": {},
   "source": [
    "### ---------------------------------------------------------------------------------------\n"
   ]
  },
  {
   "cell_type": "markdown",
   "metadata": {},
   "source": [
    "## Fájlok beolvasása"
   ]
  },
  {
   "cell_type": "markdown",
   "metadata": {},
   "source": [
    "**Stopszólista beolvasása**\n",
    "<br>\n",
    "A magyar stopszólistát kettő dokumentumból állítottam elő:\n",
    "<br>\n",
    "1. NLTK csomag: https://github.com/xiamx/node-nltk-stopwords/blob/master/data/stopwords/hungarian\n",
    "2. Github: https://github.com/stopwords-iso/stopwords-hu/blob/master/stopwords-hu.txt\n",
    "<br>\n",
    "Ezeket összefűztem, majd \"unique\"-oltam (lsd. stopword_list_creator.ipybn)"
   ]
  },
  {
   "cell_type": "code",
   "execution_count": 3,
   "metadata": {},
   "outputs": [],
   "source": [
    "with open(\"nlp_utils/stop_words.txt\", \"r\", encoding='utf-8') as f:\n",
    "    stop = [i for line in f for i in line.split('\\n')]\n",
    "    stop = list(filter(None, stop))"
   ]
  },
  {
   "cell_type": "code",
   "execution_count": 4,
   "metadata": {},
   "outputs": [
    {
     "data": {
      "text/plain": [
       "['ahogy',\n",
       " 'ahol',\n",
       " 'aki',\n",
       " 'akik',\n",
       " 'akkor',\n",
       " 'alatt',\n",
       " 'által',\n",
       " 'általában',\n",
       " 'amely']"
      ]
     },
     "execution_count": 4,
     "metadata": {},
     "output_type": "execute_result"
    }
   ],
   "source": [
    "stop[1:10]"
   ]
  },
  {
   "cell_type": "markdown",
   "metadata": {},
   "source": [
    "**Dokumentumgyűjtemény beolvasása**"
   ]
  },
  {
   "cell_type": "code",
   "execution_count": 5,
   "metadata": {},
   "outputs": [
    {
     "name": "stderr",
     "output_type": "stream",
     "text": [
      "C:\\Users\\molna\\anaconda3\\lib\\site-packages\\ipykernel_launcher.py:1: ParserWarning: Falling back to the 'python' engine because the 'c' engine does not support regex separators (separators > 1 char and different from '\\s+' are interpreted as regex); you can avoid this warning by specifying engine='python'.\n",
      "  \"\"\"Entry point for launching an IPython kernel.\n"
     ]
    },
    {
     "name": "stdout",
     "output_type": "stream",
     "text": [
      "2020 index corpus loaded\n",
      "Length of the corpus: 8803 articles\n"
     ]
    }
   ],
   "source": [
    "df_index = pd.read_csv(\"data/2020.csv\", sep=\"%%\", encoding=\"utf-8\", header=0)\n",
    "\n",
    "print(\"2020 index corpus loaded\")\n",
    "print(\"Length of the corpus: {} articles\".format(len(df_index)))"
   ]
  },
  {
   "cell_type": "markdown",
   "metadata": {},
   "source": [
    "**Random mintavétel a korpuszból (gyorsaság miatt)**"
   ]
  },
  {
   "cell_type": "code",
   "execution_count": 6,
   "metadata": {},
   "outputs": [
    {
     "name": "stdout",
     "output_type": "stream",
     "text": [
      "Length of the sampled corpus: 4000 articles\n"
     ]
    }
   ],
   "source": [
    "df_index = df_index.sample(n=4000, replace=False, random_state=1)\n",
    "print(\"Length of the sampled corpus: {} articles\".format(len(df_index)))"
   ]
  },
  {
   "cell_type": "markdown",
   "metadata": {},
   "source": [
    "### ---------------------------------------------------------------------------------------\n"
   ]
  },
  {
   "cell_type": "markdown",
   "metadata": {},
   "source": [
    "## Dokumentumgyűjtemény feltárása"
   ]
  },
  {
   "cell_type": "markdown",
   "metadata": {},
   "source": [
    "A dokumentumgyűjteményt érdemes pandas DataFrame objektumként tárolni, mivel az egyes cellákba beleférnek nagyon hosszú sztringek is. Valamint amikor tokenizálunk akkor a dokumentum \"szózsákját\" csináljuk meg, ami nem más, mint a szövegben található szavak vektora, amit egy python listában tárolhatunk. A dataframe celláiba pedig listák és szótárak is beilleszthetőek."
   ]
  },
  {
   "cell_type": "markdown",
   "metadata": {},
   "source": [
    "**Korpusz első N db sorának kiírása**"
   ]
  },
  {
   "cell_type": "code",
   "execution_count": 7,
   "metadata": {},
   "outputs": [
    {
     "data": {
      "text/html": [
       "<div>\n",
       "<style scoped>\n",
       "    .dataframe tbody tr th:only-of-type {\n",
       "        vertical-align: middle;\n",
       "    }\n",
       "\n",
       "    .dataframe tbody tr th {\n",
       "        vertical-align: top;\n",
       "    }\n",
       "\n",
       "    .dataframe thead th {\n",
       "        text-align: right;\n",
       "    }\n",
       "</style>\n",
       "<table border=\"1\" class=\"dataframe\">\n",
       "  <thead>\n",
       "    <tr style=\"text-align: right;\">\n",
       "      <th></th>\n",
       "      <th>\"cim\"</th>\n",
       "      <th>\"datum\"</th>\n",
       "      <th>\"szerzo\"</th>\n",
       "      <th>\"tag\"</th>\n",
       "      <th>\"head\"</th>\n",
       "      <th>\"szoveg\"</th>\n",
       "    </tr>\n",
       "  </thead>\n",
       "  <tbody>\n",
       "    <tr>\n",
       "      <th>\"4081\"</th>\n",
       "      <td>\"Hadházy összekalapozott kétmillió forintot a ...</td>\n",
       "      <td>\"2020.02.20. 20:50 \"</td>\n",
       "      <td>\"NA\"</td>\n",
       "      <td>\"Belföld,hadházy,ákos,büntetés,bírság,parlamen...</td>\n",
       "      <td>\"NA\"</td>\n",
       "      <td>\" Hadházy Ákos független országgyűlési képvise...</td>\n",
       "    </tr>\n",
       "    <tr>\n",
       "      <th>\"7384\"</th>\n",
       "      <td>\"Alaposan megfogyatkoztak a turisták Budapesten\"</td>\n",
       "      <td>\"2020.03.14. 17:12\"</td>\n",
       "      <td>\"NA\"</td>\n",
       "      <td>\"Belföld,kínai,koronavírus,koronavírus,magyaro...</td>\n",
       "      <td>\"NA\"</td>\n",
       "      <td>\" Az új koronavírus okozt járvány pandémiává t...</td>\n",
       "    </tr>\n",
       "    <tr>\n",
       "      <th>\"3081\"</th>\n",
       "      <td>\"Nézzük meg, mi szerepel a NAT-ban, és mi a ba...</td>\n",
       "      <td>\"2020.02.13. 13:29\"</td>\n",
       "      <td>\"NA\"</td>\n",
       "      <td>\"Belföld,nemzeti,alaptanterv,nat,irodalom,tört...</td>\n",
       "      <td>\"Ha elolvassuk a Nemzeti alaptanterv szövegét,...</td>\n",
       "      <td>\" Nagyon hamar politikai kérdéssé vált a Nemze...</td>\n",
       "    </tr>\n",
       "  </tbody>\n",
       "</table>\n",
       "</div>"
      ],
      "text/plain": [
       "                                                    \"cim\"  \\\n",
       "\"4081\"  \"Hadházy összekalapozott kétmillió forintot a ...   \n",
       "\"7384\"   \"Alaposan megfogyatkoztak a turisták Budapesten\"   \n",
       "\"3081\"  \"Nézzük meg, mi szerepel a NAT-ban, és mi a ba...   \n",
       "\n",
       "                     \"datum\" \"szerzo\"  \\\n",
       "\"4081\"  \"2020.02.20. 20:50 \"     \"NA\"   \n",
       "\"7384\"   \"2020.03.14. 17:12\"     \"NA\"   \n",
       "\"3081\"   \"2020.02.13. 13:29\"     \"NA\"   \n",
       "\n",
       "                                                    \"tag\"  \\\n",
       "\"4081\"  \"Belföld,hadházy,ákos,büntetés,bírság,parlamen...   \n",
       "\"7384\"  \"Belföld,kínai,koronavírus,koronavírus,magyaro...   \n",
       "\"3081\"  \"Belföld,nemzeti,alaptanterv,nat,irodalom,tört...   \n",
       "\n",
       "                                                   \"head\"  \\\n",
       "\"4081\"                                               \"NA\"   \n",
       "\"7384\"                                               \"NA\"   \n",
       "\"3081\"  \"Ha elolvassuk a Nemzeti alaptanterv szövegét,...   \n",
       "\n",
       "                                                 \"szoveg\"  \n",
       "\"4081\"  \" Hadházy Ákos független országgyűlési képvise...  \n",
       "\"7384\"  \" Az új koronavírus okozt járvány pandémiává t...  \n",
       "\"3081\"  \" Nagyon hamar politikai kérdéssé vált a Nemze...  "
      ]
     },
     "execution_count": 7,
     "metadata": {},
     "output_type": "execute_result"
    }
   ],
   "source": [
    "df_index.head(3)"
   ]
  },
  {
   "cell_type": "markdown",
   "metadata": {},
   "source": [
    "**Korpusz oszlopneveinek lekérése**"
   ]
  },
  {
   "cell_type": "code",
   "execution_count": 8,
   "metadata": {},
   "outputs": [
    {
     "data": {
      "text/plain": [
       "Index(['\"cim\"', '\"datum\"', '\"szerzo\"', '\"tag\"', '\"head\"', '\"szoveg\"'], dtype='object')"
      ]
     },
     "execution_count": 8,
     "metadata": {},
     "output_type": "execute_result"
    }
   ],
   "source": [
    "df_index.columns"
   ]
  },
  {
   "cell_type": "code",
   "execution_count": 9,
   "metadata": {},
   "outputs": [],
   "source": [
    "df_index.columns = df_index.columns.str.replace('\"', '')"
   ]
  },
  {
   "cell_type": "code",
   "execution_count": 10,
   "metadata": {},
   "outputs": [
    {
     "data": {
      "text/plain": [
       "Index(['cim', 'datum', 'szerzo', 'tag', 'head', 'szoveg'], dtype='object')"
      ]
     },
     "execution_count": 10,
     "metadata": {},
     "output_type": "execute_result"
    }
   ],
   "source": [
    "df_index.columns"
   ]
  },
  {
   "cell_type": "markdown",
   "metadata": {},
   "source": [
    "**DataFrame info() lekérés**\n",
    "<br> \n",
    "Megnézhetjük, hogy az egyes oszlopok milyen típusúak.\n",
    "<br>\n",
    "Object = szöveges (sztring)"
   ]
  },
  {
   "cell_type": "code",
   "execution_count": 11,
   "metadata": {
    "scrolled": true
   },
   "outputs": [
    {
     "name": "stdout",
     "output_type": "stream",
     "text": [
      "<class 'pandas.core.frame.DataFrame'>\n",
      "Index: 4000 entries, \"4081\" to \"3515\"\n",
      "Data columns (total 6 columns):\n",
      " #   Column  Non-Null Count  Dtype \n",
      "---  ------  --------------  ----- \n",
      " 0   cim     4000 non-null   object\n",
      " 1   datum   4000 non-null   object\n",
      " 2   szerzo  4000 non-null   object\n",
      " 3   tag     4000 non-null   object\n",
      " 4   head    4000 non-null   object\n",
      " 5   szoveg  4000 non-null   object\n",
      "dtypes: object(6)\n",
      "memory usage: 218.8+ KB\n"
     ]
    }
   ],
   "source": [
    "df_index.info()"
   ]
  },
  {
   "cell_type": "markdown",
   "metadata": {},
   "source": [
    "**További infók lekérése df.describe() függvénnyel**\n",
    "<br>\n",
    "Mivel még csak objekt típusú mezőink vannak a mean, medián és a percentilis információk nem elérhetőek, de érdemes megnézni a *count* és az *unique* sorokat. \n",
    "<br>\n",
    "Látszik, hogy duplikációink vannak a dokumentumgyűjteményben. (Ezek kezelésére még kitérek)"
   ]
  },
  {
   "cell_type": "code",
   "execution_count": 12,
   "metadata": {
    "scrolled": true
   },
   "outputs": [
    {
     "data": {
      "text/html": [
       "<div>\n",
       "<style scoped>\n",
       "    .dataframe tbody tr th:only-of-type {\n",
       "        vertical-align: middle;\n",
       "    }\n",
       "\n",
       "    .dataframe tbody tr th {\n",
       "        vertical-align: top;\n",
       "    }\n",
       "\n",
       "    .dataframe thead th {\n",
       "        text-align: right;\n",
       "    }\n",
       "</style>\n",
       "<table border=\"1\" class=\"dataframe\">\n",
       "  <thead>\n",
       "    <tr style=\"text-align: right;\">\n",
       "      <th></th>\n",
       "      <th>cim</th>\n",
       "      <th>datum</th>\n",
       "      <th>szerzo</th>\n",
       "      <th>tag</th>\n",
       "      <th>head</th>\n",
       "      <th>szoveg</th>\n",
       "    </tr>\n",
       "  </thead>\n",
       "  <tbody>\n",
       "    <tr>\n",
       "      <th>count</th>\n",
       "      <td>4000</td>\n",
       "      <td>4000</td>\n",
       "      <td>4000</td>\n",
       "      <td>4000</td>\n",
       "      <td>4000</td>\n",
       "      <td>4000</td>\n",
       "    </tr>\n",
       "    <tr>\n",
       "      <th>unique</th>\n",
       "      <td>3868</td>\n",
       "      <td>3810</td>\n",
       "      <td>41</td>\n",
       "      <td>3807</td>\n",
       "      <td>290</td>\n",
       "      <td>3872</td>\n",
       "    </tr>\n",
       "    <tr>\n",
       "      <th>top</th>\n",
       "      <td>\"NA\"</td>\n",
       "      <td>\"NA\"</td>\n",
       "      <td>\"NA\"</td>\n",
       "      <td>\"NA\"</td>\n",
       "      <td>\"NA\"</td>\n",
       "      <td>\"NA\"</td>\n",
       "    </tr>\n",
       "    <tr>\n",
       "      <th>freq</th>\n",
       "      <td>123</td>\n",
       "      <td>97</td>\n",
       "      <td>3679</td>\n",
       "      <td>172</td>\n",
       "      <td>3708</td>\n",
       "      <td>117</td>\n",
       "    </tr>\n",
       "  </tbody>\n",
       "</table>\n",
       "</div>"
      ],
      "text/plain": [
       "         cim datum szerzo   tag  head szoveg\n",
       "count   4000  4000   4000  4000  4000   4000\n",
       "unique  3868  3810     41  3807   290   3872\n",
       "top     \"NA\"  \"NA\"   \"NA\"  \"NA\"  \"NA\"   \"NA\"\n",
       "freq     123    97   3679   172  3708    117"
      ]
     },
     "execution_count": 12,
     "metadata": {},
     "output_type": "execute_result"
    }
   ],
   "source": [
    "df_index.describe()"
   ]
  },
  {
   "cell_type": "markdown",
   "metadata": {},
   "source": [
    "### ---------------------------------------------------------------------------------------"
   ]
  },
  {
   "cell_type": "markdown",
   "metadata": {},
   "source": [
    "## -1. Adattisztítási lépés"
   ]
  },
  {
   "cell_type": "markdown",
   "metadata": {},
   "source": [
    "**Adatbeolvasásnál bent maradt egy nyitó és záró \" - jel**"
   ]
  },
  {
   "cell_type": "code",
   "execution_count": 13,
   "metadata": {},
   "outputs": [],
   "source": [
    "df_index['cim'] = df_index['cim'].apply(lambda x: x[1:-1])"
   ]
  },
  {
   "cell_type": "code",
   "execution_count": 14,
   "metadata": {},
   "outputs": [],
   "source": [
    "df_index['szoveg'] = df_index['szoveg'].apply(lambda x: x[1:-1])"
   ]
  },
  {
   "cell_type": "code",
   "execution_count": 15,
   "metadata": {},
   "outputs": [],
   "source": [
    "df_index['head'] = df_index['head'].str.replace('\"', '')"
   ]
  },
  {
   "cell_type": "code",
   "execution_count": 16,
   "metadata": {},
   "outputs": [
    {
     "data": {
      "text/html": [
       "<div>\n",
       "<style scoped>\n",
       "    .dataframe tbody tr th:only-of-type {\n",
       "        vertical-align: middle;\n",
       "    }\n",
       "\n",
       "    .dataframe tbody tr th {\n",
       "        vertical-align: top;\n",
       "    }\n",
       "\n",
       "    .dataframe thead th {\n",
       "        text-align: right;\n",
       "    }\n",
       "</style>\n",
       "<table border=\"1\" class=\"dataframe\">\n",
       "  <thead>\n",
       "    <tr style=\"text-align: right;\">\n",
       "      <th></th>\n",
       "      <th>cim</th>\n",
       "      <th>datum</th>\n",
       "      <th>szerzo</th>\n",
       "      <th>tag</th>\n",
       "      <th>head</th>\n",
       "      <th>szoveg</th>\n",
       "    </tr>\n",
       "  </thead>\n",
       "  <tbody>\n",
       "    <tr>\n",
       "      <th>\"4081\"</th>\n",
       "      <td>Hadházy összekalapozott kétmillió forintot a b...</td>\n",
       "      <td>\"2020.02.20. 20:50 \"</td>\n",
       "      <td>\"NA\"</td>\n",
       "      <td>\"Belföld,hadházy,ákos,büntetés,bírság,parlamen...</td>\n",
       "      <td>NA</td>\n",
       "      <td>Hadházy Ákos független országgyűlési képvisel...</td>\n",
       "    </tr>\n",
       "    <tr>\n",
       "      <th>\"7384\"</th>\n",
       "      <td>Alaposan megfogyatkoztak a turisták Budapesten</td>\n",
       "      <td>\"2020.03.14. 17:12\"</td>\n",
       "      <td>\"NA\"</td>\n",
       "      <td>\"Belföld,kínai,koronavírus,koronavírus,magyaro...</td>\n",
       "      <td>NA</td>\n",
       "      <td>Az új koronavírus okozt járvány pandémiává te...</td>\n",
       "    </tr>\n",
       "  </tbody>\n",
       "</table>\n",
       "</div>"
      ],
      "text/plain": [
       "                                                      cim  \\\n",
       "\"4081\"  Hadházy összekalapozott kétmillió forintot a b...   \n",
       "\"7384\"     Alaposan megfogyatkoztak a turisták Budapesten   \n",
       "\n",
       "                       datum szerzo  \\\n",
       "\"4081\"  \"2020.02.20. 20:50 \"   \"NA\"   \n",
       "\"7384\"   \"2020.03.14. 17:12\"   \"NA\"   \n",
       "\n",
       "                                                      tag head  \\\n",
       "\"4081\"  \"Belföld,hadházy,ákos,büntetés,bírság,parlamen...   NA   \n",
       "\"7384\"  \"Belföld,kínai,koronavírus,koronavírus,magyaro...   NA   \n",
       "\n",
       "                                                   szoveg  \n",
       "\"4081\"   Hadházy Ákos független országgyűlési képvisel...  \n",
       "\"7384\"   Az új koronavírus okozt járvány pandémiává te...  "
      ]
     },
     "execution_count": 16,
     "metadata": {},
     "output_type": "execute_result"
    }
   ],
   "source": [
    "df_index.head(2)"
   ]
  },
  {
   "cell_type": "markdown",
   "metadata": {},
   "source": [
    "### ---------------------------------------------------------------------------------------\n"
   ]
  },
  {
   "cell_type": "markdown",
   "metadata": {},
   "source": [
    "## Hiányzó értékek szűrése\n",
    "Fontos lépés, mert ha hiányzó értékeink vannak, akkor sok függvény nem működik (.pl: split()), amelyek szükségesek a további képésekben. \n",
    "Az \"NA\" értékeket pedig azért is cseréltük le np.nan-ra, mert így már tudjuk őket törölni/cserélni."
   ]
  },
  {
   "cell_type": "markdown",
   "metadata": {},
   "source": [
    "**A pontosabb információkért cseréljük ki az \"NA\" értékeket np.nan-ra**"
   ]
  },
  {
   "cell_type": "code",
   "execution_count": 17,
   "metadata": {},
   "outputs": [],
   "source": [
    "cols = ['cim', 'datum', 'szerzo', 'tag', 'head', 'szoveg']\n",
    "df_index = df_index[cols].replace('NA', np.nan)"
   ]
  },
  {
   "cell_type": "code",
   "execution_count": 18,
   "metadata": {},
   "outputs": [
    {
     "data": {
      "text/plain": [
       "cim        123\n",
       "datum        0\n",
       "szerzo       0\n",
       "tag          0\n",
       "head      3708\n",
       "szoveg     117\n",
       "dtype: int64"
      ]
     },
     "execution_count": 18,
     "metadata": {},
     "output_type": "execute_result"
    }
   ],
   "source": [
    "df_index.isna().sum()"
   ]
  },
  {
   "cell_type": "markdown",
   "metadata": {},
   "source": [
    "**Cím és szöveg mezők közül Nan-t tartalmazó sorok eldobása**"
   ]
  },
  {
   "cell_type": "code",
   "execution_count": 19,
   "metadata": {},
   "outputs": [
    {
     "data": {
      "text/plain": [
       "cim          0\n",
       "datum        0\n",
       "szerzo       0\n",
       "tag          0\n",
       "head      3567\n",
       "szoveg       0\n",
       "dtype: int64"
      ]
     },
     "execution_count": 19,
     "metadata": {},
     "output_type": "execute_result"
    }
   ],
   "source": [
    "df_index = df_index.dropna(subset=['cim', 'szoveg'])\n",
    "df_index.isna().sum()"
   ]
  },
  {
   "cell_type": "markdown",
   "metadata": {},
   "source": [
    "### ---------------------------------------------------------------------------------------"
   ]
  },
  {
   "cell_type": "markdown",
   "metadata": {},
   "source": [
    "## Oszlopok összefűzése\n",
    "Ez a lépés akkor hasznos, ha külön oszlopban tároljuk a címeket a szövegtörzstől, de együtt akarjuk kezelni őket. A példa adathalmazban külön tároljuk a headert (np.nan ha nincs) és a szövegtörzset, de logikailag ezek összetartoznak."
   ]
  },
  {
   "cell_type": "code",
   "execution_count": 20,
   "metadata": {},
   "outputs": [],
   "source": [
    "df_index['merged'] = df_index[['head', 'szoveg']].apply(lambda x: ','.join(x.dropna()), axis=1)"
   ]
  },
  {
   "cell_type": "code",
   "execution_count": 21,
   "metadata": {},
   "outputs": [
    {
     "data": {
      "text/html": [
       "<div>\n",
       "<style scoped>\n",
       "    .dataframe tbody tr th:only-of-type {\n",
       "        vertical-align: middle;\n",
       "    }\n",
       "\n",
       "    .dataframe tbody tr th {\n",
       "        vertical-align: top;\n",
       "    }\n",
       "\n",
       "    .dataframe thead th {\n",
       "        text-align: right;\n",
       "    }\n",
       "</style>\n",
       "<table border=\"1\" class=\"dataframe\">\n",
       "  <thead>\n",
       "    <tr style=\"text-align: right;\">\n",
       "      <th></th>\n",
       "      <th>head</th>\n",
       "      <th>szoveg</th>\n",
       "      <th>merged</th>\n",
       "    </tr>\n",
       "  </thead>\n",
       "  <tbody>\n",
       "    <tr>\n",
       "      <th>\"4081\"</th>\n",
       "      <td>NaN</td>\n",
       "      <td>Hadházy Ákos független országgyűlési képvisel...</td>\n",
       "      <td>Hadházy Ákos független országgyűlési képvisel...</td>\n",
       "    </tr>\n",
       "    <tr>\n",
       "      <th>\"7384\"</th>\n",
       "      <td>NaN</td>\n",
       "      <td>Az új koronavírus okozt járvány pandémiává te...</td>\n",
       "      <td>Az új koronavírus okozt járvány pandémiává te...</td>\n",
       "    </tr>\n",
       "  </tbody>\n",
       "</table>\n",
       "</div>"
      ],
      "text/plain": [
       "       head                                             szoveg  \\\n",
       "\"4081\"  NaN   Hadházy Ákos független országgyűlési képvisel...   \n",
       "\"7384\"  NaN   Az új koronavírus okozt járvány pandémiává te...   \n",
       "\n",
       "                                                   merged  \n",
       "\"4081\"   Hadházy Ákos független országgyűlési képvisel...  \n",
       "\"7384\"   Az új koronavírus okozt járvány pandémiává te...  "
      ]
     },
     "execution_count": 21,
     "metadata": {},
     "output_type": "execute_result"
    }
   ],
   "source": [
    "df_index[df_index['head'].isna()][['head', 'szoveg', 'merged']].head(2)"
   ]
  },
  {
   "cell_type": "code",
   "execution_count": 22,
   "metadata": {},
   "outputs": [
    {
     "data": {
      "text/html": [
       "<div>\n",
       "<style scoped>\n",
       "    .dataframe tbody tr th:only-of-type {\n",
       "        vertical-align: middle;\n",
       "    }\n",
       "\n",
       "    .dataframe tbody tr th {\n",
       "        vertical-align: top;\n",
       "    }\n",
       "\n",
       "    .dataframe thead th {\n",
       "        text-align: right;\n",
       "    }\n",
       "</style>\n",
       "<table border=\"1\" class=\"dataframe\">\n",
       "  <thead>\n",
       "    <tr style=\"text-align: right;\">\n",
       "      <th></th>\n",
       "      <th>head</th>\n",
       "      <th>szoveg</th>\n",
       "      <th>merged</th>\n",
       "    </tr>\n",
       "  </thead>\n",
       "  <tbody>\n",
       "    <tr>\n",
       "      <th>\"3081\"</th>\n",
       "      <td>Ha elolvassuk a Nemzeti alaptanterv szövegét, ...</td>\n",
       "      <td>Nagyon hamar politikai kérdéssé vált a Nemzet...</td>\n",
       "      <td>Ha elolvassuk a Nemzeti alaptanterv szövegét, ...</td>\n",
       "    </tr>\n",
       "    <tr>\n",
       "      <th>\"5378\"</th>\n",
       "      <td>Kitalált és valódi pénzrendszerek, amelyeknek ...</td>\n",
       "      <td>A Harry Potter mesék mágikus pénznemeit így h...</td>\n",
       "      <td>Kitalált és valódi pénzrendszerek, amelyeknek ...</td>\n",
       "    </tr>\n",
       "  </tbody>\n",
       "</table>\n",
       "</div>"
      ],
      "text/plain": [
       "                                                     head  \\\n",
       "\"3081\"  Ha elolvassuk a Nemzeti alaptanterv szövegét, ...   \n",
       "\"5378\"  Kitalált és valódi pénzrendszerek, amelyeknek ...   \n",
       "\n",
       "                                                   szoveg  \\\n",
       "\"3081\"   Nagyon hamar politikai kérdéssé vált a Nemzet...   \n",
       "\"5378\"   A Harry Potter mesék mágikus pénznemeit így h...   \n",
       "\n",
       "                                                   merged  \n",
       "\"3081\"  Ha elolvassuk a Nemzeti alaptanterv szövegét, ...  \n",
       "\"5378\"  Kitalált és valódi pénzrendszerek, amelyeknek ...  "
      ]
     },
     "execution_count": 22,
     "metadata": {},
     "output_type": "execute_result"
    }
   ],
   "source": [
    "df_index[~df_index['head'].isna()][['head', 'szoveg', 'merged']].head(2)"
   ]
  },
  {
   "cell_type": "markdown",
   "metadata": {},
   "source": [
    "### ---------------------------------------------------------------------------------------\n"
   ]
  },
  {
   "cell_type": "markdown",
   "metadata": {},
   "source": [
    "## Duplikációk törlése\n",
    "Bármilyen oknál fogva kerülhetnek be duplikációk a dokumentumgyűjteménybe, de ezeket el kell távolítani, mivel a későbbi elemzéseket torzíthatja."
   ]
  },
  {
   "cell_type": "code",
   "execution_count": 23,
   "metadata": {},
   "outputs": [
    {
     "name": "stdout",
     "output_type": "stream",
     "text": [
      "Length of the corpus without duplications: 3851\n"
     ]
    }
   ],
   "source": [
    "df_index = df_index[~df_index.duplicated(['merged'], keep = 'last')]\n",
    "\n",
    "print(\"Length of the corpus without duplications: {}\".format(len(df_index)))"
   ]
  },
  {
   "cell_type": "markdown",
   "metadata": {},
   "source": [
    "### ---------------------------------------------------------------------------------------\n"
   ]
  },
  {
   "cell_type": "markdown",
   "metadata": {},
   "source": [
    "## Leíró statisztikák készítése\n",
    "(~miből mennyi van a szövegben)\n",
    "<br>\n",
    "Mielőtt nekifognánk a dokumentumokból kiszűrni az irreleváns elemeket (stopszavak, írásjelek, stb.) érdemes összeszámolni ezeket és új oszlopot létrehozni belőlük.\n",
    "<br>\n",
    "Ezek is fontos információk lehetnek, ha például kattintásvadász vagy álhíreket akarunk detektálni."
   ]
  },
  {
   "cell_type": "markdown",
   "metadata": {},
   "source": [
    "**Szavak száma a szövegben/címben stopszavakkal**"
   ]
  },
  {
   "cell_type": "code",
   "execution_count": 24,
   "metadata": {},
   "outputs": [
    {
     "data": {
      "text/html": [
       "<div>\n",
       "<style scoped>\n",
       "    .dataframe tbody tr th:only-of-type {\n",
       "        vertical-align: middle;\n",
       "    }\n",
       "\n",
       "    .dataframe tbody tr th {\n",
       "        vertical-align: top;\n",
       "    }\n",
       "\n",
       "    .dataframe thead th {\n",
       "        text-align: right;\n",
       "    }\n",
       "</style>\n",
       "<table border=\"1\" class=\"dataframe\">\n",
       "  <thead>\n",
       "    <tr style=\"text-align: right;\">\n",
       "      <th></th>\n",
       "      <th>cim</th>\n",
       "      <th>cim_word_cnt</th>\n",
       "    </tr>\n",
       "  </thead>\n",
       "  <tbody>\n",
       "    <tr>\n",
       "      <th>\"4081\"</th>\n",
       "      <td>Hadházy összekalapozott kétmillió forintot a b...</td>\n",
       "      <td>6</td>\n",
       "    </tr>\n",
       "    <tr>\n",
       "      <th>\"7384\"</th>\n",
       "      <td>Alaposan megfogyatkoztak a turisták Budapesten</td>\n",
       "      <td>5</td>\n",
       "    </tr>\n",
       "  </tbody>\n",
       "</table>\n",
       "</div>"
      ],
      "text/plain": [
       "                                                      cim  cim_word_cnt\n",
       "\"4081\"  Hadházy összekalapozott kétmillió forintot a b...             6\n",
       "\"7384\"     Alaposan megfogyatkoztak a turisták Budapesten             5"
      ]
     },
     "execution_count": 24,
     "metadata": {},
     "output_type": "execute_result"
    }
   ],
   "source": [
    "df_index['cim_word_cnt'] = df_index.cim.apply(lambda x: len(str(x).split(\" \"))) \n",
    "df_index[['cim', 'cim_word_cnt']][0:2]"
   ]
  },
  {
   "cell_type": "markdown",
   "metadata": {},
   "source": [
    "**Átlagos szóhoszz a címben**"
   ]
  },
  {
   "cell_type": "code",
   "execution_count": 25,
   "metadata": {},
   "outputs": [
    {
     "data": {
      "text/html": [
       "<div>\n",
       "<style scoped>\n",
       "    .dataframe tbody tr th:only-of-type {\n",
       "        vertical-align: middle;\n",
       "    }\n",
       "\n",
       "    .dataframe tbody tr th {\n",
       "        vertical-align: top;\n",
       "    }\n",
       "\n",
       "    .dataframe thead th {\n",
       "        text-align: right;\n",
       "    }\n",
       "</style>\n",
       "<table border=\"1\" class=\"dataframe\">\n",
       "  <thead>\n",
       "    <tr style=\"text-align: right;\">\n",
       "      <th></th>\n",
       "      <th>cim</th>\n",
       "      <th>cim_avg_word</th>\n",
       "    </tr>\n",
       "  </thead>\n",
       "  <tbody>\n",
       "    <tr>\n",
       "      <th>\"4081\"</th>\n",
       "      <td>Hadházy összekalapozott kétmillió forintot a b...</td>\n",
       "      <td>8.5</td>\n",
       "    </tr>\n",
       "    <tr>\n",
       "      <th>\"7384\"</th>\n",
       "      <td>Alaposan megfogyatkoztak a turisták Budapesten</td>\n",
       "      <td>8.4</td>\n",
       "    </tr>\n",
       "  </tbody>\n",
       "</table>\n",
       "</div>"
      ],
      "text/plain": [
       "                                                      cim  cim_avg_word\n",
       "\"4081\"  Hadházy összekalapozott kétmillió forintot a b...           8.5\n",
       "\"7384\"     Alaposan megfogyatkoztak a turisták Budapesten           8.4"
      ]
     },
     "execution_count": 25,
     "metadata": {},
     "output_type": "execute_result"
    }
   ],
   "source": [
    "def avg_word(sentence):\n",
    "  words = sentence.split()\n",
    "  return (sum(len(word) for word in words)/len(words))\n",
    "\n",
    "df_index['cim_avg_word'] = df_index['cim'].apply(lambda x: avg_word(x))\n",
    "df_index[['cim', 'cim_avg_word']][0:2]"
   ]
  },
  {
   "cell_type": "markdown",
   "metadata": {},
   "source": [
    "**Felkiáltójelek megszámolása a szövegben**"
   ]
  },
  {
   "cell_type": "code",
   "execution_count": 26,
   "metadata": {},
   "outputs": [],
   "source": [
    "df_index['szoveg_num_exclam'] = df_index['szoveg'].str.count('\\\\!')"
   ]
  },
  {
   "cell_type": "markdown",
   "metadata": {},
   "source": [
    "**Kérdőjelek megszámolása a szövegben**"
   ]
  },
  {
   "cell_type": "code",
   "execution_count": 27,
   "metadata": {},
   "outputs": [],
   "source": [
    "df_index['szoveg_num_ques'] = df_index['szoveg'].str.count('\\\\?')"
   ]
  },
  {
   "cell_type": "markdown",
   "metadata": {},
   "source": [
    "**Stopszavak száma a szövegben/címben**"
   ]
  },
  {
   "cell_type": "code",
   "execution_count": 28,
   "metadata": {},
   "outputs": [
    {
     "data": {
      "text/html": [
       "<div>\n",
       "<style scoped>\n",
       "    .dataframe tbody tr th:only-of-type {\n",
       "        vertical-align: middle;\n",
       "    }\n",
       "\n",
       "    .dataframe tbody tr th {\n",
       "        vertical-align: top;\n",
       "    }\n",
       "\n",
       "    .dataframe thead th {\n",
       "        text-align: right;\n",
       "    }\n",
       "</style>\n",
       "<table border=\"1\" class=\"dataframe\">\n",
       "  <thead>\n",
       "    <tr style=\"text-align: right;\">\n",
       "      <th></th>\n",
       "      <th>cim</th>\n",
       "      <th>cim_stop_cnt</th>\n",
       "    </tr>\n",
       "  </thead>\n",
       "  <tbody>\n",
       "    <tr>\n",
       "      <th>\"4081\"</th>\n",
       "      <td>Hadházy összekalapozott kétmillió forintot a b...</td>\n",
       "      <td>1</td>\n",
       "    </tr>\n",
       "    <tr>\n",
       "      <th>\"7384\"</th>\n",
       "      <td>Alaposan megfogyatkoztak a turisták Budapesten</td>\n",
       "      <td>1</td>\n",
       "    </tr>\n",
       "    <tr>\n",
       "      <th>\"3081\"</th>\n",
       "      <td>Nézzük meg, mi szerepel a NAT-ban, és mi a baj...</td>\n",
       "      <td>5</td>\n",
       "    </tr>\n",
       "  </tbody>\n",
       "</table>\n",
       "</div>"
      ],
      "text/plain": [
       "                                                      cim  cim_stop_cnt\n",
       "\"4081\"  Hadházy összekalapozott kétmillió forintot a b...             1\n",
       "\"7384\"     Alaposan megfogyatkoztak a turisták Budapesten             1\n",
       "\"3081\"  Nézzük meg, mi szerepel a NAT-ban, és mi a baj...             5"
      ]
     },
     "execution_count": 28,
     "metadata": {},
     "output_type": "execute_result"
    }
   ],
   "source": [
    "df_index['cim_stop_cnt'] = df_index['cim'].apply(lambda x: len([x for x in x.split() if x in stop]))\n",
    "df_index[['cim', 'cim_stop_cnt']].head(3)"
   ]
  },
  {
   "cell_type": "markdown",
   "metadata": {},
   "source": [
    "**Nagybetűs szavak megszámolása a szövegben**"
   ]
  },
  {
   "cell_type": "code",
   "execution_count": 29,
   "metadata": {},
   "outputs": [
    {
     "data": {
      "text/html": [
       "<div>\n",
       "<style scoped>\n",
       "    .dataframe tbody tr th:only-of-type {\n",
       "        vertical-align: middle;\n",
       "    }\n",
       "\n",
       "    .dataframe tbody tr th {\n",
       "        vertical-align: top;\n",
       "    }\n",
       "\n",
       "    .dataframe thead th {\n",
       "        text-align: right;\n",
       "    }\n",
       "</style>\n",
       "<table border=\"1\" class=\"dataframe\">\n",
       "  <thead>\n",
       "    <tr style=\"text-align: right;\">\n",
       "      <th></th>\n",
       "      <th>cim</th>\n",
       "      <th>cim_cnt_upper</th>\n",
       "    </tr>\n",
       "  </thead>\n",
       "  <tbody>\n",
       "    <tr>\n",
       "      <th>\"4081\"</th>\n",
       "      <td>Hadházy összekalapozott kétmillió forintot a b...</td>\n",
       "      <td>0</td>\n",
       "    </tr>\n",
       "    <tr>\n",
       "      <th>\"7384\"</th>\n",
       "      <td>Alaposan megfogyatkoztak a turisták Budapesten</td>\n",
       "      <td>0</td>\n",
       "    </tr>\n",
       "  </tbody>\n",
       "</table>\n",
       "</div>"
      ],
      "text/plain": [
       "                                                      cim  cim_cnt_upper\n",
       "\"4081\"  Hadházy összekalapozott kétmillió forintot a b...              0\n",
       "\"7384\"     Alaposan megfogyatkoztak a turisták Budapesten              0"
      ]
     },
     "execution_count": 29,
     "metadata": {},
     "output_type": "execute_result"
    }
   ],
   "source": [
    "df_index['cim_cnt_upper'] = df_index.cim.apply(lambda x: len([x for x in x.split() if x.isupper()]))\n",
    "df_index[['cim','cim_cnt_upper']][0:2]"
   ]
  },
  {
   "cell_type": "markdown",
   "metadata": {},
   "source": [
    "### ---------------------------------------------------------------------------------------\n"
   ]
  },
  {
   "cell_type": "markdown",
   "metadata": {},
   "source": [
    "### Szöveg (már \"merged\") mező tisztítása"
   ]
  },
  {
   "cell_type": "markdown",
   "metadata": {},
   "source": [
    "**1. Esetenként bent maradhatnak a szövegben olyan elemek, amelyek a webscrape során bentragadtak. Megosztás, ajánló, további cikkek stb.**"
   ]
  },
  {
   "cell_type": "markdown",
   "metadata": {},
   "source": [
    "Az str.contains() függvénnyel tudunk szavakra, részletekre keresni a szövegben.  "
   ]
  },
  {
   "cell_type": "code",
   "execution_count": 30,
   "metadata": {},
   "outputs": [
    {
     "name": "stdout",
     "output_type": "stream",
     "text": [
      "3047\n",
      "122\n"
     ]
    }
   ],
   "source": [
    "print(len(df_index[df_index['merged'].str.contains('\\xa0')])) # 6834\n",
    "print(len(df_index[df_index['merged'].str.contains('Ne maradjon le semmiről! Facebook')])) #217"
   ]
  },
  {
   "cell_type": "markdown",
   "metadata": {},
   "source": [
    "Az str.replace() függvénnyel tudunk szavakat, részleteket kiszedni, és más karakterrel helyettesíteni."
   ]
  },
  {
   "cell_type": "code",
   "execution_count": 31,
   "metadata": {},
   "outputs": [],
   "source": [
    "df_index['merged'] = df_index['merged'].str.replace('\\xa0', ' ')\n",
    "df_index['merged'] = df_index['merged'].str.replace('Ne maradjon le semmiről! Facebook', '')"
   ]
  },
  {
   "cell_type": "code",
   "execution_count": 32,
   "metadata": {},
   "outputs": [
    {
     "name": "stdout",
     "output_type": "stream",
     "text": [
      "0\n",
      "0\n"
     ]
    }
   ],
   "source": [
    "print(len(df_index[df_index['merged'].str.contains('\\xa0')])) # 6834\n",
    "print(len(df_index[df_index['merged'].str.contains('Ne maradjon le semmiről! Facebook')])) #217"
   ]
  },
  {
   "cell_type": "markdown",
   "metadata": {},
   "source": [
    "**További felesleges elemek eltávolítása**\n",
    "<br>\n",
    "Az adatok tisztítása iteratív folyamat. Sokszor csak az adatok feltárásánál/elemzéseknél jön ki hogy valami még nem stimmel. Pl. Az 'Akták\"-ban majdnem mindíg szerepel a koronavírus, így szűrésnél majd a teljes adathalmazt visszakapjuk...\n",
    "<br>\n",
    "Az index-nél ezek általában a cikk utáni ajánlók, akták, megosztás, támogatás kérés..."
   ]
  },
  {
   "cell_type": "code",
   "execution_count": 36,
   "metadata": {},
   "outputs": [
    {
     "data": {
      "text/html": [
       "<div>\n",
       "<style scoped>\n",
       "    .dataframe tbody tr th:only-of-type {\n",
       "        vertical-align: middle;\n",
       "    }\n",
       "\n",
       "    .dataframe tbody tr th {\n",
       "        vertical-align: top;\n",
       "    }\n",
       "\n",
       "    .dataframe thead th {\n",
       "        text-align: right;\n",
       "    }\n",
       "</style>\n",
       "<table border=\"1\" class=\"dataframe\">\n",
       "  <thead>\n",
       "    <tr style=\"text-align: right;\">\n",
       "      <th></th>\n",
       "      <th>cim</th>\n",
       "      <th>datum</th>\n",
       "      <th>szerzo</th>\n",
       "      <th>tag</th>\n",
       "      <th>head</th>\n",
       "      <th>szoveg</th>\n",
       "      <th>merged</th>\n",
       "      <th>cim_word_cnt</th>\n",
       "      <th>cim_avg_word</th>\n",
       "      <th>szoveg_num_exclam</th>\n",
       "      <th>szoveg_num_ques</th>\n",
       "      <th>cim_stop_cnt</th>\n",
       "      <th>cim_cnt_upper</th>\n",
       "    </tr>\n",
       "  </thead>\n",
       "  <tbody>\n",
       "  </tbody>\n",
       "</table>\n",
       "</div>"
      ],
      "text/plain": [
       "Empty DataFrame\n",
       "Columns: [cim, datum, szerzo, tag, head, szoveg, merged, cim_word_cnt, cim_avg_word, szoveg_num_exclam, szoveg_num_ques, cim_stop_cnt, cim_cnt_upper]\n",
       "Index: []"
      ]
     },
     "execution_count": 36,
     "metadata": {},
     "output_type": "execute_result"
    }
   ],
   "source": [
    "df_index[df_index['merged'].str.contains('Akták A koronavírus Magyarországon.*', regex = True)]"
   ]
  },
  {
   "cell_type": "code",
   "execution_count": 38,
   "metadata": {},
   "outputs": [],
   "source": [
    "df_index['merged'] = df_index['merged'].apply(lambda x: re.sub(\"Akták A koronavírus Magyarországon.*\", \"\", x))"
   ]
  },
  {
   "cell_type": "code",
   "execution_count": 41,
   "metadata": {},
   "outputs": [
    {
     "data": {
      "text/html": [
       "<div>\n",
       "<style scoped>\n",
       "    .dataframe tbody tr th:only-of-type {\n",
       "        vertical-align: middle;\n",
       "    }\n",
       "\n",
       "    .dataframe tbody tr th {\n",
       "        vertical-align: top;\n",
       "    }\n",
       "\n",
       "    .dataframe thead th {\n",
       "        text-align: right;\n",
       "    }\n",
       "</style>\n",
       "<table border=\"1\" class=\"dataframe\">\n",
       "  <thead>\n",
       "    <tr style=\"text-align: right;\">\n",
       "      <th></th>\n",
       "      <th>cim</th>\n",
       "      <th>datum</th>\n",
       "      <th>szerzo</th>\n",
       "      <th>tag</th>\n",
       "      <th>head</th>\n",
       "      <th>szoveg</th>\n",
       "      <th>merged</th>\n",
       "      <th>cim_word_cnt</th>\n",
       "      <th>cim_avg_word</th>\n",
       "      <th>szoveg_num_exclam</th>\n",
       "      <th>szoveg_num_ques</th>\n",
       "      <th>cim_stop_cnt</th>\n",
       "      <th>cim_cnt_upper</th>\n",
       "    </tr>\n",
       "  </thead>\n",
       "  <tbody>\n",
       "  </tbody>\n",
       "</table>\n",
       "</div>"
      ],
      "text/plain": [
       "Empty DataFrame\n",
       "Columns: [cim, datum, szerzo, tag, head, szoveg, merged, cim_word_cnt, cim_avg_word, szoveg_num_exclam, szoveg_num_ques, cim_stop_cnt, cim_cnt_upper]\n",
       "Index: []"
      ]
     },
     "execution_count": 41,
     "metadata": {},
     "output_type": "execute_result"
    }
   ],
   "source": [
    "df_index[df_index['merged'].str.contains('Támogasd te is.*', regex = True)]"
   ]
  },
  {
   "cell_type": "code",
   "execution_count": 40,
   "metadata": {},
   "outputs": [],
   "source": [
    "df_index['merged'] = df_index['merged'].apply(lambda x: re.sub(\"Támogasd te is.*\", \"\", x))"
   ]
  },
  {
   "cell_type": "code",
   "execution_count": 42,
   "metadata": {
    "scrolled": true
   },
   "outputs": [],
   "source": [
    "df_index['merged'] = df_index['merged'].apply(lambda x: re.sub(\"Durva influenza vagy veszélyes világjárvány.*\", \"\", x))"
   ]
  },
  {
   "cell_type": "code",
   "execution_count": 43,
   "metadata": {},
   "outputs": [],
   "source": [
    "df_index['merged'] = df_index['merged'].apply(lambda x: re.sub(\"Vannak, akiknek már nincsenek kérdéseik, És vannak akik az Indexet olvassák!.*\", \"\", x))"
   ]
  },
  {
   "cell_type": "markdown",
   "metadata": {},
   "source": [
    "**2. Szövegbányászati elemzésekhez való előkészítés**\n",
    "<br>\n",
    "* kisbetűsítés,\n",
    "* írásjelek eltávolítása,\n",
    "* stopszavak eltávolítása,\n",
    "* numerikus elemek eltávolítása\n",
    "<br>\n",
    "Mindezt egy egyszerű függvénnyel.\n",
    "<br>\n",
    "Itt már bevethetjük a regex eszköztárat: https://docs.python.org/3/library/re.html"
   ]
  },
  {
   "cell_type": "code",
   "execution_count": 44,
   "metadata": {},
   "outputs": [],
   "source": [
    "def merged_cleaning(df):\n",
    "    \"\"\"\n",
    "    Transforming szoveg (merged) column for the NLP:\n",
    "    - Remove punctuations,\n",
    "    - Lowercasing,\n",
    "    - Remove stopwords.\n",
    "    \"\"\"\n",
    "    \n",
    "    df['merged_cleaned'] = df['merged'].str.replace('-', ' ')\n",
    "    df['merged_cleaned'] = df['merged_cleaned'].str.replace('[^\\w\\s]', ' ')\n",
    "    df['merged_cleaned'] = df['merged_cleaned'].str.replace('\\d+', ' ') \n",
    "    \n",
    "    df['merged_cleaned'] = df['merged_cleaned'].str.lower()\n",
    "\n",
    "    df['merged_cleaned'] = df['merged_cleaned'].apply(lambda x: \" \".join(x for x in x.split() if x not in stop))\n",
    "\n",
    "    return df"
   ]
  },
  {
   "cell_type": "code",
   "execution_count": 45,
   "metadata": {},
   "outputs": [],
   "source": [
    "df_index = merged_cleaning(df_index)"
   ]
  },
  {
   "cell_type": "code",
   "execution_count": 46,
   "metadata": {
    "scrolled": true
   },
   "outputs": [
    {
     "data": {
      "text/html": [
       "<div>\n",
       "<style scoped>\n",
       "    .dataframe tbody tr th:only-of-type {\n",
       "        vertical-align: middle;\n",
       "    }\n",
       "\n",
       "    .dataframe tbody tr th {\n",
       "        vertical-align: top;\n",
       "    }\n",
       "\n",
       "    .dataframe thead th {\n",
       "        text-align: right;\n",
       "    }\n",
       "</style>\n",
       "<table border=\"1\" class=\"dataframe\">\n",
       "  <thead>\n",
       "    <tr style=\"text-align: right;\">\n",
       "      <th></th>\n",
       "      <th>cim</th>\n",
       "      <th>datum</th>\n",
       "      <th>szerzo</th>\n",
       "      <th>tag</th>\n",
       "      <th>head</th>\n",
       "      <th>szoveg</th>\n",
       "      <th>merged</th>\n",
       "      <th>cim_word_cnt</th>\n",
       "      <th>cim_avg_word</th>\n",
       "      <th>szoveg_num_exclam</th>\n",
       "      <th>szoveg_num_ques</th>\n",
       "      <th>cim_stop_cnt</th>\n",
       "      <th>cim_cnt_upper</th>\n",
       "      <th>merged_cleaned</th>\n",
       "    </tr>\n",
       "  </thead>\n",
       "  <tbody>\n",
       "    <tr>\n",
       "      <th>\"4081\"</th>\n",
       "      <td>Hadházy összekalapozott kétmillió forintot a b...</td>\n",
       "      <td>\"2020.02.20. 20:50 \"</td>\n",
       "      <td>\"NA\"</td>\n",
       "      <td>\"Belföld,hadházy,ákos,büntetés,bírság,parlamen...</td>\n",
       "      <td>NaN</td>\n",
       "      <td>Hadházy Ákos független országgyűlési képvisel...</td>\n",
       "      <td>Hadházy Ákos független országgyűlési képvisel...</td>\n",
       "      <td>6</td>\n",
       "      <td>8.5</td>\n",
       "      <td>1</td>\n",
       "      <td>0</td>\n",
       "      <td>1</td>\n",
       "      <td>0</td>\n",
       "      <td>hadházy ákos független országgyűlési képviselő...</td>\n",
       "    </tr>\n",
       "    <tr>\n",
       "      <th>\"7384\"</th>\n",
       "      <td>Alaposan megfogyatkoztak a turisták Budapesten</td>\n",
       "      <td>\"2020.03.14. 17:12\"</td>\n",
       "      <td>\"NA\"</td>\n",
       "      <td>\"Belföld,kínai,koronavírus,koronavírus,magyaro...</td>\n",
       "      <td>NaN</td>\n",
       "      <td>Az új koronavírus okozt járvány pandémiává te...</td>\n",
       "      <td>Az új koronavírus okozt járvány pandémiává te...</td>\n",
       "      <td>5</td>\n",
       "      <td>8.4</td>\n",
       "      <td>1</td>\n",
       "      <td>1</td>\n",
       "      <td>1</td>\n",
       "      <td>0</td>\n",
       "      <td>koronavírus okozt járvány pandémiává terebélye...</td>\n",
       "    </tr>\n",
       "  </tbody>\n",
       "</table>\n",
       "</div>"
      ],
      "text/plain": [
       "                                                      cim  \\\n",
       "\"4081\"  Hadházy összekalapozott kétmillió forintot a b...   \n",
       "\"7384\"     Alaposan megfogyatkoztak a turisták Budapesten   \n",
       "\n",
       "                       datum szerzo  \\\n",
       "\"4081\"  \"2020.02.20. 20:50 \"   \"NA\"   \n",
       "\"7384\"   \"2020.03.14. 17:12\"   \"NA\"   \n",
       "\n",
       "                                                      tag head  \\\n",
       "\"4081\"  \"Belföld,hadházy,ákos,büntetés,bírság,parlamen...  NaN   \n",
       "\"7384\"  \"Belföld,kínai,koronavírus,koronavírus,magyaro...  NaN   \n",
       "\n",
       "                                                   szoveg  \\\n",
       "\"4081\"   Hadházy Ákos független országgyűlési képvisel...   \n",
       "\"7384\"   Az új koronavírus okozt járvány pandémiává te...   \n",
       "\n",
       "                                                   merged  cim_word_cnt  \\\n",
       "\"4081\"   Hadházy Ákos független országgyűlési képvisel...             6   \n",
       "\"7384\"   Az új koronavírus okozt járvány pandémiává te...             5   \n",
       "\n",
       "        cim_avg_word  szoveg_num_exclam  szoveg_num_ques  cim_stop_cnt  \\\n",
       "\"4081\"           8.5                  1                0             1   \n",
       "\"7384\"           8.4                  1                1             1   \n",
       "\n",
       "        cim_cnt_upper                                     merged_cleaned  \n",
       "\"4081\"              0  hadházy ákos független országgyűlési képviselő...  \n",
       "\"7384\"              0  koronavírus okozt járvány pandémiává terebélye...  "
      ]
     },
     "execution_count": 46,
     "metadata": {},
     "output_type": "execute_result"
    }
   ],
   "source": [
    "df_index.head(2)"
   ]
  },
  {
   "cell_type": "markdown",
   "metadata": {},
   "source": [
    "### ---------------------------------------------------------------------------------------"
   ]
  },
  {
   "cell_type": "markdown",
   "metadata": {},
   "source": [
    "## Előfeldolgozott adatok tárolása"
   ]
  },
  {
   "cell_type": "code",
   "execution_count": 47,
   "metadata": {},
   "outputs": [],
   "source": [
    "df_index.to_pickle('2020_corpus_preprocessed.pkl')"
   ]
  },
  {
   "cell_type": "code",
   "execution_count": null,
   "metadata": {},
   "outputs": [],
   "source": []
  }
 ],
 "metadata": {
  "kernelspec": {
   "display_name": "Python 3",
   "language": "python",
   "name": "python3"
  },
  "language_info": {
   "codemirror_mode": {
    "name": "ipython",
    "version": 3
   },
   "file_extension": ".py",
   "mimetype": "text/x-python",
   "name": "python",
   "nbconvert_exporter": "python",
   "pygments_lexer": "ipython3",
   "version": "3.7.6"
  }
 },
 "nbformat": 4,
 "nbformat_minor": 4
}

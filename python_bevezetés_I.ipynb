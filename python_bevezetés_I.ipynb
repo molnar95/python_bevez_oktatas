{
 "cells": [
  {
   "cell_type": "markdown",
   "metadata": {},
   "source": [
    "# Python bevezetés"
   ]
  },
  {
   "cell_type": "markdown",
   "metadata": {},
   "source": [
    "Ebben a notebook-ban a Python alapjait vesszük át.\n",
    "Alapvetően a notebook két részben mutatja be a pythont. Egyrészt egy technikaibb áttekintést nyújt, másrészt az adatelemzéshez szükséges könyvtárak közül a \"legnépszerűbbeket\" mutatja be.\n",
    "\n",
    "**1. Technikaibb áttekintés:**\n",
    "* anaconda környezet felállítása\n",
    "* python csomagok telepítése\n",
    "* ismerkedés a jupyter notebook-al\n",
    "<br>\n",
    "<br>\n",
    "python_bevezetés_I notebook\n",
    "\n",
    "**2. Adatelemzősebb áttekintés:**\n",
    "* Adattípusok\n",
    "* csomagok importálása\n",
    "* pandas\n",
    "* adatok beolvasása\n",
    "* adatfeltárás\n",
    "* adatvizualizáció\n",
    "<br>\n",
    "<br>\n",
    "python_bevezetés_II notebook\n",
    "\n",
    "## --------------------------------------------------------------------------------------------------------------------------\n",
    "\n",
    "## 1. Technikaibb áttekintés\n",
    "\n",
    "### 1.1 Virtuális környezetek létrehozása\n",
    "\n",
    "Azért hasznosak, mert ha több projekten dolgozunk akkor ezekhez sokszor különböző könyvtárak kellenek, ez pedig nagyon sok dependenciát tartalmazhat. Ha csak egy környezetünk van és oda telepítünk mindent, akkor ezek összeakadhatnak és egy párhuzamos projekt elképzelhető, hogy le sem fut.\n",
    "A virtuális környezetek szeparáltan létrehoznak egy python környezetet és ezekhez adhatunk különféle csomagokat. Így, ha párhuzamosan dolgozunk a projektjeink nem \"akadnak\" össze.\n",
    "\n",
    "Anaconda környezetet az alábbi módon kell létrehozni:\n",
    "\n",
    "**1. Anaconda promt (~cmd) indítása**\n",
    "<br>\n",
    "<br>\n",
    "**2. cd** (change directory) **rendszer törzsbe visszalépés**\n",
    "<br>\n",
    "<br>\n",
    "**3. Célmappa útvonalának megadása cd -elérés-**\n",
    "<br>\n",
    "<br>\n",
    "**4. Környezet létrehozása:**\n",
    "<br>\n",
    "        conda create --name env_name\n",
    "<br>\n",
    "<br>\n",
    "**5. Környezet aktiválása:**\n",
    "<br>\n",
    "        conda activate env_name\n",
    "<br>\n",
    "<br>\n",
    "**6. Környezet leállítása:**\n",
    "<br>\n",
    "        conda deactivate\n",
    "<br>\n",
    "<br>\n",
    "Ha esetleg még pár parancsnak utánaolvasnál:\n",
    "*Manage environments*: https://docs.conda.io/projects/conda/en/latest/user-guide/tasks/manage-environments.html\n",
    "\n",
    "### 1.2 Python csomagok installálása\n",
    "Hasonlóan az R-hez a python-ban is különböző könyvtárakat kell installálni a különbözű feladatokhoz szükséges függvények eléréséhez.\n",
    "A python csomagokat háromféle módon telepíthetjük:\n",
    "<br>\n",
    "**1. Anaconda prompt-al (anaconda környezetben)**\n",
    "<br>\n",
    "    conda install pandas\n",
    "<br>\n",
    "\tconda install pandas=0.20.3\n",
    "<br>\n",
    "\tpip install pandas\n",
    "<br>\n",
    "<br> \n",
    "**2. base python-nal (alap környezetben)**\n",
    "<br>\n",
    "Ha így telepítenénk akkor a parancssort redszergazdaként! kell elindítani, aztán be kell menni (cd parancs) \n",
    "a python3.6/Scripts -be.\n",
    "<br>\n",
    "Itt már lehet futtatni a következő parancsot:\n",
    "<br>\n",
    "    pip install pandas\n",
    "<br>\n",
    "<br>\n",
    "**3. Jupyter notebbokon keresztül is telepíthetünk csomagokat**\n",
    "<br>\n",
    "! pip install --user pandas\n",
    "<br>\n",
    "(A felkiáltójel mondja meg, hogy a kódblokkot parancssori parancsként futtassa)\n",
    "<br>\n",
    "<br>\n",
    "<br>\n",
    "Itt akkor előre is dolgoznánk és telepítenénk a csomagokat."
   ]
  },
  {
   "cell_type": "code",
   "execution_count": 1,
   "metadata": {},
   "outputs": [
    {
     "name": "stdout",
     "output_type": "stream",
     "text": [
      "Requirement already satisfied: pandas==1.0.1 in c:\\users\\molna\\anaconda3\\lib\\site-packages (1.0.1)\n",
      "Requirement already satisfied: python-dateutil>=2.6.1 in c:\\users\\molna\\anaconda3\\lib\\site-packages (from pandas==1.0.1) (2.8.1)\n",
      "Requirement already satisfied: numpy>=1.13.3 in c:\\users\\molna\\anaconda3\\lib\\site-packages (from pandas==1.0.1) (1.18.1)\n",
      "Requirement already satisfied: pytz>=2017.2 in c:\\users\\molna\\anaconda3\\lib\\site-packages (from pandas==1.0.1) (2019.3)\n",
      "Requirement already satisfied: six>=1.5 in c:\\users\\molna\\anaconda3\\lib\\site-packages (from python-dateutil>=2.6.1->pandas==1.0.1) (1.14.0)\n",
      "Requirement already satisfied: matplotlib==3.1.3 in c:\\users\\molna\\anaconda3\\lib\\site-packages (3.1.3)\n",
      "Requirement already satisfied: numpy>=1.11 in c:\\users\\molna\\anaconda3\\lib\\site-packages (from matplotlib==3.1.3) (1.18.1)\n",
      "Requirement already satisfied: kiwisolver>=1.0.1 in c:\\users\\molna\\anaconda3\\lib\\site-packages (from matplotlib==3.1.3) (1.1.0)\n",
      "Requirement already satisfied: cycler>=0.10 in c:\\users\\molna\\anaconda3\\lib\\site-packages (from matplotlib==3.1.3) (0.10.0)\n",
      "Requirement already satisfied: pyparsing!=2.0.4,!=2.1.2,!=2.1.6,>=2.0.1 in c:\\users\\molna\\anaconda3\\lib\\site-packages (from matplotlib==3.1.3) (2.4.6)\n",
      "Requirement already satisfied: python-dateutil>=2.1 in c:\\users\\molna\\anaconda3\\lib\\site-packages (from matplotlib==3.1.3) (2.8.1)\n",
      "Requirement already satisfied: setuptools in c:\\users\\molna\\anaconda3\\lib\\site-packages (from kiwisolver>=1.0.1->matplotlib==3.1.3) (45.2.0.post20200210)\n",
      "Requirement already satisfied: six in c:\\users\\molna\\anaconda3\\lib\\site-packages (from cycler>=0.10->matplotlib==3.1.3) (1.14.0)\n"
     ]
    },
    {
     "name": "stderr",
     "output_type": "stream",
     "text": [
      "ERROR: Could not find a version that satisfies the requirement re (from versions: none)\n",
      "ERROR: No matching distribution found for re\n"
     ]
    },
    {
     "name": "stdout",
     "output_type": "stream",
     "text": [
      "Requirement already satisfied: nltk==3.4.5 in c:\\users\\molna\\anaconda3\\lib\\site-packages (3.4.5)\n",
      "Requirement already satisfied: six in c:\\users\\molna\\anaconda3\\lib\\site-packages (from nltk==3.4.5) (1.14.0)\n"
     ]
    }
   ],
   "source": [
    "\n",
    "! pip install pandas==1.0.1\n",
    "! pip install matplotlib==3.1.3\n",
    "\n",
    "! pip install re\n",
    "! pip install nltk==3.4.5\n",
    "\n",
    "# ez nagyon sokáig fut ~ 1.3 giga\n",
    "#! pip install https://github.com/oroszgy/spacy-hungarian-models/releases/download/hu_core_ud_lg-0.3.1/hu_core_ud_lg-0.3.1-py3-none-any.whl  \n"
   ]
  },
  {
   "cell_type": "markdown",
   "metadata": {},
   "source": [
    "## --------------------------------------------------------------------------------------------------------------------------"
   ]
  },
  {
   "cell_type": "markdown",
   "metadata": {},
   "source": [
    "## 1.3 Ismerkedés a Jupyter Notebook-al\n",
    "Ad-hoc elemzésekre, kísérletezésre, a végleges modellek kifejlesztésére ideális eszköz a web alapú Jupyter szoftver, melyet a JUlia, PYThon és R nyelvek egyszerű használatára alakítottak ki, és mely sok hasonló webes szerkesztőt ihletett. \n",
    "<br>\n",
    "Az eszköz indításakor a böngészőben nyílik meg a Jupyter vagy a kiválasztott, ahhoz hasonló webes szerkesztő (Kaggle Notebooks, Azure Notebooks, Google CoLab, stb.) vezérlőpultja, ahol korábban elmentett munka, vagy egy új notebook is megnyitható.\n",
    "<br>\n",
    "<br>\n",
    "**Eszköz indítása:**\n",
    "<br>\n",
    "* Anaconda Promt elindítása\n",
    "* jupyter notebook parancs futtatása\n",
    "<br>\n",
    "<br>\n",
    "A megnyitott notebook-ban cellákba írunk kódrészleteket. Érdemes a logikailag összetartozó utasításokat egy cellába beírni. A cellák egyesével futtathatók, illetve újra futtathatók.\n",
    "\n",
    "**Működése:**\n",
    "Alapvetően 2 fő üzemmód létezik a celláknál:\n",
    "* Parancs (code) mód: scripteket futtathatunk\n",
    "* Szerkesztő (markdown) mód: ahol ilyen leírásokat készíthetünk.\n",
    "\n",
    "<br>\n",
    "A fenti menüsorból a Kernelt emelném ki. Ha megtelik a memória, vagy lefagy a python, akkor a Kernel menü alatti Restart-ot érdemes futtatni. !Fontos, hogy ilyenkor az összes memóriában tárolt változó törlődik, így mindent újra kell futtatni.\n",
    "<br>\n",
    "\n",
    "**Legfontosabb billentyűparancsok:**\n",
    "<br>\n",
    "Ctrl+Enter: Futtatás\n",
    "<br>\n",
    "SHIFT+TAB: Segítség a függvényekhez\n",
    "<br>\n",
    "a: Cella beszúrása fölé\n",
    "<br>\n",
    "b: Cella beszúrása alá\n",
    "<br>\n",
    "dd: Cella törlése \n",
    "<br>\n",
    "y: Cella code módba\n",
    "<br>\n",
    "m: Cella markdown módba"
   ]
  },
  {
   "cell_type": "markdown",
   "metadata": {},
   "source": [
    "## --------------------------------------------------------------------------------------------------------------------------"
   ]
  },
  {
   "cell_type": "markdown",
   "metadata": {},
   "source": [
    "## 2. Adatelemzési alapok"
   ]
  },
  {
   "cell_type": "markdown",
   "metadata": {},
   "source": [
    "#### Python programozási nyelv elemei\n",
    "* **Utasítások:** parancsok a számítógépnek, amiket alapértelmezetten egymás után (sorról sorra) hajt végre. Ha ettől eltérő működést szeretnénk elérni, akkor vezérlési szerkezeteket használunk. Az utasítások lehetnek egyszerű műveletek (összeadás, szorzás vagy értékadás), vagy bonyolult előre (mások által vagy általunk) megírt függvények/eljárások is.\n",
    "* **Változók:** a számítógép olyan memória területei, melyek megőrzik a tartalmukat. Ezeket bármikor ki lehet olvasni, értéküket lehet módosítani (pl. értékadással), vagy törölni (hogy memóriát szabadítsunk fel). A változóknak vannak adattípusai, melyek segítségével a változókon értelmezett műveletek köre is meg van határozva, illetve ennek segítségével lehet a számítógép memóriájával is gazdálkodni (hiszen a különböző adattípusú változók különböző nagyságú memóriát igényelnek és felesleges egy kis helyen elférő változónak - pl. egyszerű szám 4 bájtot igényel - több MB-ot lefoglalni)\n",
    "* **Konstansok:** hasonlóak a változókhoz, hiszen szintén a számítógép memóriájának egy meghatározott részét reprezentálják és van adattípusuk, viszont tartalmuk nem változtatható meg (vannak beépített konstansok, melyeket a Python nyelv készítői töltöttek fel értékkel, és vannak a saját konstansaink, amiket az első használat előtt mi töltünk fel értékkel - viszont a feltöltés után ezek egyikének sem lehet megváltoztatni a tartalmát)\n",
    "* **Vezérlési szerkezetek:** ha az utasításokat nem sorról sorra, hanem ettől eltérően szeretnénk végrehajtatni a számítógéppel, akkor ezeket használjuk.\n",
    "* **Megjegyzések:** a számítógép a program végrehajtása során ezeket a szövegrészeket figyelmen kívül hagyja. Céljuk, hogy könnyebben lehessen értelmezni a programot (másoknak vagy nekünk ha néhány hét múlva elővesszük)\n",
    "* **Programok:** az előzőek összessége, melyek segítségével valamilyen célt valósít meg a számítógép (hasonló egy IKEA összeállítási leíráshoz vagy egy ételrecepthez). A programokat lefuttathatjuk/végrehattathatjuk a számítógéppel, elmenthetjük (hogy később szükség szerint módosítani tudjuk, vagy ismételten le tudjuk futtatni) és tartalmát módosíthatjuk is (egy egyszerű szövegszerkesztővel vagy bonyolult fejlesztőeszközzel)"
   ]
  },
  {
   "cell_type": "markdown",
   "metadata": {},
   "source": [
    "### 2.1 Egyszerű adattípusok áttekintése"
   ]
  },
  {
   "cell_type": "markdown",
   "metadata": {},
   "source": [
    "### Karaktertömbök/Karakterláncok [str]"
   ]
  },
  {
   "cell_type": "code",
   "execution_count": 2,
   "metadata": {
    "scrolled": true
   },
   "outputs": [
    {
     "name": "stdout",
     "output_type": "stream",
     "text": [
      "H\n",
      "10\n",
      "Hello Word\n"
     ]
    }
   ],
   "source": [
    "x = \"Hello Word\"\n",
    "print(x[0])\n",
    "print(len(x))\n",
    "print(x)"
   ]
  },
  {
   "cell_type": "code",
   "execution_count": 3,
   "metadata": {},
   "outputs": [
    {
     "name": "stdout",
     "output_type": "stream",
     "text": [
      "A sztring hossza: 10\n",
      "A legnagyobb elem: r\n",
      "A dab szó benne van-e a stringben: True\n"
     ]
    }
   ],
   "source": [
    "x = \"Hello Word\"\n",
    "\n",
    "print(\"A sztring hossza: {}\".format(len(x)))\n",
    "print('A legnagyobb elem: {}'.format(max(x)))\n",
    "print('A dab szó benne van-e a stringben: {}'.format(\"Hel\" in x))"
   ]
  },
  {
   "cell_type": "markdown",
   "metadata": {},
   "source": [
    "Leggyakoribb függvények:\n",
    "\n",
    "* **len(s):** s hossza\n",
    "* **x in s:** 1 (True) ha s egy elme azonos x-szel, különben 0 (False)\n",
    "* **x not in s:** az előző ellentéte\n",
    "* **s + t:** s és t konkatenációja\n",
    "* **str.find(sub[, start[, end]]):** Visszaadja azt a legkisebb indexet, ahonnan kezdve sub előfordul az str stringben. -1-gyel tér vissza, ha sub nem található str-ben.\n",
    "* **str.join(iterable):** Visszatér egy olyan stringgel, amely az iterable objektumból való stringek konkatenációja. A stringek közötti elválasztó az str string.\n",
    "* **str.lower():** Visszatér azzal a stringgel, amelyben str minden karaktere kisbetűs.\n",
    "* **str.replace(old, new[, count]):** Visszatér str azon másolatával, ahol old összes előfordulása le van cserélve new-re. Az opcionális count paraméter azt határozza meg, hogy legfeljebb hány előfordulás legyen lecserélve.\n",
    "* **str.split([sep[, maxsplit]]):** Visszatér az adott string szavait tartalmazó listával, ahol sep a szavakat elválasztó jel(sorozat). Ha a maxsplit paraméter meg van adva, akkor a metódus balról kezdve legfeljebb maxsplit szeletelést végez.\n",
    "* **str.strip([chars]):** Visszatér str azon másolatával, ahol a string eleji és végi karakterek el vannak távolítva. A chars paraméter egy string, amely az eltávolítandó karaktereket tartalmazza. Ha hiányzik, akkor a metódus csak a whitespace karaktereket távolítja el.\n",
    "* **str.upper():** Visszadja str azon másolatát, amelyben a karakterek csupa nagybetűsek.\n",
    "\n",
    "<br>\n",
    "Sok függvény hasznos lehet még, de ezeket az NLP-nél az adattisztításnál nézzük meg."
   ]
  },
  {
   "cell_type": "markdown",
   "metadata": {},
   "source": [
    "### Egész és valós számok [int/float]\n",
    "<br>\n",
    "A Python támogatja mind az egész, mind a lebegőpontos számokat. A megkülönböztetésükhöz nincs típusdeklaráció, a Python a tizedespont jelenléte vagy hiánya alapján tesz különbséget.\n"
   ]
  },
  {
   "cell_type": "code",
   "execution_count": 4,
   "metadata": {},
   "outputs": [
    {
     "name": "stdout",
     "output_type": "stream",
     "text": [
      "123.1\n",
      "10\n"
     ]
    }
   ],
   "source": [
    "value = 123.1\n",
    "print(value)\n",
    "value = 10\n",
    "print(value)"
   ]
  },
  {
   "cell_type": "code",
   "execution_count": 5,
   "metadata": {},
   "outputs": [
    {
     "name": "stdout",
     "output_type": "stream",
     "text": [
      "<class 'float'>\n",
      "<class 'int'>\n"
     ]
    }
   ],
   "source": [
    "value = 123.8\n",
    "print(type(value))\n",
    "value = int(value)\n",
    "print(type(value))"
   ]
  },
  {
   "cell_type": "markdown",
   "metadata": {},
   "source": [
    "Végezhető műveletek, operátorok, függvények:\n",
    "\n",
    "* A / operátor lebegőpontos osztást végez. Akkor is float típusú eredményt ad, ha a számláló és a nevező is int.\n",
    "* A ** operátor „hatványozást” jelent. 11^2 = 11 * 11 = 121.\n",
    "*  % operátor megadja a maradékot egészosztás után (moduló). A 11 osztva 2-vel 5, a maradék 1, így az eredmény 1.\n",
    "*  \"*\" operátor két szám szorzását jelenti.\n",
    "Egyéb gyakori műveletek:\n",
    "* abs(x) x abszolút értéke\n",
    "* int(x) x értékét integer típusra konvertáljuk\n",
    "* float(x) x értékét lebegõpontos számmá konvertáljuk\n",
    "* pow(x, y) x y-adik hatványa\n",
    "* round(lebeg, számjegy) : kerekíti a lebegőpontos számot\n",
    "\n",
    "(+;-;<;>;<=;>=; stb..)"
   ]
  },
  {
   "cell_type": "markdown",
   "metadata": {},
   "source": [
    "### Logikai (boolean) [bool]\n",
    "A logikai értékek igazak vagy hamisak lehetnek. A Python két konstanssal rendelkezik, amelyek közvetlenül logikai értékekhez rendelhetők, ezek a True és False. A kifejezések is logikai értékekké értékelődnek ki."
   ]
  },
  {
   "cell_type": "code",
   "execution_count": 6,
   "metadata": {},
   "outputs": [
    {
     "name": "stdout",
     "output_type": "stream",
     "text": [
      "False\n"
     ]
    }
   ],
   "source": [
    "x = \"Hello Word\"\n",
    "\n",
    "print(\"asd\" in x)"
   ]
  },
  {
   "cell_type": "markdown",
   "metadata": {},
   "source": [
    "### 2.2 Összetett adattípusok"
   ]
  },
  {
   "cell_type": "markdown",
   "metadata": {},
   "source": [
    "### Listák [list]\n",
    "A lista egy rendezett adathalmaz, elemeire 0-tól kezdődő index-szel hivatkozhatunk. A karakterláncok általános eseteinek is tekinthetjük (a karakterláncok egy pozíción egy karaktert tartalmaznak szemben a listákkal, ahol bármilyen elem lehet egy adott pozíción). \n",
    "Kölönböző adattípusokat tartalmazhat."
   ]
  },
  {
   "cell_type": "code",
   "execution_count": 7,
   "metadata": {},
   "outputs": [
    {
     "name": "stdout",
     "output_type": "stream",
     "text": [
      "[5, 3.14]\n",
      "alma\n",
      "3.14\n"
     ]
    }
   ],
   "source": [
    "lista = []                                # Üres lista\n",
    "lista = ['alma', 5, 3.14]                 # Különböző adattípusok\n",
    "print(lista[1:])                          # indexelés\n",
    "print(lista[0])\n",
    "print(lista[-1])"
   ]
  },
  {
   "cell_type": "code",
   "execution_count": 8,
   "metadata": {},
   "outputs": [
    {
     "name": "stdout",
     "output_type": "stream",
     "text": [
      "['korte', 5, 3.14]\n"
     ]
    }
   ],
   "source": [
    "lista[0] = 'korte'                        # Lista elemek módosíthatók\n",
    "print(lista)"
   ]
  },
  {
   "cell_type": "code",
   "execution_count": 9,
   "metadata": {},
   "outputs": [
    {
     "name": "stdout",
     "output_type": "stream",
     "text": [
      "3\n"
     ]
    }
   ],
   "source": [
    "print(len(lista))                         # Lista elemeinek száma (hasonlóan a karakterláncokhoz)"
   ]
  },
  {
   "cell_type": "code",
   "execution_count": 10,
   "metadata": {
    "scrolled": true
   },
   "outputs": [
    {
     "name": "stdout",
     "output_type": "stream",
     "text": [
      "['korte', 3.14]\n"
     ]
    }
   ],
   "source": [
    "del lista[1]                              # Elem törlése\n",
    "print(lista)"
   ]
  },
  {
   "cell_type": "code",
   "execution_count": 11,
   "metadata": {},
   "outputs": [
    {
     "name": "stdout",
     "output_type": "stream",
     "text": [
      "['korte', 3.14, 9]\n"
     ]
    }
   ],
   "source": [
    "lista.append(9)                           # Elem hozzáadása\n",
    "print(lista)"
   ]
  },
  {
   "cell_type": "code",
   "execution_count": 12,
   "metadata": {},
   "outputs": [
    {
     "name": "stdout",
     "output_type": "stream",
     "text": [
      "['korte', 3.14, 9, [1, 2]]\n"
     ]
    }
   ],
   "source": [
    "lista.append([1,2])                       # A listában bármi lehet, így akár egy másik lista hozzáadható\n",
    "print(lista)"
   ]
  },
  {
   "cell_type": "code",
   "execution_count": 13,
   "metadata": {},
   "outputs": [
    {
     "name": "stdout",
     "output_type": "stream",
     "text": [
      "korte\n",
      "1\n"
     ]
    }
   ],
   "source": [
    "print(lista[0])                           # Hivatkozás lista elemére \n",
    "print(lista[3][0])                        # Hivatkozás listaelem elemére"
   ]
  },
  {
   "cell_type": "code",
   "execution_count": 14,
   "metadata": {},
   "outputs": [
    {
     "data": {
      "text/plain": [
       "False"
      ]
     },
     "execution_count": 14,
     "metadata": {},
     "output_type": "execute_result"
    }
   ],
   "source": [
    "3 in lista                                # Benne van-e egy elem a listában"
   ]
  },
  {
   "cell_type": "markdown",
   "metadata": {},
   "source": [
    "### Szótár [dict]\n",
    "Kulcs-érték párok rendezetlen halmaza (asszociatív tömb, hash tábla), ahol mind a kulcsok, mind az értékek tetszőleges egyszerű vagy összetett adattípusúak lehetnek (vegyesen is), ugyanakkor egy kulcs csak egyszer fordulhat elő."
   ]
  },
  {
   "cell_type": "code",
   "execution_count": 15,
   "metadata": {},
   "outputs": [
    {
     "name": "stdout",
     "output_type": "stream",
     "text": [
      "{'1st': 'alma', 5: 123, '2nd': 'meggy'}\n"
     ]
    }
   ],
   "source": [
    "d = {}                                                 # Üres szótár\n",
    "d['1st'] = 4                                           # Egyszerűen bővíthető\n",
    "d[5] = 123                                             # A kulcs akár szám is lehet\n",
    "d['1st'] = 'alma'                                      # Módosítható\n",
    "d['2nd'] = 'meggy'\n",
    "print(d)"
   ]
  },
  {
   "cell_type": "code",
   "execution_count": 16,
   "metadata": {},
   "outputs": [
    {
     "data": {
      "text/plain": [
       "['1st', 5, '2nd']"
      ]
     },
     "execution_count": 16,
     "metadata": {},
     "output_type": "execute_result"
    }
   ],
   "source": [
    "list(d.keys())                                         # A kulcsok listája"
   ]
  },
  {
   "cell_type": "code",
   "execution_count": 17,
   "metadata": {
    "scrolled": true
   },
   "outputs": [
    {
     "data": {
      "text/plain": [
       "['alma', 123, 'meggy']"
      ]
     },
     "execution_count": 17,
     "metadata": {},
     "output_type": "execute_result"
    }
   ],
   "source": [
    "list(d.values())"
   ]
  },
  {
   "cell_type": "markdown",
   "metadata": {},
   "source": [
    "### 2.3 Modulok, moduláris programozás\n",
    "Nagyon hosszú kód esetében érdemes az összetartozó függvényeket, osztályokat, konstansokat modulokba rendezni (így szervezett programkód: moduláris programozás). Minden érvényes python kódot tartalmazó .py nevű fájl kezelhető python modulként!\n",
    "<br>\n",
    "Nem kell nekünk feltétlen modulokat létrehozunk (objektumorientáltság), mert a python már csomó előre megírt modult = csomagot tartalmaz, amit csak importálni kell."
   ]
  },
  {
   "cell_type": "code",
   "execution_count": 18,
   "metadata": {},
   "outputs": [
    {
     "name": "stdout",
     "output_type": "stream",
     "text": [
      "3.141592653589793\n"
     ]
    },
    {
     "data": {
      "text/plain": [
       "0.8509035245341184"
      ]
     },
     "execution_count": 18,
     "metadata": {},
     "output_type": "execute_result"
    }
   ],
   "source": [
    "import math                # math modul importálása\n",
    "print(math.pi)             # pi konstans elérhető a math modulból\n",
    "math.sin(45)               # sin függvény elérhető a math modulból"
   ]
  },
  {
   "cell_type": "code",
   "execution_count": 19,
   "metadata": {
    "collapsed": true
   },
   "outputs": [
    {
     "data": {
      "text/plain": [
       "['__doc__',\n",
       " '__loader__',\n",
       " '__name__',\n",
       " '__package__',\n",
       " '__spec__',\n",
       " 'acos',\n",
       " 'acosh',\n",
       " 'asin',\n",
       " 'asinh',\n",
       " 'atan',\n",
       " 'atan2',\n",
       " 'atanh',\n",
       " 'ceil',\n",
       " 'copysign',\n",
       " 'cos',\n",
       " 'cosh',\n",
       " 'degrees',\n",
       " 'e',\n",
       " 'erf',\n",
       " 'erfc',\n",
       " 'exp',\n",
       " 'expm1',\n",
       " 'fabs',\n",
       " 'factorial',\n",
       " 'floor',\n",
       " 'fmod',\n",
       " 'frexp',\n",
       " 'fsum',\n",
       " 'gamma',\n",
       " 'gcd',\n",
       " 'hypot',\n",
       " 'inf',\n",
       " 'isclose',\n",
       " 'isfinite',\n",
       " 'isinf',\n",
       " 'isnan',\n",
       " 'ldexp',\n",
       " 'lgamma',\n",
       " 'log',\n",
       " 'log10',\n",
       " 'log1p',\n",
       " 'log2',\n",
       " 'modf',\n",
       " 'nan',\n",
       " 'pi',\n",
       " 'pow',\n",
       " 'radians',\n",
       " 'remainder',\n",
       " 'sin',\n",
       " 'sinh',\n",
       " 'sqrt',\n",
       " 'tan',\n",
       " 'tanh',\n",
       " 'tau',\n",
       " 'trunc']"
      ]
     },
     "execution_count": 19,
     "metadata": {},
     "output_type": "execute_result"
    }
   ],
   "source": [
    "\n",
    "# A modulban elérhető összes objektum neve is lekérdezhető:\n",
    "import math\n",
    "dir(math)"
   ]
  }
 ],
 "metadata": {
  "kernelspec": {
   "display_name": "Python 3",
   "language": "python",
   "name": "python3"
  },
  "language_info": {
   "codemirror_mode": {
    "name": "ipython",
    "version": 3
   },
   "file_extension": ".py",
   "mimetype": "text/x-python",
   "name": "python",
   "nbconvert_exporter": "python",
   "pygments_lexer": "ipython3",
   "version": "3.7.6"
  }
 },
 "nbformat": 4,
 "nbformat_minor": 4
}
